{
  "nbformat": 4,
  "nbformat_minor": 0,
  "metadata": {
    "colab": {
      "name": "pad1903-rnn-stooq.ipynb",
      "provenance": []
    },
    "kernelspec": {
      "name": "python3",
      "display_name": "Python 3"
    },
    "language_info": {
      "name": "python"
    }
  },
  "cells": [
    {
      "cell_type": "code",
      "execution_count": 1,
      "metadata": {
        "id": "fgOhhrWOAaF9"
      },
      "outputs": [],
      "source": [
        "import pandas as pd\n",
        "import numpy as np\n",
        "import matplotlib.pyplot as plt"
      ]
    },
    {
      "cell_type": "code",
      "source": [
        "stock_data = pd.read_csv(\"https://stooq.com/q/d/l/?s=cdr&d1=20190101&d2=20220201&i=d\")\n",
        "stock_data.head()"
      ],
      "metadata": {
        "colab": {
          "base_uri": "https://localhost:8080/",
          "height": 206
        },
        "id": "xWhyFRQ1A8aK",
        "outputId": "d308ca9f-834a-4a92-9d31-3984b8d50432"
      },
      "execution_count": 2,
      "outputs": [
        {
          "output_type": "execute_result",
          "data": {
            "text/plain": [
              "         Date    Open    High     Low   Close  Volume\n",
              "0  2019-01-02  140.66  146.36  137.46  146.07  203661\n",
              "1  2019-01-03  145.88  145.88  142.20  143.17  231128\n",
              "2  2019-01-04  143.17  145.88  143.17  145.78  169481\n",
              "3  2019-01-07  147.04  149.55  146.56  148.69  194329\n",
              "4  2019-01-08  149.45  151.58  147.04  148.59  287699"
            ],
            "text/html": [
              "\n",
              "  <div id=\"df-d1f78481-f491-4a1e-999c-83f9227e1e1f\">\n",
              "    <div class=\"colab-df-container\">\n",
              "      <div>\n",
              "<style scoped>\n",
              "    .dataframe tbody tr th:only-of-type {\n",
              "        vertical-align: middle;\n",
              "    }\n",
              "\n",
              "    .dataframe tbody tr th {\n",
              "        vertical-align: top;\n",
              "    }\n",
              "\n",
              "    .dataframe thead th {\n",
              "        text-align: right;\n",
              "    }\n",
              "</style>\n",
              "<table border=\"1\" class=\"dataframe\">\n",
              "  <thead>\n",
              "    <tr style=\"text-align: right;\">\n",
              "      <th></th>\n",
              "      <th>Date</th>\n",
              "      <th>Open</th>\n",
              "      <th>High</th>\n",
              "      <th>Low</th>\n",
              "      <th>Close</th>\n",
              "      <th>Volume</th>\n",
              "    </tr>\n",
              "  </thead>\n",
              "  <tbody>\n",
              "    <tr>\n",
              "      <th>0</th>\n",
              "      <td>2019-01-02</td>\n",
              "      <td>140.66</td>\n",
              "      <td>146.36</td>\n",
              "      <td>137.46</td>\n",
              "      <td>146.07</td>\n",
              "      <td>203661</td>\n",
              "    </tr>\n",
              "    <tr>\n",
              "      <th>1</th>\n",
              "      <td>2019-01-03</td>\n",
              "      <td>145.88</td>\n",
              "      <td>145.88</td>\n",
              "      <td>142.20</td>\n",
              "      <td>143.17</td>\n",
              "      <td>231128</td>\n",
              "    </tr>\n",
              "    <tr>\n",
              "      <th>2</th>\n",
              "      <td>2019-01-04</td>\n",
              "      <td>143.17</td>\n",
              "      <td>145.88</td>\n",
              "      <td>143.17</td>\n",
              "      <td>145.78</td>\n",
              "      <td>169481</td>\n",
              "    </tr>\n",
              "    <tr>\n",
              "      <th>3</th>\n",
              "      <td>2019-01-07</td>\n",
              "      <td>147.04</td>\n",
              "      <td>149.55</td>\n",
              "      <td>146.56</td>\n",
              "      <td>148.69</td>\n",
              "      <td>194329</td>\n",
              "    </tr>\n",
              "    <tr>\n",
              "      <th>4</th>\n",
              "      <td>2019-01-08</td>\n",
              "      <td>149.45</td>\n",
              "      <td>151.58</td>\n",
              "      <td>147.04</td>\n",
              "      <td>148.59</td>\n",
              "      <td>287699</td>\n",
              "    </tr>\n",
              "  </tbody>\n",
              "</table>\n",
              "</div>\n",
              "      <button class=\"colab-df-convert\" onclick=\"convertToInteractive('df-d1f78481-f491-4a1e-999c-83f9227e1e1f')\"\n",
              "              title=\"Convert this dataframe to an interactive table.\"\n",
              "              style=\"display:none;\">\n",
              "        \n",
              "  <svg xmlns=\"http://www.w3.org/2000/svg\" height=\"24px\"viewBox=\"0 0 24 24\"\n",
              "       width=\"24px\">\n",
              "    <path d=\"M0 0h24v24H0V0z\" fill=\"none\"/>\n",
              "    <path d=\"M18.56 5.44l.94 2.06.94-2.06 2.06-.94-2.06-.94-.94-2.06-.94 2.06-2.06.94zm-11 1L8.5 8.5l.94-2.06 2.06-.94-2.06-.94L8.5 2.5l-.94 2.06-2.06.94zm10 10l.94 2.06.94-2.06 2.06-.94-2.06-.94-.94-2.06-.94 2.06-2.06.94z\"/><path d=\"M17.41 7.96l-1.37-1.37c-.4-.4-.92-.59-1.43-.59-.52 0-1.04.2-1.43.59L10.3 9.45l-7.72 7.72c-.78.78-.78 2.05 0 2.83L4 21.41c.39.39.9.59 1.41.59.51 0 1.02-.2 1.41-.59l7.78-7.78 2.81-2.81c.8-.78.8-2.07 0-2.86zM5.41 20L4 18.59l7.72-7.72 1.47 1.35L5.41 20z\"/>\n",
              "  </svg>\n",
              "      </button>\n",
              "      \n",
              "  <style>\n",
              "    .colab-df-container {\n",
              "      display:flex;\n",
              "      flex-wrap:wrap;\n",
              "      gap: 12px;\n",
              "    }\n",
              "\n",
              "    .colab-df-convert {\n",
              "      background-color: #E8F0FE;\n",
              "      border: none;\n",
              "      border-radius: 50%;\n",
              "      cursor: pointer;\n",
              "      display: none;\n",
              "      fill: #1967D2;\n",
              "      height: 32px;\n",
              "      padding: 0 0 0 0;\n",
              "      width: 32px;\n",
              "    }\n",
              "\n",
              "    .colab-df-convert:hover {\n",
              "      background-color: #E2EBFA;\n",
              "      box-shadow: 0px 1px 2px rgba(60, 64, 67, 0.3), 0px 1px 3px 1px rgba(60, 64, 67, 0.15);\n",
              "      fill: #174EA6;\n",
              "    }\n",
              "\n",
              "    [theme=dark] .colab-df-convert {\n",
              "      background-color: #3B4455;\n",
              "      fill: #D2E3FC;\n",
              "    }\n",
              "\n",
              "    [theme=dark] .colab-df-convert:hover {\n",
              "      background-color: #434B5C;\n",
              "      box-shadow: 0px 1px 3px 1px rgba(0, 0, 0, 0.15);\n",
              "      filter: drop-shadow(0px 1px 2px rgba(0, 0, 0, 0.3));\n",
              "      fill: #FFFFFF;\n",
              "    }\n",
              "  </style>\n",
              "\n",
              "      <script>\n",
              "        const buttonEl =\n",
              "          document.querySelector('#df-d1f78481-f491-4a1e-999c-83f9227e1e1f button.colab-df-convert');\n",
              "        buttonEl.style.display =\n",
              "          google.colab.kernel.accessAllowed ? 'block' : 'none';\n",
              "\n",
              "        async function convertToInteractive(key) {\n",
              "          const element = document.querySelector('#df-d1f78481-f491-4a1e-999c-83f9227e1e1f');\n",
              "          const dataTable =\n",
              "            await google.colab.kernel.invokeFunction('convertToInteractive',\n",
              "                                                     [key], {});\n",
              "          if (!dataTable) return;\n",
              "\n",
              "          const docLinkHtml = 'Like what you see? Visit the ' +\n",
              "            '<a target=\"_blank\" href=https://colab.research.google.com/notebooks/data_table.ipynb>data table notebook</a>'\n",
              "            + ' to learn more about interactive tables.';\n",
              "          element.innerHTML = '';\n",
              "          dataTable['output_type'] = 'display_data';\n",
              "          await google.colab.output.renderOutput(dataTable, element);\n",
              "          const docLink = document.createElement('div');\n",
              "          docLink.innerHTML = docLinkHtml;\n",
              "          element.appendChild(docLink);\n",
              "        }\n",
              "      </script>\n",
              "    </div>\n",
              "  </div>\n",
              "  "
            ]
          },
          "metadata": {},
          "execution_count": 2
        }
      ]
    },
    {
      "cell_type": "code",
      "source": [
        "stock_data.Close.plot(figsize=(22,6))"
      ],
      "metadata": {
        "colab": {
          "base_uri": "https://localhost:8080/",
          "height": 360
        },
        "id": "79mvlQyhBBkY",
        "outputId": "b7845bc9-7e45-40f6-fa10-666f51736207"
      },
      "execution_count": 3,
      "outputs": [
        {
          "output_type": "execute_result",
          "data": {
            "text/plain": [
              "<matplotlib.axes._subplots.AxesSubplot at 0x7f4c65974fd0>"
            ]
          },
          "metadata": {},
          "execution_count": 3
        },
        {
          "output_type": "display_data",
          "data": {
            "text/plain": [
              "<Figure size 1584x432 with 1 Axes>"
            ],
            "image/png": "[encoded data removed]"
          },
          "metadata": {
            "needs_background": "light"
          }
        }
      ]
    },
    {
      "cell_type": "code",
      "source": [
        "close_data = stock_data[[\"Close\"]].values\n",
        "print(close_data[:5])"
      ],
      "metadata": {
        "colab": {
          "base_uri": "https://localhost:8080/"
        },
        "id": "X2C__RcbBNkG",
        "outputId": "4c77bcc9-abe4-43b7-d882-e17ac5cf8cf4"
      },
      "execution_count": 4,
      "outputs": [
        {
          "output_type": "stream",
          "name": "stdout",
          "text": [
            "[[146.07]\n",
            " [143.17]\n",
            " [145.78]\n",
            " [148.69]\n",
            " [148.59]]\n"
          ]
        }
      ]
    },
    {
      "cell_type": "code",
      "source": [
        "from sklearn.preprocessing import MinMaxScaler\n",
        "\n",
        "scaler = MinMaxScaler()\n",
        "data_scaler = scaler.fit(close_data)\n",
        "\n",
        "X = data_scaler.transform(close_data)\n",
        "print(X[:5])"
      ],
      "metadata": {
        "colab": {
          "base_uri": "https://localhost:8080/"
        },
        "id": "_z5n3VWWBpR_",
        "outputId": "1cad138b-ec54-43d0-8250-8d82f71f5f2a"
      },
      "execution_count": 5,
      "outputs": [
        {
          "output_type": "stream",
          "name": "stdout",
          "text": [
            "[[0.00951662]\n",
            " [0.        ]\n",
            " [0.00856496]\n",
            " [0.0181144 ]\n",
            " [0.01778624]]\n"
          ]
        }
      ]
    },
    {
      "cell_type": "code",
      "source": [
        "plt.plot(X)"
      ],
      "metadata": {
        "colab": {
          "base_uri": "https://localhost:8080/",
          "height": 282
        },
        "id": "u7nCbjAKB3iM",
        "outputId": "5e4c1294-258e-41ec-cb9a-6f1361484ca2"
      },
      "execution_count": 6,
      "outputs": [
        {
          "output_type": "execute_result",
          "data": {
            "text/plain": [
              "[<matplotlib.lines.Line2D at 0x7f4c56aa6710>]"
            ]
          },
          "metadata": {},
          "execution_count": 6
        },
        {
          "output_type": "display_data",
          "data": {
            "text/plain": [
              "<Figure size 432x288 with 1 Axes>"
            ],
            "image/png": "[encoded data removed]"
          },
          "metadata": {
            "needs_background": "light"
          }
        }
      ]
    },
    {
      "cell_type": "code",
      "source": [
        "time_step = 10 # liczba próbek historycznych względem próbki N\n",
        "number_of_rows = len(X)\n",
        "\n",
        "X_samples = []\n",
        "y_samples = []\n",
        "for i in range(time_step, number_of_rows):\n",
        "  x_sample = X[i-time_step:i]\n",
        "  y_sample = X[i]\n",
        "\n",
        "  X_samples.append(x_sample)\n",
        "  y_samples.append(y_sample)\n"
      ],
      "metadata": {
        "id": "RdVvmRITCkjc"
      },
      "execution_count": 7,
      "outputs": []
    },
    {
      "cell_type": "code",
      "source": [
        "X_data = np.array(X_samples)\n",
        "print(X_data.shape)\n",
        "\n",
        "y_data = np.array(y_samples)\n",
        "print(y_data.shape)"
      ],
      "metadata": {
        "colab": {
          "base_uri": "https://localhost:8080/"
        },
        "id": "WKu-NjunDA-q",
        "outputId": "fdb9ee9f-0c96-4974-bf18-3fae262d3d2c"
      },
      "execution_count": 8,
      "outputs": [
        {
          "output_type": "stream",
          "name": "stdout",
          "text": [
            "(762, 10, 1)\n",
            "(762, 1)\n"
          ]
        }
      ]
    },
    {
      "cell_type": "code",
      "source": [
        "qnty = int(len(X_data)*0.15)\n",
        "print(qnty)\n",
        "\n",
        "X_train = X_data[:-qnty]\n",
        "X_test = X_data[-qnty:]\n",
        "\n",
        "y_train = y_data[:-qnty]\n",
        "y_test = y_data[-qnty:]"
      ],
      "metadata": {
        "colab": {
          "base_uri": "https://localhost:8080/"
        },
        "id": "VL69qckLEcGE",
        "outputId": "e0ee1244-95de-4987-c05a-d80d5644cf4c"
      },
      "execution_count": 9,
      "outputs": [
        {
          "output_type": "stream",
          "name": "stdout",
          "text": [
            "114\n"
          ]
        }
      ]
    },
    {
      "cell_type": "code",
      "source": [
        "from tensorflow.keras.models import Sequential\n",
        "from tensorflow.keras.layers import Dense, LSTM\n",
        "from tensorflow.random import set_seed"
      ],
      "metadata": {
        "id": "JeDO5vQLEzrV"
      },
      "execution_count": 10,
      "outputs": []
    },
    {
      "cell_type": "code",
      "source": [
        "set_seed(42)\n",
        "\n",
        "model = Sequential()\n",
        "\n",
        "model.add( LSTM(10, activation=\"relu\", input_shape=(time_step,1), return_sequences=True) )\n",
        "\n",
        "model.add( LSTM(5, activation=\"relu\", input_shape=(time_step,1), return_sequences=True) )\n",
        "\n",
        "model.add( LSTM(5, activation=\"relu\", return_sequences=False) )\n",
        "\n",
        "model.add( Dense(1))"
      ],
      "metadata": {
        "id": "P7hZ7fNNFgdt"
      },
      "execution_count": 11,
      "outputs": []
    },
    {
      "cell_type": "code",
      "source": [
        "model.compile(optimizer=\"adam\", loss=\"mae\")"
      ],
      "metadata": {
        "id": "0R-Fnwv6FkWK"
      },
      "execution_count": 12,
      "outputs": []
    },
    {
      "cell_type": "code",
      "source": [
        "result = model.fit(X_train, y_train, epochs=150)"
      ],
      "metadata": {
        "colab": {
          "base_uri": "https://localhost:8080/"
        },
        "id": "TNTqhDt3GpsS",
        "outputId": "1754b2e9-66cf-4bae-9325-17f091332de3"
      },
      "execution_count": 13,
      "outputs": [
        {
          "output_type": "stream",
          "name": "stdout",
          "text": [
            "Epoch 1/150\n",
            "21/21 [==============================] - 10s 27ms/step - loss: 0.3862\n",
            "Epoch 2/150\n",
            "21/21 [==============================] - 1s 31ms/step - loss: 0.3634\n",
            "Epoch 3/150\n",
            "21/21 [==============================] - 1s 26ms/step - loss: 0.3410\n",
            "Epoch 4/150\n",
            "21/21 [==============================] - 1s 33ms/step - loss: 0.3142\n",
            "Epoch 5/150\n",
            "21/21 [==============================] - 1s 30ms/step - loss: 0.2700\n",
            "Epoch 6/150\n",
            "21/21 [==============================] - 1s 26ms/step - loss: 0.1487\n",
            "Epoch 7/150\n",
            "21/21 [==============================] - 1s 24ms/step - loss: 0.0870\n",
            "Epoch 8/150\n",
            "21/21 [==============================] - 1s 32ms/step - loss: 0.0751\n",
            "Epoch 9/150\n",
            "21/21 [==============================] - 1s 34ms/step - loss: 0.0745\n",
            "Epoch 10/150\n",
            "21/21 [==============================] - 1s 25ms/step - loss: 0.0691\n",
            "Epoch 11/150\n",
            "21/21 [==============================] - 1s 27ms/step - loss: 0.0645\n",
            "Epoch 12/150\n",
            "21/21 [==============================] - 0s 23ms/step - loss: 0.0605\n",
            "Epoch 13/150\n",
            "21/21 [==============================] - 1s 26ms/step - loss: 0.0553\n",
            "Epoch 14/150\n",
            "21/21 [==============================] - 1s 26ms/step - loss: 0.0525\n",
            "Epoch 15/150\n",
            "21/21 [==============================] - 1s 26ms/step - loss: 0.0495\n",
            "Epoch 16/150\n",
            "21/21 [==============================] - 1s 26ms/step - loss: 0.0492\n",
            "Epoch 17/150\n",
            "21/21 [==============================] - 1s 27ms/step - loss: 0.0458\n",
            "Epoch 18/150\n",
            "21/21 [==============================] - 1s 34ms/step - loss: 0.0452\n",
            "Epoch 19/150\n",
            "21/21 [==============================] - 1s 27ms/step - loss: 0.0441\n",
            "Epoch 20/150\n",
            "21/21 [==============================] - 1s 25ms/step - loss: 0.0463\n",
            "Epoch 21/150\n",
            "21/21 [==============================] - 1s 28ms/step - loss: 0.0425\n",
            "Epoch 22/150\n",
            "21/21 [==============================] - 0s 21ms/step - loss: 0.0422\n",
            "Epoch 23/150\n",
            "21/21 [==============================] - 0s 23ms/step - loss: 0.0394\n",
            "Epoch 24/150\n",
            "21/21 [==============================] - 0s 16ms/step - loss: 0.0389\n",
            "Epoch 25/150\n",
            "21/21 [==============================] - 0s 16ms/step - loss: 0.0380\n",
            "Epoch 26/150\n",
            "21/21 [==============================] - 0s 15ms/step - loss: 0.0368\n",
            "Epoch 27/150\n",
            "21/21 [==============================] - 0s 16ms/step - loss: 0.0379\n",
            "Epoch 28/150\n",
            "21/21 [==============================] - 0s 16ms/step - loss: 0.0362\n",
            "Epoch 29/150\n",
            "21/21 [==============================] - 0s 16ms/step - loss: 0.0374\n",
            "Epoch 30/150\n",
            "21/21 [==============================] - 0s 16ms/step - loss: 0.0353\n",
            "Epoch 31/150\n",
            "21/21 [==============================] - 0s 16ms/step - loss: 0.0357\n",
            "Epoch 32/150\n",
            "21/21 [==============================] - 0s 16ms/step - loss: 0.0365\n",
            "Epoch 33/150\n",
            "21/21 [==============================] - 0s 15ms/step - loss: 0.0352\n",
            "Epoch 34/150\n",
            "21/21 [==============================] - 0s 15ms/step - loss: 0.0355\n",
            "Epoch 35/150\n",
            "21/21 [==============================] - 0s 15ms/step - loss: 0.0351\n",
            "Epoch 36/150\n",
            "21/21 [==============================] - 0s 16ms/step - loss: 0.0360\n",
            "Epoch 37/150\n",
            "21/21 [==============================] - 0s 16ms/step - loss: 0.0361\n",
            "Epoch 38/150\n",
            "21/21 [==============================] - 0s 17ms/step - loss: 0.0338\n",
            "Epoch 39/150\n",
            "21/21 [==============================] - 0s 16ms/step - loss: 0.0354\n",
            "Epoch 40/150\n",
            "21/21 [==============================] - 0s 16ms/step - loss: 0.0346\n",
            "Epoch 41/150\n",
            "21/21 [==============================] - 0s 16ms/step - loss: 0.0334\n",
            "Epoch 42/150\n",
            "21/21 [==============================] - 0s 16ms/step - loss: 0.0328\n",
            "Epoch 43/150\n",
            "21/21 [==============================] - 0s 16ms/step - loss: 0.0353\n",
            "Epoch 44/150\n",
            "21/21 [==============================] - 0s 15ms/step - loss: 0.0342\n",
            "Epoch 45/150\n",
            "21/21 [==============================] - 0s 14ms/step - loss: 0.0337\n",
            "Epoch 46/150\n",
            "21/21 [==============================] - 0s 15ms/step - loss: 0.0332\n",
            "Epoch 47/150\n",
            "21/21 [==============================] - 0s 14ms/step - loss: 0.0332\n",
            "Epoch 48/150\n",
            "21/21 [==============================] - 0s 16ms/step - loss: 0.0349\n",
            "Epoch 49/150\n",
            "21/21 [==============================] - 0s 16ms/step - loss: 0.0329\n",
            "Epoch 50/150\n",
            "21/21 [==============================] - 0s 16ms/step - loss: 0.0318\n",
            "Epoch 51/150\n",
            "21/21 [==============================] - 0s 16ms/step - loss: 0.0327\n",
            "Epoch 52/150\n",
            "21/21 [==============================] - 0s 16ms/step - loss: 0.0319\n",
            "Epoch 53/150\n",
            "21/21 [==============================] - 0s 16ms/step - loss: 0.0331\n",
            "Epoch 54/150\n",
            "21/21 [==============================] - 0s 15ms/step - loss: 0.0344\n",
            "Epoch 55/150\n",
            "21/21 [==============================] - 0s 16ms/step - loss: 0.0313\n",
            "Epoch 56/150\n",
            "21/21 [==============================] - 0s 16ms/step - loss: 0.0315\n",
            "Epoch 57/150\n",
            "21/21 [==============================] - 0s 16ms/step - loss: 0.0318\n",
            "Epoch 58/150\n",
            "21/21 [==============================] - 0s 16ms/step - loss: 0.0321\n",
            "Epoch 59/150\n",
            "21/21 [==============================] - 0s 16ms/step - loss: 0.0311\n",
            "Epoch 60/150\n",
            "21/21 [==============================] - 0s 15ms/step - loss: 0.0315\n",
            "Epoch 61/150\n",
            "21/21 [==============================] - 0s 16ms/step - loss: 0.0313\n",
            "Epoch 62/150\n",
            "21/21 [==============================] - 0s 16ms/step - loss: 0.0329\n",
            "Epoch 63/150\n",
            "21/21 [==============================] - 0s 15ms/step - loss: 0.0332\n",
            "Epoch 64/150\n",
            "21/21 [==============================] - 0s 16ms/step - loss: 0.0334\n",
            "Epoch 65/150\n",
            "21/21 [==============================] - 0s 16ms/step - loss: 0.0329\n",
            "Epoch 66/150\n",
            "21/21 [==============================] - 0s 15ms/step - loss: 0.0306\n",
            "Epoch 67/150\n",
            "21/21 [==============================] - 0s 16ms/step - loss: 0.0309\n",
            "Epoch 68/150\n",
            "21/21 [==============================] - 0s 16ms/step - loss: 0.0316\n",
            "Epoch 69/150\n",
            "21/21 [==============================] - 0s 16ms/step - loss: 0.0312\n",
            "Epoch 70/150\n",
            "21/21 [==============================] - 0s 17ms/step - loss: 0.0321\n",
            "Epoch 71/150\n",
            "21/21 [==============================] - 0s 16ms/step - loss: 0.0321\n",
            "Epoch 72/150\n",
            "21/21 [==============================] - 0s 15ms/step - loss: 0.0310\n",
            "Epoch 73/150\n",
            "21/21 [==============================] - 0s 16ms/step - loss: 0.0302\n",
            "Epoch 74/150\n",
            "21/21 [==============================] - 0s 16ms/step - loss: 0.0318\n",
            "Epoch 75/150\n",
            "21/21 [==============================] - 0s 14ms/step - loss: 0.0298\n",
            "Epoch 76/150\n",
            "21/21 [==============================] - 0s 14ms/step - loss: 0.0340\n",
            "Epoch 77/150\n",
            "21/21 [==============================] - 0s 14ms/step - loss: 0.0306\n",
            "Epoch 78/150\n",
            "21/21 [==============================] - 0s 15ms/step - loss: 0.0310\n",
            "Epoch 79/150\n",
            "21/21 [==============================] - 0s 16ms/step - loss: 0.0305\n",
            "Epoch 80/150\n",
            "21/21 [==============================] - 0s 16ms/step - loss: 0.0343\n",
            "Epoch 81/150\n",
            "21/21 [==============================] - 0s 15ms/step - loss: 0.0306\n",
            "Epoch 82/150\n",
            "21/21 [==============================] - 0s 17ms/step - loss: 0.0305\n",
            "Epoch 83/150\n",
            "21/21 [==============================] - 0s 16ms/step - loss: 0.0299\n",
            "Epoch 84/150\n",
            "21/21 [==============================] - 0s 14ms/step - loss: 0.0300\n",
            "Epoch 85/150\n",
            "21/21 [==============================] - 0s 14ms/step - loss: 0.0297\n",
            "Epoch 86/150\n",
            "21/21 [==============================] - 0s 14ms/step - loss: 0.0292\n",
            "Epoch 87/150\n",
            "21/21 [==============================] - 0s 14ms/step - loss: 0.0304\n",
            "Epoch 88/150\n",
            "21/21 [==============================] - 0s 15ms/step - loss: 0.0299\n",
            "Epoch 89/150\n",
            "21/21 [==============================] - 0s 16ms/step - loss: 0.0318\n",
            "Epoch 90/150\n",
            "21/21 [==============================] - 0s 15ms/step - loss: 0.0341\n",
            "Epoch 91/150\n",
            "21/21 [==============================] - 0s 13ms/step - loss: 0.0315\n",
            "Epoch 92/150\n",
            "21/21 [==============================] - 0s 15ms/step - loss: 0.0302\n",
            "Epoch 93/150\n",
            "21/21 [==============================] - 0s 14ms/step - loss: 0.0303\n",
            "Epoch 94/150\n",
            "21/21 [==============================] - 0s 13ms/step - loss: 0.0303\n",
            "Epoch 95/150\n",
            "21/21 [==============================] - 0s 14ms/step - loss: 0.0296\n",
            "Epoch 96/150\n",
            "21/21 [==============================] - 0s 15ms/step - loss: 0.0289\n",
            "Epoch 97/150\n",
            "21/21 [==============================] - 0s 15ms/step - loss: 0.0298\n",
            "Epoch 98/150\n",
            "21/21 [==============================] - 0s 16ms/step - loss: 0.0312\n",
            "Epoch 99/150\n",
            "21/21 [==============================] - 0s 15ms/step - loss: 0.0302\n",
            "Epoch 100/150\n",
            "21/21 [==============================] - 0s 15ms/step - loss: 0.0342\n",
            "Epoch 101/150\n",
            "21/21 [==============================] - 0s 14ms/step - loss: 0.0294\n",
            "Epoch 102/150\n",
            "21/21 [==============================] - 0s 14ms/step - loss: 0.0292\n",
            "Epoch 103/150\n",
            "21/21 [==============================] - 0s 15ms/step - loss: 0.0298\n",
            "Epoch 104/150\n",
            "21/21 [==============================] - 0s 14ms/step - loss: 0.0296\n",
            "Epoch 105/150\n",
            "21/21 [==============================] - 0s 14ms/step - loss: 0.0302\n",
            "Epoch 106/150\n",
            "21/21 [==============================] - 0s 13ms/step - loss: 0.0295\n",
            "Epoch 107/150\n",
            "21/21 [==============================] - 0s 14ms/step - loss: 0.0304\n",
            "Epoch 108/150\n",
            "21/21 [==============================] - 0s 16ms/step - loss: 0.0319\n",
            "Epoch 109/150\n",
            "21/21 [==============================] - 0s 16ms/step - loss: 0.0302\n",
            "Epoch 110/150\n",
            "21/21 [==============================] - 0s 16ms/step - loss: 0.0287\n",
            "Epoch 111/150\n",
            "21/21 [==============================] - 0s 17ms/step - loss: 0.0287\n",
            "Epoch 112/150\n",
            "21/21 [==============================] - 0s 15ms/step - loss: 0.0285\n",
            "Epoch 113/150\n",
            "21/21 [==============================] - 0s 15ms/step - loss: 0.0292\n",
            "Epoch 114/150\n",
            "21/21 [==============================] - 0s 16ms/step - loss: 0.0292\n",
            "Epoch 115/150\n",
            "21/21 [==============================] - 0s 15ms/step - loss: 0.0284\n",
            "Epoch 116/150\n",
            "21/21 [==============================] - 0s 15ms/step - loss: 0.0302\n",
            "Epoch 117/150\n",
            "21/21 [==============================] - 0s 15ms/step - loss: 0.0295\n",
            "Epoch 118/150\n",
            "21/21 [==============================] - 0s 14ms/step - loss: 0.0287\n",
            "Epoch 119/150\n",
            "21/21 [==============================] - 0s 15ms/step - loss: 0.0300\n",
            "Epoch 120/150\n",
            "21/21 [==============================] - 0s 16ms/step - loss: 0.0311\n",
            "Epoch 121/150\n",
            "21/21 [==============================] - 0s 16ms/step - loss: 0.0284\n",
            "Epoch 122/150\n",
            "21/21 [==============================] - 0s 15ms/step - loss: 0.0295\n",
            "Epoch 123/150\n",
            "21/21 [==============================] - 0s 14ms/step - loss: 0.0292\n",
            "Epoch 124/150\n",
            "21/21 [==============================] - 0s 14ms/step - loss: 0.0279\n",
            "Epoch 125/150\n",
            "21/21 [==============================] - 0s 14ms/step - loss: 0.0281\n",
            "Epoch 126/150\n",
            "21/21 [==============================] - 0s 14ms/step - loss: 0.0289\n",
            "Epoch 127/150\n",
            "21/21 [==============================] - 0s 14ms/step - loss: 0.0284\n",
            "Epoch 128/150\n",
            "21/21 [==============================] - 0s 13ms/step - loss: 0.0277\n",
            "Epoch 129/150\n",
            "21/21 [==============================] - 0s 14ms/step - loss: 0.0285\n",
            "Epoch 130/150\n",
            "21/21 [==============================] - 0s 14ms/step - loss: 0.0281\n",
            "Epoch 131/150\n",
            "21/21 [==============================] - 0s 14ms/step - loss: 0.0285\n",
            "Epoch 132/150\n",
            "21/21 [==============================] - 0s 14ms/step - loss: 0.0279\n",
            "Epoch 133/150\n",
            "21/21 [==============================] - 0s 15ms/step - loss: 0.0293\n",
            "Epoch 134/150\n",
            "21/21 [==============================] - 0s 15ms/step - loss: 0.0278\n",
            "Epoch 135/150\n",
            "21/21 [==============================] - 0s 15ms/step - loss: 0.0280\n",
            "Epoch 136/150\n",
            "21/21 [==============================] - 0s 14ms/step - loss: 0.0275\n",
            "Epoch 137/150\n",
            "21/21 [==============================] - 0s 13ms/step - loss: 0.0296\n",
            "Epoch 138/150\n",
            "21/21 [==============================] - 0s 14ms/step - loss: 0.0290\n",
            "Epoch 139/150\n",
            "21/21 [==============================] - 0s 14ms/step - loss: 0.0275\n",
            "Epoch 140/150\n",
            "21/21 [==============================] - 0s 16ms/step - loss: 0.0274\n",
            "Epoch 141/150\n",
            "21/21 [==============================] - 0s 16ms/step - loss: 0.0289\n",
            "Epoch 142/150\n",
            "21/21 [==============================] - 0s 16ms/step - loss: 0.0299\n",
            "Epoch 143/150\n",
            "21/21 [==============================] - 0s 16ms/step - loss: 0.0308\n",
            "Epoch 144/150\n",
            "21/21 [==============================] - 0s 16ms/step - loss: 0.0285\n",
            "Epoch 145/150\n",
            "21/21 [==============================] - 0s 15ms/step - loss: 0.0280\n",
            "Epoch 146/150\n",
            "21/21 [==============================] - 0s 14ms/step - loss: 0.0273\n",
            "Epoch 147/150\n",
            "21/21 [==============================] - 0s 14ms/step - loss: 0.0266\n",
            "Epoch 148/150\n",
            "21/21 [==============================] - 0s 14ms/step - loss: 0.0277\n",
            "Epoch 149/150\n",
            "21/21 [==============================] - 0s 14ms/step - loss: 0.0292\n",
            "Epoch 150/150\n",
            "21/21 [==============================] - 0s 14ms/step - loss: 0.0292\n"
          ]
        }
      ]
    },
    {
      "cell_type": "code",
      "source": [
        "pd.DataFrame(result.history).plot()"
      ],
      "metadata": {
        "colab": {
          "base_uri": "https://localhost:8080/",
          "height": 284
        },
        "id": "mfXY44xUGxEM",
        "outputId": "91b994d8-dc83-4cf2-c2e3-cbd558cea7d1"
      },
      "execution_count": 14,
      "outputs": [
        {
          "output_type": "execute_result",
          "data": {
            "text/plain": [
              "<matplotlib.axes._subplots.AxesSubplot at 0x7f4be9fadf50>"
            ]
          },
          "metadata": {},
          "execution_count": 14
        },
        {
          "output_type": "display_data",
          "data": {
            "text/plain": [
              "<Figure size 432x288 with 1 Axes>"
            ],
            "image/png": "[encoded data removed]"
          },
          "metadata": {
            "needs_background": "light"
          }
        }
      ]
    },
    {
      "cell_type": "code",
      "source": [
        "last10d = data_scaler.transform( close_data[-time_step:] )\n",
        "x =  last10d.reshape( (1,)+last10d.shape)\n",
        "x.shape"
      ],
      "metadata": {
        "colab": {
          "base_uri": "https://localhost:8080/"
        },
        "id": "mMvnEaDwHJCJ",
        "outputId": "ac5563f0-6550-4b15-8558-f1b940df76e6"
      },
      "execution_count": 15,
      "outputs": [
        {
          "output_type": "execute_result",
          "data": {
            "text/plain": [
              "(1, 10, 1)"
            ]
          },
          "metadata": {},
          "execution_count": 15
        }
      ]
    },
    {
      "cell_type": "code",
      "source": [
        "data_scaler.inverse_transform( model.predict(x) )"
      ],
      "metadata": {
        "colab": {
          "base_uri": "https://localhost:8080/"
        },
        "id": "3uhjHks4HwDF",
        "outputId": "42968997-f4a0-4733-cbe8-b6834c1d0d77"
      },
      "execution_count": 16,
      "outputs": [
        {
          "output_type": "execute_result",
          "data": {
            "text/plain": [
              "array([[173.90826]], dtype=float32)"
            ]
          },
          "metadata": {},
          "execution_count": 16
        }
      ]
    },
    {
      "cell_type": "code",
      "source": [
        "185 / 174 "
      ],
      "metadata": {
        "colab": {
          "base_uri": "https://localhost:8080/"
        },
        "id": "Ljz-vPdiIXoi",
        "outputId": "6672d63a-d6d6-4587-d29a-04bf9e6bda39"
      },
      "execution_count": 17,
      "outputs": [
        {
          "output_type": "execute_result",
          "data": {
            "text/plain": [
              "1.0632183908045978"
            ]
          },
          "metadata": {},
          "execution_count": 17
        }
      ]
    },
    {
      "cell_type": "code",
      "source": [
        ""
      ],
      "metadata": {
        "id": "zT42abdEJeAf"
      },
      "execution_count": null,
      "outputs": []
    }
  ]
}