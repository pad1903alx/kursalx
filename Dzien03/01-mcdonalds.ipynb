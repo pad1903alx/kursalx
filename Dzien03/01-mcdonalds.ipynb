{
 "cells": [
  {
   "cell_type": "code",
   "execution_count": 17,
   "id": "4706db1d",
   "metadata": {},
   "outputs": [],
   "source": [
    "import pandas as pd"
   ]
  },
  {
   "cell_type": "code",
   "execution_count": 18,
   "id": "809a1668",
   "metadata": {},
   "outputs": [
    {
     "data": {
      "text/html": [
       "<div>\n",
       "<style scoped>\n",
       "    .dataframe tbody tr th:only-of-type {\n",
       "        vertical-align: middle;\n",
       "    }\n",
       "\n",
       "    .dataframe tbody tr th {\n",
       "        vertical-align: top;\n",
       "    }\n",
       "\n",
       "    .dataframe thead th {\n",
       "        text-align: right;\n",
       "    }\n",
       "</style>\n",
       "<table border=\"1\" class=\"dataframe\">\n",
       "  <thead>\n",
       "    <tr style=\"text-align: right;\">\n",
       "      <th></th>\n",
       "      <th>Serving Size</th>\n",
       "    </tr>\n",
       "    <tr>\n",
       "      <th>Item</th>\n",
       "      <th></th>\n",
       "    </tr>\n",
       "  </thead>\n",
       "  <tbody>\n",
       "    <tr>\n",
       "      <th>Egg McMuffin</th>\n",
       "      <td>4.8 oz (136 g)</td>\n",
       "    </tr>\n",
       "    <tr>\n",
       "      <th>Egg White Delight</th>\n",
       "      <td>4.8 oz (135 g)</td>\n",
       "    </tr>\n",
       "    <tr>\n",
       "      <th>Sausage McMuffin</th>\n",
       "      <td>3.9 oz (111 g)</td>\n",
       "    </tr>\n",
       "    <tr>\n",
       "      <th>Sausage McMuffin with Egg</th>\n",
       "      <td>5.7 oz (161 g)</td>\n",
       "    </tr>\n",
       "    <tr>\n",
       "      <th>Sausage McMuffin with Egg Whites</th>\n",
       "      <td>5.7 oz (161 g)</td>\n",
       "    </tr>\n",
       "    <tr>\n",
       "      <th>...</th>\n",
       "      <td>...</td>\n",
       "    </tr>\n",
       "    <tr>\n",
       "      <th>McFlurry with Oreo Cookies (Small)</th>\n",
       "      <td>10.1 oz (285 g)</td>\n",
       "    </tr>\n",
       "    <tr>\n",
       "      <th>McFlurry with Oreo Cookies (Medium)</th>\n",
       "      <td>13.4 oz (381 g)</td>\n",
       "    </tr>\n",
       "    <tr>\n",
       "      <th>McFlurry with Oreo Cookies (Snack)</th>\n",
       "      <td>6.7 oz (190 g)</td>\n",
       "    </tr>\n",
       "    <tr>\n",
       "      <th>McFlurry with Reese's Peanut Butter Cups (Medium)</th>\n",
       "      <td>14.2 oz (403 g)</td>\n",
       "    </tr>\n",
       "    <tr>\n",
       "      <th>McFlurry with Reese's Peanut Butter Cups (Snack)</th>\n",
       "      <td>7.1 oz (202 g)</td>\n",
       "    </tr>\n",
       "  </tbody>\n",
       "</table>\n",
       "<p>260 rows × 1 columns</p>\n",
       "</div>"
      ],
      "text/plain": [
       "                                                      Serving Size\n",
       "Item                                                              \n",
       "Egg McMuffin                                        4.8 oz (136 g)\n",
       "Egg White Delight                                   4.8 oz (135 g)\n",
       "Sausage McMuffin                                    3.9 oz (111 g)\n",
       "Sausage McMuffin with Egg                           5.7 oz (161 g)\n",
       "Sausage McMuffin with Egg Whites                    5.7 oz (161 g)\n",
       "...                                                            ...\n",
       "McFlurry with Oreo Cookies (Small)                 10.1 oz (285 g)\n",
       "McFlurry with Oreo Cookies (Medium)                13.4 oz (381 g)\n",
       "McFlurry with Oreo Cookies (Snack)                  6.7 oz (190 g)\n",
       "McFlurry with Reese's Peanut Butter Cups (Medium)  14.2 oz (403 g)\n",
       "McFlurry with Reese's Peanut Butter Cups (Snack)    7.1 oz (202 g)\n",
       "\n",
       "[260 rows x 1 columns]"
      ]
     },
     "execution_count": 18,
     "metadata": {},
     "output_type": "execute_result"
    }
   ],
   "source": [
    "df = pd.read_csv(\"http://51.91.120.89/extras/mcdonalds.csv\", \n",
    "                 index_col=[\"Item\"], usecols=[\"Item\",\"Serving Size\"])\n",
    "df"
   ]
  },
  {
   "cell_type": "code",
   "execution_count": 19,
   "id": "ea86c268",
   "metadata": {},
   "outputs": [
    {
     "data": {
      "text/plain": [
       "array(['4.8 oz (136 g)', '4.8 oz (135 g)', '3.9 oz (111 g)',\n",
       "       '5.7 oz (161 g)', '6.5 oz (185 g)', '5.3 oz (150 g)',\n",
       "       '5.8 oz (164 g)', '5.4 oz (153 g)', '5.9 oz (167 g)',\n",
       "       '4.1 oz (117 g)', '4.6 oz (131 g)', '5.7 oz (163 g)',\n",
       "       '6.2 oz (177 g)', '6.4 oz (181 g)', '5 oz (143 g)',\n",
       "       '5.5 oz (157 g)', '7.1 oz (201 g)', '6.1 oz (174 g)',\n",
       "       '6.3 oz (178 g)', '5 oz (141 g)', '7.2 oz (205 g)',\n",
       "       '6.9 oz (197 g)', '8.5 oz (241 g)', '9.5 oz (269 g)',\n",
       "       '10 oz (283 g)', '9.6 oz (272 g)', '10.1 oz (286 g)',\n",
       "       '14.8 oz (420 g)', '15.3 oz (434 g)', '14.9 oz (423 g)',\n",
       "       '15.4 oz (437 g)', '5.3 oz (151 g)', '6.8 oz (192 g)',\n",
       "       '2 oz (56 g)', '4 oz (114 g)', '9.6 oz (251 g)', '7.4 oz (211 g)',\n",
       "       '7.1 oz (202 g)', '8 oz (227 g)', '8.3 oz (235 g)',\n",
       "       '8.6 oz (244 g)', '3.5 oz (98 g)', '4 oz (113 g)',\n",
       "       '9.5 oz (270 g)', '5.2 oz (147 g)', '6.7 oz (190 g)',\n",
       "       '5.6 oz (159 g)', '7.3 oz (208 g)', '7.5 oz (213 g)',\n",
       "       '7 oz (200 g)', '8.8 oz (249 g)', '8.1 oz (230 g)',\n",
       "       '7.6 oz (217 g)', '10 oz (284 g)', '5.6 oz (160 g)',\n",
       "       '5.1 oz (143 g)', '6 oz (171 g)', '5.2 oz (148 g)',\n",
       "       '11.1 oz (316 g)', '10.7 oz (302 g)', '10.9 oz (310 g)',\n",
       "       '10.5 oz (297 g)', '11.1 oz (314 g)', '11.2 oz (318 g)',\n",
       "       '10.7 oz (304 g)', '10.3 oz (291 g)', '2.3 oz (65 g)',\n",
       "       '3.4 oz (97 g)', '5.7 oz (162 g)', '11.4 oz (323 g)',\n",
       "       '22.8 oz (646 g)', '5 oz (142 g)', '7.9 oz (223 g)',\n",
       "       '9 oz (255 g)', '12.3 oz (348 g)', '11.8 oz (335 g)',\n",
       "       '4.6 oz (130 g)', '4.3 oz (123 g)', '4.1 oz (116 g)',\n",
       "       '4.5 oz (128 g)', '4.3 oz (121 g)', '2.6 oz (75 g)',\n",
       "       '5.9 oz (168 g)', '1.3 oz (38 g)', '3.1 oz (87 g)',\n",
       "       '1.2 oz (34 g)', '5.2 oz (149 g)', '2.7 oz (77 g)',\n",
       "       '1 cookie (33 g)', '1 oz (29 g)', '6.3 oz (179 g)',\n",
       "       '6.4 oz (182 g)', '16 fl oz cup', '21 fl oz cup', '30 fl oz cup',\n",
       "       '12 fl oz cup', '1 carton (236 ml)', '6 fl oz (177 ml)',\n",
       "       '22 fl oz cup', '16.9 fl oz', '20 fl oz cup', '32 fl oz cup',\n",
       "       '16.2 oz (460 g)', '7.3 oz (207 g)', '10.1 oz (285 g)',\n",
       "       '13.4 oz (381 g)', '14.2 oz (403 g)'], dtype=object)"
      ]
     },
     "execution_count": 19,
     "metadata": {},
     "output_type": "execute_result"
    }
   ],
   "source": [
    "df[\"Serving Size\"].unique()"
   ]
  },
  {
   "cell_type": "code",
   "execution_count": 20,
   "id": "1afd4475",
   "metadata": {},
   "outputs": [
    {
     "data": {
      "text/plain": [
       "'30 fl oz cup'"
      ]
     },
     "execution_count": 20,
     "metadata": {},
     "output_type": "execute_result"
    }
   ],
   "source": [
    "# '4.8 oz (135 g)'\n",
    "def to_gram1(s):\n",
    "    if not \"g)\" in s:\n",
    "        return s\n",
    "    _ , gr = s.split(\"(\")\n",
    "    return gr.replace(\" g)\",\"\")\n",
    "\n",
    "to_gram1('30 fl oz cup')"
   ]
  },
  {
   "cell_type": "code",
   "execution_count": 21,
   "id": "80f07b9e",
   "metadata": {},
   "outputs": [
    {
     "name": "stdout",
     "output_type": "stream",
     "text": [
      "505 µs ± 80.2 µs per loop (mean ± std. dev. of 10 runs, 1000 loops each)\n"
     ]
    }
   ],
   "source": [
    "%%timeit -r 10 -n 1000\n",
    "df[\"Serving Size\"].apply(to_gram1)"
   ]
  },
  {
   "cell_type": "code",
   "execution_count": 22,
   "id": "9bb17435",
   "metadata": {},
   "outputs": [
    {
     "data": {
      "text/plain": [
       "'6 fl oz (177 ml)'"
      ]
     },
     "execution_count": 22,
     "metadata": {},
     "output_type": "execute_result"
    }
   ],
   "source": [
    "def to_gram2(s):\n",
    "    if not \"g)\" in s:\n",
    "        return s\n",
    "    ix1 = s.find(\"(\")\n",
    "    if ix1<0: return s\n",
    "    ix2 = s.find(\" g)\")\n",
    "    if ix2<0: return s\n",
    "    return s[ix1+1:ix2]\n",
    "\n",
    "to_gram2('6 fl oz (177 ml)')"
   ]
  },
  {
   "cell_type": "code",
   "execution_count": 23,
   "id": "c0f927bd",
   "metadata": {},
   "outputs": [
    {
     "name": "stdout",
     "output_type": "stream",
     "text": [
      "610 µs ± 105 µs per loop (mean ± std. dev. of 10 runs, 1000 loops each)\n"
     ]
    }
   ],
   "source": [
    "%%timeit -r 10 -n 1000\n",
    "df[\"Serving Size\"].apply(to_gram2)"
   ]
  },
  {
   "cell_type": "code",
   "execution_count": null,
   "id": "0998e20a",
   "metadata": {},
   "outputs": [],
   "source": []
  }
 ],
 "metadata": {
  "kernelspec": {
   "display_name": "Python 3 (ipykernel)",
   "language": "python",
   "name": "python3"
  },
  "language_info": {
   "codemirror_mode": {
    "name": "ipython",
    "version": 3
   },
   "file_extension": ".py",
   "mimetype": "text/x-python",
   "name": "python",
   "nbconvert_exporter": "python",
   "pygments_lexer": "ipython3",
   "version": "3.9.7"
  }
 },
 "nbformat": 4,
 "nbformat_minor": 5
}
