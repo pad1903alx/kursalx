{
 "cells": [
  {
   "cell_type": "code",
   "execution_count": 1,
   "id": "81b7bcfd",
   "metadata": {},
   "outputs": [],
   "source": [
    "import pandas as pd"
   ]
  },
  {
   "cell_type": "code",
   "execution_count": 2,
   "id": "8575d588",
   "metadata": {},
   "outputs": [
    {
     "data": {
      "text/plain": [
       "'1.3.4'"
      ]
     },
     "execution_count": 2,
     "metadata": {},
     "output_type": "execute_result"
    }
   ],
   "source": [
    "pd.__version__"
   ]
  },
  {
   "cell_type": "code",
   "execution_count": 3,
   "id": "d2f25d53",
   "metadata": {},
   "outputs": [
    {
     "data": {
      "text/plain": [
       "0       Gdańsk\n",
       "1       Poznań\n",
       "2     Warszawa\n",
       "3         Łódź\n",
       "4    Sosnowiec\n",
       "5      Wrocław\n",
       "6       Kraków\n",
       "7    Białystok\n",
       "dtype: object"
      ]
     },
     "execution_count": 3,
     "metadata": {},
     "output_type": "execute_result"
    }
   ],
   "source": [
    "cities = [\"Gdańsk\",\"Poznań\",\"Warszawa\",\"Łódź\",\"Sosnowiec\",\"Wrocław\",\"Kraków\",\"Białystok\"]\n",
    "series_cities = pd.Series(cities)\n",
    "series_cities"
   ]
  },
  {
   "cell_type": "code",
   "execution_count": 4,
   "id": "abcbcc74",
   "metadata": {},
   "outputs": [
    {
     "data": {
      "text/plain": [
       "array(['Gdańsk', 'Poznań', 'Warszawa', 'Łódź', 'Sosnowiec', 'Wrocław',\n",
       "       'Kraków', 'Białystok'], dtype=object)"
      ]
     },
     "execution_count": 4,
     "metadata": {},
     "output_type": "execute_result"
    }
   ],
   "source": [
    "series_cities.values"
   ]
  },
  {
   "cell_type": "code",
   "execution_count": 6,
   "id": "c48c0b9b",
   "metadata": {},
   "outputs": [
    {
     "data": {
      "text/plain": [
       "[0, 1, 2, 3, 4, 5, 6, 7]"
      ]
     },
     "execution_count": 6,
     "metadata": {},
     "output_type": "execute_result"
    }
   ],
   "source": [
    "list( series_cities.index )"
   ]
  },
  {
   "cell_type": "code",
   "execution_count": 11,
   "id": "35609aa4",
   "metadata": {},
   "outputs": [
    {
     "data": {
      "text/plain": [
       "GD       Gdańsk\n",
       "PO       Poznań\n",
       "WI     Warszawa\n",
       "EL         Łódź\n",
       "SO    Sosnowiec\n",
       "DW      Wrocław\n",
       "KR       Kraków\n",
       "BI    Białystok\n",
       "dtype: object"
      ]
     },
     "execution_count": 11,
     "metadata": {},
     "output_type": "execute_result"
    }
   ],
   "source": [
    "cities = [\"Gdańsk\",\"Poznań\",\"Warszawa\",\"Łódź\",\"Sosnowiec\",\"Wrocław\",\"Kraków\",\"Białystok\"]\n",
    "plates = [\"GD\", \"PO\", \"WI\", \"EL\", \"SO\", \"DW\", \"KR\", \"BI\"]\n",
    "series_cities = pd.Series(index=plates, data=cities)\n",
    "series_cities"
   ]
  },
  {
   "cell_type": "code",
   "execution_count": 12,
   "id": "f2bda397",
   "metadata": {},
   "outputs": [
    {
     "data": {
      "text/plain": [
       "Index(['GD', 'PO', 'WI', 'EL', 'SO', 'DW', 'KR', 'BI'], dtype='object')"
      ]
     },
     "execution_count": 12,
     "metadata": {},
     "output_type": "execute_result"
    }
   ],
   "source": [
    "series_cities.index"
   ]
  },
  {
   "cell_type": "code",
   "execution_count": 14,
   "id": "d982386f",
   "metadata": {},
   "outputs": [
    {
     "data": {
      "text/plain": [
       "Poland       37123456\n",
       "UK           62876444\n",
       "USA         320123666\n",
       "Germany      80123888\n",
       "Francja      55123999\n",
       "Indie      1520456890\n",
       "dtype: int64"
      ]
     },
     "execution_count": 14,
     "metadata": {},
     "output_type": "execute_result"
    }
   ],
   "source": [
    "countries = [ \"Poland\",\"UK\",\"USA\",\"Germany\",\"Francja\",\"Indie\" ]\n",
    "population = [ 37_123_456, 62_876_444, 320_123_666, 80_123_888, 55_123_999, 1_520_456_890  ]\n",
    "countries_series = pd.Series(index=countries, data=population)\n",
    "countries_series"
   ]
  },
  {
   "cell_type": "code",
   "execution_count": 16,
   "id": "8a2bacee",
   "metadata": {},
   "outputs": [
    {
     "data": {
      "text/plain": [
       "USA       320123666\n",
       "Indie    1520456890\n",
       "dtype: int64"
      ]
     },
     "execution_count": 16,
     "metadata": {},
     "output_type": "execute_result"
    }
   ],
   "source": [
    "countries_series[ countries_series > 100_000_000 ]"
   ]
  },
  {
   "cell_type": "code",
   "execution_count": 17,
   "id": "9da0a3db",
   "metadata": {},
   "outputs": [
    {
     "data": {
      "text/plain": [
       "Poland      37123456\n",
       "Indie     1520456890\n",
       "dtype: int64"
      ]
     },
     "execution_count": 17,
     "metadata": {},
     "output_type": "execute_result"
    }
   ],
   "source": [
    "countries_series[ (countries_series<50_000_000)|(countries_series>1E9) ]"
   ]
  },
  {
   "cell_type": "code",
   "execution_count": 18,
   "id": "0dcd1861",
   "metadata": {},
   "outputs": [
    {
     "data": {
      "text/plain": [
       "Poland       37123456\n",
       "UK           62876444\n",
       "USA         320123666\n",
       "Germany      80123888\n",
       "Francja      55123999\n",
       "Indie      1520456890\n",
       "dtype: int64"
      ]
     },
     "execution_count": 18,
     "metadata": {},
     "output_type": "execute_result"
    }
   ],
   "source": [
    "countries_series"
   ]
  },
  {
   "cell_type": "code",
   "execution_count": 20,
   "id": "ac957b81",
   "metadata": {},
   "outputs": [
    {
     "data": {
      "text/plain": [
       "Poland     L\n",
       "UK         M\n",
       "USA        H\n",
       "Germany    M\n",
       "Francja    M\n",
       "Indie      H\n",
       "dtype: object"
      ]
     },
     "execution_count": 20,
     "metadata": {},
     "output_type": "execute_result"
    }
   ],
   "source": [
    "def convert_pop(x):\n",
    "    if x<50E6: return \"L\"\n",
    "    if x<100E6: return \"M\"\n",
    "    return \"H\"\n",
    "\n",
    "#convert_pop(76E6)\n",
    "countries_series.apply(convert_pop)"
   ]
  },
  {
   "cell_type": "code",
   "execution_count": 26,
   "id": "5017c943",
   "metadata": {},
   "outputs": [
    {
     "data": {
      "text/plain": [
       "Poland       37.12 mln\n",
       "UK           62.88 mln\n",
       "USA         320.12 mln\n",
       "Germany      80.12 mln\n",
       "Francja      55.12 mln\n",
       "Indie      1520.46 mln\n",
       "dtype: object"
      ]
     },
     "execution_count": 26,
     "metadata": {},
     "output_type": "execute_result"
    }
   ],
   "source": [
    "countries_series.apply(lambda x: f\"{x/1_000_000:.2f} mln\"  )"
   ]
  },
  {
   "cell_type": "code",
   "execution_count": 27,
   "id": "aad8014d",
   "metadata": {},
   "outputs": [
    {
     "data": {
      "text/plain": [
       "0    PL\n",
       "1    UK\n",
       "2    DE\n",
       "3    UA\n",
       "dtype: object"
      ]
     },
     "execution_count": 27,
     "metadata": {},
     "output_type": "execute_result"
    }
   ],
   "source": [
    "countries_series = pd.Series([\"PL\",\"UK\",\"DE\",\"UA\"])\n",
    "countries_series"
   ]
  },
  {
   "cell_type": "code",
   "execution_count": 29,
   "id": "ff42a76a",
   "metadata": {},
   "outputs": [
    {
     "data": {
      "text/plain": [
       "0          Polska\n",
       "1    Wlk Brytania\n",
       "2             NaN\n",
       "3         Ukraina\n",
       "dtype: object"
      ]
     },
     "execution_count": 29,
     "metadata": {},
     "output_type": "execute_result"
    }
   ],
   "source": [
    "countries_series.map({\n",
    "    \"PL\" : \"Polska\", \"UK\":\"Wlk Brytania\", \n",
    "    #\"DE\":\"Niemcy\", \n",
    "    \"UA\":\"Ukraina\"\n",
    "})"
   ]
  },
  {
   "cell_type": "code",
   "execution_count": 30,
   "id": "204f40a0",
   "metadata": {},
   "outputs": [
    {
     "data": {
      "text/plain": [
       "Poland       37123456\n",
       "UK           62876444\n",
       "USA         320123666\n",
       "Germany      80123888\n",
       "Francja      55123999\n",
       "Indie      1520456890\n",
       "dtype: int64"
      ]
     },
     "execution_count": 30,
     "metadata": {},
     "output_type": "execute_result"
    }
   ],
   "source": [
    "countries = [ \"Poland\",\"UK\",\"USA\",\"Germany\",\"Francja\",\"Indie\" ]\n",
    "population = [ 37_123_456, 62_876_444, 320_123_666, 80_123_888, 55_123_999, 1_520_456_890  ]\n",
    "countries_series = pd.Series(index=countries, data=population)\n",
    "countries_series"
   ]
  },
  {
   "cell_type": "code",
   "execution_count": 37,
   "id": "3de458bd",
   "metadata": {},
   "outputs": [],
   "source": [
    "countries_series.sort_values(ascending=False, inplace=True)"
   ]
  },
  {
   "cell_type": "code",
   "execution_count": 38,
   "id": "cb24bccc",
   "metadata": {},
   "outputs": [
    {
     "data": {
      "text/plain": [
       "Indie      1520456890\n",
       "USA         320123666\n",
       "Germany      80123888\n",
       "UK           62876444\n",
       "Francja      55123999\n",
       "Poland       37123456\n",
       "dtype: int64"
      ]
     },
     "execution_count": 38,
     "metadata": {},
     "output_type": "execute_result"
    }
   ],
   "source": [
    "countries_series"
   ]
  },
  {
   "cell_type": "code",
   "execution_count": 39,
   "id": "9b73c253",
   "metadata": {},
   "outputs": [
    {
     "data": {
      "text/plain": [
       "Francja      55123999\n",
       "Germany      80123888\n",
       "Indie      1520456890\n",
       "Poland       37123456\n",
       "UK           62876444\n",
       "USA         320123666\n",
       "dtype: int64"
      ]
     },
     "execution_count": 39,
     "metadata": {},
     "output_type": "execute_result"
    }
   ],
   "source": [
    "countries_series.sort_index()"
   ]
  },
  {
   "cell_type": "code",
   "execution_count": 43,
   "id": "a64ff42c",
   "metadata": {},
   "outputs": [
    {
     "data": {
      "text/plain": [
       "(345971390.5, 71500166.0, 584958321.3365185, 37123456, 1520456890)"
      ]
     },
     "execution_count": 43,
     "metadata": {},
     "output_type": "execute_result"
    }
   ],
   "source": [
    "countries_series.mean(), countries_series.median(), countries_series.std(), \\\n",
    "countries_series.min(), countries_series.max()"
   ]
  },
  {
   "cell_type": "code",
   "execution_count": 46,
   "id": "0ce622e4",
   "metadata": {},
   "outputs": [
    {
     "data": {
      "text/plain": [
       "Indie      1520456890\n",
       "USA         320123666\n",
       "Germany      80123888\n",
       "UK           62876444\n",
       "Francja      55123999\n",
       "dtype: int64"
      ]
     },
     "execution_count": 46,
     "metadata": {},
     "output_type": "execute_result"
    }
   ],
   "source": [
    "countries_series.head()"
   ]
  },
  {
   "cell_type": "code",
   "execution_count": 47,
   "id": "b57279ae",
   "metadata": {},
   "outputs": [
    {
     "data": {
      "text/plain": [
       "UK         62876444\n",
       "Francja    55123999\n",
       "Poland     37123456\n",
       "dtype: int64"
      ]
     },
     "execution_count": 47,
     "metadata": {},
     "output_type": "execute_result"
    }
   ],
   "source": [
    "countries_series.tail(3)"
   ]
  },
  {
   "cell_type": "code",
   "execution_count": 48,
   "id": "d8c131ee",
   "metadata": {},
   "outputs": [
    {
     "data": {
      "text/plain": [
       "Indie      1520456890\n",
       "USA         320123666\n",
       "Germany      80123888\n",
       "UK           62876444\n",
       "Francja      55123999\n",
       "Poland       37123456\n",
       "dtype: int64"
      ]
     },
     "execution_count": 48,
     "metadata": {},
     "output_type": "execute_result"
    }
   ],
   "source": [
    "countries_series"
   ]
  },
  {
   "cell_type": "code",
   "execution_count": 55,
   "id": "1aea80fe",
   "metadata": {},
   "outputs": [
    {
     "data": {
      "text/plain": [
       "(320123666, 320123666, 320123666, 320123666, 320123666)"
      ]
     },
     "execution_count": 55,
     "metadata": {},
     "output_type": "execute_result"
    }
   ],
   "source": [
    "countries_series[\"USA\"], countries_series.USA, countries_series.loc[\"USA\"], \\\n",
    "        countries_series[1] , countries_series.iloc[1]"
   ]
  },
  {
   "cell_type": "code",
   "execution_count": 57,
   "id": "533c014b",
   "metadata": {},
   "outputs": [
    {
     "name": "stdout",
     "output_type": "stream",
     "text": [
      "320123666\n"
     ]
    }
   ],
   "source": [
    "if \"USA\" in countries_series.index: print(countries_series[\"USA\"])"
   ]
  },
  {
   "cell_type": "code",
   "execution_count": 59,
   "id": "0cb893b5",
   "metadata": {},
   "outputs": [
    {
     "data": {
      "text/plain": [
       "USA        320123666\n",
       "Germany     80123888\n",
       "UK          62876444\n",
       "dtype: int64"
      ]
     },
     "execution_count": 59,
     "metadata": {},
     "output_type": "execute_result"
    }
   ],
   "source": [
    "countries_series.loc[\"USA\":\"UK\"]"
   ]
  },
  {
   "cell_type": "code",
   "execution_count": 62,
   "id": "db1c9abe",
   "metadata": {},
   "outputs": [
    {
     "data": {
      "text/plain": [
       "USA        320123666\n",
       "Germany     80123888\n",
       "UK          62876444\n",
       "dtype: int64"
      ]
     },
     "execution_count": 62,
     "metadata": {},
     "output_type": "execute_result"
    }
   ],
   "source": [
    "countries_series.iloc[1:4]"
   ]
  },
  {
   "cell_type": "code",
   "execution_count": 64,
   "id": "58e84de2",
   "metadata": {},
   "outputs": [
    {
     "data": {
      "text/plain": [
       "USA       320123666\n",
       "UK         62876444\n",
       "Poland     37123456\n",
       "dtype: int64"
      ]
     },
     "execution_count": 64,
     "metadata": {},
     "output_type": "execute_result"
    }
   ],
   "source": [
    "countries_series.loc[\"USA\"::2]"
   ]
  },
  {
   "cell_type": "code",
   "execution_count": 66,
   "id": "2583e35e",
   "metadata": {},
   "outputs": [
    {
     "data": {
      "text/plain": [
       "Indie     1520456890\n",
       "Poland      37123456\n",
       "dtype: int64"
      ]
     },
     "execution_count": 66,
     "metadata": {},
     "output_type": "execute_result"
    }
   ],
   "source": [
    "countries_series.loc[ [\"Indie\",\"Poland\"] ]"
   ]
  },
  {
   "cell_type": "code",
   "execution_count": 68,
   "id": "d3931d6d",
   "metadata": {},
   "outputs": [
    {
     "data": {
      "text/plain": [
       "Indie     1520456890\n",
       "Poland      37123456\n",
       "dtype: int64"
      ]
     },
     "execution_count": 68,
     "metadata": {},
     "output_type": "execute_result"
    }
   ],
   "source": [
    "countries_series.iloc[ [0,-1] ]"
   ]
  },
  {
   "cell_type": "code",
   "execution_count": 69,
   "id": "d3df4059",
   "metadata": {},
   "outputs": [
    {
     "data": {
      "text/plain": [
       "Poland       37123456\n",
       "UK           62876444\n",
       "USA         320123666\n",
       "Poland       80123888\n",
       "Francja      55123999\n",
       "Indie      1520456890\n",
       "dtype: int64"
      ]
     },
     "execution_count": 69,
     "metadata": {},
     "output_type": "execute_result"
    }
   ],
   "source": [
    "countries = [ \"Poland\",\"UK\",\"USA\",\"Poland\",\"Francja\",\"Indie\" ]\n",
    "population = [ 37_123_456, 62_876_444, 320_123_666, 80_123_888, 55_123_999, 1_520_456_890  ]\n",
    "countries_series = pd.Series(index=countries, data=population)\n",
    "countries_series"
   ]
  },
  {
   "cell_type": "code",
   "execution_count": 70,
   "id": "e5c222fb",
   "metadata": {},
   "outputs": [
    {
     "data": {
      "text/plain": [
       "Poland    37123456\n",
       "Poland    80123888\n",
       "dtype: int64"
      ]
     },
     "execution_count": 70,
     "metadata": {},
     "output_type": "execute_result"
    }
   ],
   "source": [
    "countries_series[\"Poland\"]"
   ]
  },
  {
   "cell_type": "code",
   "execution_count": 71,
   "id": "755f0c09",
   "metadata": {},
   "outputs": [
    {
     "ename": "KeyError",
     "evalue": "\"Cannot get left slice bound for non-unique label: 'Poland'\"",
     "output_type": "error",
     "traceback": [
      "\u001b[1;31m---------------------------------------------------------------------------\u001b[0m",
      "\u001b[1;31mKeyError\u001b[0m                                  Traceback (most recent call last)",
      "\u001b[1;32m~\\AppData\\Local\\Temp/ipykernel_1884/1562688398.py\u001b[0m in \u001b[0;36m<module>\u001b[1;34m\u001b[0m\n\u001b[1;32m----> 1\u001b[1;33m \u001b[0mcountries_series\u001b[0m\u001b[1;33m.\u001b[0m\u001b[0mloc\u001b[0m\u001b[1;33m[\u001b[0m\u001b[1;34m\"Poland\"\u001b[0m\u001b[1;33m:\u001b[0m\u001b[1;34m\"Poland\"\u001b[0m\u001b[1;33m]\u001b[0m\u001b[1;33m\u001b[0m\u001b[1;33m\u001b[0m\u001b[0m\n\u001b[0m",
      "\u001b[1;32m~\\anaconda3\\lib\\site-packages\\pandas\\core\\indexing.py\u001b[0m in \u001b[0;36m__getitem__\u001b[1;34m(self, key)\u001b[0m\n\u001b[0;32m    929\u001b[0m \u001b[1;33m\u001b[0m\u001b[0m\n\u001b[0;32m    930\u001b[0m             \u001b[0mmaybe_callable\u001b[0m \u001b[1;33m=\u001b[0m \u001b[0mcom\u001b[0m\u001b[1;33m.\u001b[0m\u001b[0mapply_if_callable\u001b[0m\u001b[1;33m(\u001b[0m\u001b[0mkey\u001b[0m\u001b[1;33m,\u001b[0m \u001b[0mself\u001b[0m\u001b[1;33m.\u001b[0m\u001b[0mobj\u001b[0m\u001b[1;33m)\u001b[0m\u001b[1;33m\u001b[0m\u001b[1;33m\u001b[0m\u001b[0m\n\u001b[1;32m--> 931\u001b[1;33m             \u001b[1;32mreturn\u001b[0m \u001b[0mself\u001b[0m\u001b[1;33m.\u001b[0m\u001b[0m_getitem_axis\u001b[0m\u001b[1;33m(\u001b[0m\u001b[0mmaybe_callable\u001b[0m\u001b[1;33m,\u001b[0m \u001b[0maxis\u001b[0m\u001b[1;33m=\u001b[0m\u001b[0maxis\u001b[0m\u001b[1;33m)\u001b[0m\u001b[1;33m\u001b[0m\u001b[1;33m\u001b[0m\u001b[0m\n\u001b[0m\u001b[0;32m    932\u001b[0m \u001b[1;33m\u001b[0m\u001b[0m\n\u001b[0;32m    933\u001b[0m     \u001b[1;32mdef\u001b[0m \u001b[0m_is_scalar_access\u001b[0m\u001b[1;33m(\u001b[0m\u001b[0mself\u001b[0m\u001b[1;33m,\u001b[0m \u001b[0mkey\u001b[0m\u001b[1;33m:\u001b[0m \u001b[0mtuple\u001b[0m\u001b[1;33m)\u001b[0m\u001b[1;33m:\u001b[0m\u001b[1;33m\u001b[0m\u001b[1;33m\u001b[0m\u001b[0m\n",
      "\u001b[1;32m~\\anaconda3\\lib\\site-packages\\pandas\\core\\indexing.py\u001b[0m in \u001b[0;36m_getitem_axis\u001b[1;34m(self, key, axis)\u001b[0m\n\u001b[0;32m   1140\u001b[0m         \u001b[1;32mif\u001b[0m \u001b[0misinstance\u001b[0m\u001b[1;33m(\u001b[0m\u001b[0mkey\u001b[0m\u001b[1;33m,\u001b[0m \u001b[0mslice\u001b[0m\u001b[1;33m)\u001b[0m\u001b[1;33m:\u001b[0m\u001b[1;33m\u001b[0m\u001b[1;33m\u001b[0m\u001b[0m\n\u001b[0;32m   1141\u001b[0m             \u001b[0mself\u001b[0m\u001b[1;33m.\u001b[0m\u001b[0m_validate_key\u001b[0m\u001b[1;33m(\u001b[0m\u001b[0mkey\u001b[0m\u001b[1;33m,\u001b[0m \u001b[0maxis\u001b[0m\u001b[1;33m)\u001b[0m\u001b[1;33m\u001b[0m\u001b[1;33m\u001b[0m\u001b[0m\n\u001b[1;32m-> 1142\u001b[1;33m             \u001b[1;32mreturn\u001b[0m \u001b[0mself\u001b[0m\u001b[1;33m.\u001b[0m\u001b[0m_get_slice_axis\u001b[0m\u001b[1;33m(\u001b[0m\u001b[0mkey\u001b[0m\u001b[1;33m,\u001b[0m \u001b[0maxis\u001b[0m\u001b[1;33m=\u001b[0m\u001b[0maxis\u001b[0m\u001b[1;33m)\u001b[0m\u001b[1;33m\u001b[0m\u001b[1;33m\u001b[0m\u001b[0m\n\u001b[0m\u001b[0;32m   1143\u001b[0m         \u001b[1;32melif\u001b[0m \u001b[0mcom\u001b[0m\u001b[1;33m.\u001b[0m\u001b[0mis_bool_indexer\u001b[0m\u001b[1;33m(\u001b[0m\u001b[0mkey\u001b[0m\u001b[1;33m)\u001b[0m\u001b[1;33m:\u001b[0m\u001b[1;33m\u001b[0m\u001b[1;33m\u001b[0m\u001b[0m\n\u001b[0;32m   1144\u001b[0m             \u001b[1;32mreturn\u001b[0m \u001b[0mself\u001b[0m\u001b[1;33m.\u001b[0m\u001b[0m_getbool_axis\u001b[0m\u001b[1;33m(\u001b[0m\u001b[0mkey\u001b[0m\u001b[1;33m,\u001b[0m \u001b[0maxis\u001b[0m\u001b[1;33m=\u001b[0m\u001b[0maxis\u001b[0m\u001b[1;33m)\u001b[0m\u001b[1;33m\u001b[0m\u001b[1;33m\u001b[0m\u001b[0m\n",
      "\u001b[1;32m~\\anaconda3\\lib\\site-packages\\pandas\\core\\indexing.py\u001b[0m in \u001b[0;36m_get_slice_axis\u001b[1;34m(self, slice_obj, axis)\u001b[0m\n\u001b[0;32m   1174\u001b[0m \u001b[1;33m\u001b[0m\u001b[0m\n\u001b[0;32m   1175\u001b[0m         \u001b[0mlabels\u001b[0m \u001b[1;33m=\u001b[0m \u001b[0mobj\u001b[0m\u001b[1;33m.\u001b[0m\u001b[0m_get_axis\u001b[0m\u001b[1;33m(\u001b[0m\u001b[0maxis\u001b[0m\u001b[1;33m)\u001b[0m\u001b[1;33m\u001b[0m\u001b[1;33m\u001b[0m\u001b[0m\n\u001b[1;32m-> 1176\u001b[1;33m         \u001b[0mindexer\u001b[0m \u001b[1;33m=\u001b[0m \u001b[0mlabels\u001b[0m\u001b[1;33m.\u001b[0m\u001b[0mslice_indexer\u001b[0m\u001b[1;33m(\u001b[0m\u001b[0mslice_obj\u001b[0m\u001b[1;33m.\u001b[0m\u001b[0mstart\u001b[0m\u001b[1;33m,\u001b[0m \u001b[0mslice_obj\u001b[0m\u001b[1;33m.\u001b[0m\u001b[0mstop\u001b[0m\u001b[1;33m,\u001b[0m \u001b[0mslice_obj\u001b[0m\u001b[1;33m.\u001b[0m\u001b[0mstep\u001b[0m\u001b[1;33m)\u001b[0m\u001b[1;33m\u001b[0m\u001b[1;33m\u001b[0m\u001b[0m\n\u001b[0m\u001b[0;32m   1177\u001b[0m \u001b[1;33m\u001b[0m\u001b[0m\n\u001b[0;32m   1178\u001b[0m         \u001b[1;32mif\u001b[0m \u001b[0misinstance\u001b[0m\u001b[1;33m(\u001b[0m\u001b[0mindexer\u001b[0m\u001b[1;33m,\u001b[0m \u001b[0mslice\u001b[0m\u001b[1;33m)\u001b[0m\u001b[1;33m:\u001b[0m\u001b[1;33m\u001b[0m\u001b[1;33m\u001b[0m\u001b[0m\n",
      "\u001b[1;32m~\\anaconda3\\lib\\site-packages\\pandas\\core\\indexes\\base.py\u001b[0m in \u001b[0;36mslice_indexer\u001b[1;34m(self, start, end, step, kind)\u001b[0m\n\u001b[0;32m   5683\u001b[0m         \u001b[0mslice\u001b[0m\u001b[1;33m(\u001b[0m\u001b[1;36m1\u001b[0m\u001b[1;33m,\u001b[0m \u001b[1;36m3\u001b[0m\u001b[1;33m,\u001b[0m \u001b[1;32mNone\u001b[0m\u001b[1;33m)\u001b[0m\u001b[1;33m\u001b[0m\u001b[1;33m\u001b[0m\u001b[0m\n\u001b[0;32m   5684\u001b[0m         \"\"\"\n\u001b[1;32m-> 5685\u001b[1;33m         \u001b[0mstart_slice\u001b[0m\u001b[1;33m,\u001b[0m \u001b[0mend_slice\u001b[0m \u001b[1;33m=\u001b[0m \u001b[0mself\u001b[0m\u001b[1;33m.\u001b[0m\u001b[0mslice_locs\u001b[0m\u001b[1;33m(\u001b[0m\u001b[0mstart\u001b[0m\u001b[1;33m,\u001b[0m \u001b[0mend\u001b[0m\u001b[1;33m,\u001b[0m \u001b[0mstep\u001b[0m\u001b[1;33m=\u001b[0m\u001b[0mstep\u001b[0m\u001b[1;33m)\u001b[0m\u001b[1;33m\u001b[0m\u001b[1;33m\u001b[0m\u001b[0m\n\u001b[0m\u001b[0;32m   5686\u001b[0m \u001b[1;33m\u001b[0m\u001b[0m\n\u001b[0;32m   5687\u001b[0m         \u001b[1;31m# return a slice\u001b[0m\u001b[1;33m\u001b[0m\u001b[1;33m\u001b[0m\u001b[0m\n",
      "\u001b[1;32m~\\anaconda3\\lib\\site-packages\\pandas\\core\\indexes\\base.py\u001b[0m in \u001b[0;36mslice_locs\u001b[1;34m(self, start, end, step, kind)\u001b[0m\n\u001b[0;32m   5885\u001b[0m         \u001b[0mstart_slice\u001b[0m \u001b[1;33m=\u001b[0m \u001b[1;32mNone\u001b[0m\u001b[1;33m\u001b[0m\u001b[1;33m\u001b[0m\u001b[0m\n\u001b[0;32m   5886\u001b[0m         \u001b[1;32mif\u001b[0m \u001b[0mstart\u001b[0m \u001b[1;32mis\u001b[0m \u001b[1;32mnot\u001b[0m \u001b[1;32mNone\u001b[0m\u001b[1;33m:\u001b[0m\u001b[1;33m\u001b[0m\u001b[1;33m\u001b[0m\u001b[0m\n\u001b[1;32m-> 5887\u001b[1;33m             \u001b[0mstart_slice\u001b[0m \u001b[1;33m=\u001b[0m \u001b[0mself\u001b[0m\u001b[1;33m.\u001b[0m\u001b[0mget_slice_bound\u001b[0m\u001b[1;33m(\u001b[0m\u001b[0mstart\u001b[0m\u001b[1;33m,\u001b[0m \u001b[1;34m\"left\"\u001b[0m\u001b[1;33m)\u001b[0m\u001b[1;33m\u001b[0m\u001b[1;33m\u001b[0m\u001b[0m\n\u001b[0m\u001b[0;32m   5888\u001b[0m         \u001b[1;32mif\u001b[0m \u001b[0mstart_slice\u001b[0m \u001b[1;32mis\u001b[0m \u001b[1;32mNone\u001b[0m\u001b[1;33m:\u001b[0m\u001b[1;33m\u001b[0m\u001b[1;33m\u001b[0m\u001b[0m\n\u001b[0;32m   5889\u001b[0m             \u001b[0mstart_slice\u001b[0m \u001b[1;33m=\u001b[0m \u001b[1;36m0\u001b[0m\u001b[1;33m\u001b[0m\u001b[1;33m\u001b[0m\u001b[0m\n",
      "\u001b[1;32m~\\anaconda3\\lib\\site-packages\\pandas\\core\\indexes\\base.py\u001b[0m in \u001b[0;36mget_slice_bound\u001b[1;34m(self, label, side, kind)\u001b[0m\n\u001b[0;32m   5817\u001b[0m                 )\n\u001b[0;32m   5818\u001b[0m             \u001b[1;32mif\u001b[0m \u001b[0misinstance\u001b[0m\u001b[1;33m(\u001b[0m\u001b[0mslc\u001b[0m\u001b[1;33m,\u001b[0m \u001b[0mnp\u001b[0m\u001b[1;33m.\u001b[0m\u001b[0mndarray\u001b[0m\u001b[1;33m)\u001b[0m\u001b[1;33m:\u001b[0m\u001b[1;33m\u001b[0m\u001b[1;33m\u001b[0m\u001b[0m\n\u001b[1;32m-> 5819\u001b[1;33m                 raise KeyError(\n\u001b[0m\u001b[0;32m   5820\u001b[0m                     \u001b[1;34mf\"Cannot get {side} slice bound for non-unique \"\u001b[0m\u001b[1;33m\u001b[0m\u001b[1;33m\u001b[0m\u001b[0m\n\u001b[0;32m   5821\u001b[0m                     \u001b[1;34mf\"label: {repr(original_label)}\"\u001b[0m\u001b[1;33m\u001b[0m\u001b[1;33m\u001b[0m\u001b[0m\n",
      "\u001b[1;31mKeyError\u001b[0m: \"Cannot get left slice bound for non-unique label: 'Poland'\""
     ]
    }
   ],
   "source": [
    "countries_series.loc[\"Poland\":\"Poland\"]"
   ]
  },
  {
   "cell_type": "code",
   "execution_count": null,
   "id": "4e8fdb5f",
   "metadata": {},
   "outputs": [],
   "source": []
  }
 ],
 "metadata": {
  "kernelspec": {
   "display_name": "Python 3 (ipykernel)",
   "language": "python",
   "name": "python3"
  },
  "language_info": {
   "codemirror_mode": {
    "name": "ipython",
    "version": 3
   },
   "file_extension": ".py",
   "mimetype": "text/x-python",
   "name": "python",
   "nbconvert_exporter": "python",
   "pygments_lexer": "ipython3",
   "version": "3.9.7"
  }
 },
 "nbformat": 4,
 "nbformat_minor": 5
}
