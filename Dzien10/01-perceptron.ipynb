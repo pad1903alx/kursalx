{
 "cells": [
  {
   "cell_type": "code",
   "execution_count": 29,
   "id": "8a2ae8ae",
   "metadata": {},
   "outputs": [],
   "source": [
    "import numpy as np"
   ]
  },
  {
   "cell_type": "code",
   "execution_count": 30,
   "id": "e52f7747",
   "metadata": {},
   "outputs": [],
   "source": [
    "class Perceptron:\n",
    "    \n",
    "    def __init__(self):\n",
    "        \"\"\" Inicjalizacja wag dla perceptronu \"\"\"\n",
    "        np.random.seed(0)\n",
    "        self.weights = np.random.random((3,1))\n",
    "        \n",
    "    def sigmoid(self, x):\n",
    "        \"\"\" Funkcja aktywacji sigmoid \"\"\"\n",
    "        return 1/(1+np.exp(-x))\n",
    "    \n",
    "    def d_sigmoid(self, x):\n",
    "        \"\"\" Pochodna do f. aktywacji \"\"\"\n",
    "        return x*(1-x)\n",
    "    \n",
    "    def propagation(self, inputs):\n",
    "        \"\"\" Propagacji danych i wag \"\"\"\n",
    "        return self.sigmoid( np.dot(inputs, self.weights) )\n",
    "    \n",
    "    def back_propagation(self, propagation_result, train_input, train_output):\n",
    "        \"\"\" Prosty algorytm prop. wstecznej \"\"\"\n",
    "        error = train_output - propagation_result\n",
    "        self.weights += np.dot( train_input.T, error*self.d_sigmoid(propagation_result) )\n",
    "        \n",
    "    def train(self, train_input, train_output, epochs):\n",
    "        \"\"\" Funkcja trenująca \"\"\"\n",
    "        for _ in range(epochs):\n",
    "            result = self.propagation(train_input)\n",
    "            self.back_propagation(result, train_input, train_output)"
   ]
  },
  {
   "cell_type": "code",
   "execution_count": 31,
   "id": "86394450",
   "metadata": {},
   "outputs": [],
   "source": [
    "model = Perceptron()\n",
    "\n",
    "X = np.array([\n",
    "    [1,1,0], [1,1,1], [1,1,0], [0,1,1], [0,1,0]\n",
    "])\n",
    "y = np.array([ [0, 1, 0, 1, 0 ] ]).T"
   ]
  },
  {
   "cell_type": "code",
   "execution_count": 32,
   "id": "554655d7",
   "metadata": {},
   "outputs": [
    {
     "name": "stdout",
     "output_type": "stream",
     "text": [
      "[[0.5488135 ]\n",
      " [0.71518937]\n",
      " [0.60276338]]\n",
      "============================================================\n",
      "[[-0.42737095]\n",
      " [-4.68671741]\n",
      " [ 9.87413863]]\n"
     ]
    }
   ],
   "source": [
    "print(model.weights)\n",
    "print(\"=\"*60)\n",
    "model.train(X, y, 10_000)\n",
    "print(model.weights)"
   ]
  },
  {
   "cell_type": "code",
   "execution_count": 33,
   "id": "465ccff2",
   "metadata": {},
   "outputs": [],
   "source": [
    "model.train(X, y, 10_000)"
   ]
  },
  {
   "cell_type": "code",
   "execution_count": 34,
   "id": "122ad4c3",
   "metadata": {},
   "outputs": [
    {
     "name": "stdout",
     "output_type": "stream",
     "text": [
      "[1 1 0] = [0.]\n",
      "[1 1 1] = [1.]\n",
      "[1 1 0] = [0.]\n",
      "[0 1 1] = [1.]\n",
      "[0 1 0] = [0.]\n",
      "[0 0 1] = [1.]\n",
      "[1 0 0] = [0.]\n"
     ]
    }
   ],
   "source": [
    "X_test = np.array([\n",
    "    [1,1,0], [1,1,1], [1,1,0], [0,1,1], [0,1,0], [0,0,1], [1,0,0]\n",
    "])\n",
    "#y = np.array([ [0, 1, 0, 1, 0 ] ]).T\n",
    "for x in X_test:\n",
    "    print(f\"{x} = {np.round(model.propagation(x),0)}\")"
   ]
  },
  {
   "cell_type": "code",
   "execution_count": null,
   "id": "e6719a8d",
   "metadata": {},
   "outputs": [],
   "source": []
  }
 ],
 "metadata": {
  "kernelspec": {
   "display_name": "Python 3 (ipykernel)",
   "language": "python",
   "name": "python3"
  },
  "language_info": {
   "codemirror_mode": {
    "name": "ipython",
    "version": 3
   },
   "file_extension": ".py",
   "mimetype": "text/x-python",
   "name": "python",
   "nbconvert_exporter": "python",
   "pygments_lexer": "ipython3",
   "version": "3.9.7"
  }
 },
 "nbformat": 4,
 "nbformat_minor": 5
}
