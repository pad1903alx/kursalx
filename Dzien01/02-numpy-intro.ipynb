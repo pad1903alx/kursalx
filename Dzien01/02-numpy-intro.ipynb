{
 "cells": [
  {
   "cell_type": "code",
   "execution_count": 1,
   "id": "b58560f2",
   "metadata": {},
   "outputs": [],
   "source": [
    "import numpy as np"
   ]
  },
  {
   "cell_type": "code",
   "execution_count": 4,
   "id": "6c431459",
   "metadata": {},
   "outputs": [
    {
     "data": {
      "text/plain": [
       "[1, None, 'Ala ma konta', {'x': -2, 'name': 'Jan'}, [1, 2, 3]]"
      ]
     },
     "execution_count": 4,
     "metadata": {},
     "output_type": "execute_result"
    }
   ],
   "source": [
    "_list = [1, None, \"Ala ma konta\", {\"x\":-2, \"name\":\"Jan\"}, [1,2,3] ]\n",
    "_list"
   ]
  },
  {
   "cell_type": "code",
   "execution_count": 5,
   "id": "402f98a9",
   "metadata": {},
   "outputs": [
    {
     "data": {
      "text/plain": [
       "('Ala ma konta', {'x': -2, 'name': 'Jan'})"
      ]
     },
     "execution_count": 5,
     "metadata": {},
     "output_type": "execute_result"
    }
   ],
   "source": [
    "_list[2], _list[-2]"
   ]
  },
  {
   "cell_type": "code",
   "execution_count": 6,
   "id": "f5f6a2d9",
   "metadata": {},
   "outputs": [
    {
     "data": {
      "text/plain": [
       "['Ala ma konta', {'x': -2, 'name': 'Jan'}, [1, 2, 3]]"
      ]
     },
     "execution_count": 6,
     "metadata": {},
     "output_type": "execute_result"
    }
   ],
   "source": [
    "_list[2:]"
   ]
  },
  {
   "cell_type": "code",
   "execution_count": 7,
   "id": "d7ed73ec",
   "metadata": {},
   "outputs": [],
   "source": [
    "a = [1,3,5,7]\n",
    "b = [-1,-3,-5,-7]"
   ]
  },
  {
   "cell_type": "code",
   "execution_count": 8,
   "id": "b353cd72",
   "metadata": {},
   "outputs": [
    {
     "data": {
      "text/plain": [
       "[1, 3, 5, 7, -1, -3, -5, -7]"
      ]
     },
     "execution_count": 8,
     "metadata": {},
     "output_type": "execute_result"
    }
   ],
   "source": [
    "a + b"
   ]
  },
  {
   "cell_type": "code",
   "execution_count": 9,
   "id": "318a9057",
   "metadata": {},
   "outputs": [
    {
     "data": {
      "text/plain": [
       "[0, 0, 0, 0]"
      ]
     },
     "execution_count": 9,
     "metadata": {},
     "output_type": "execute_result"
    }
   ],
   "source": [
    "result = []\n",
    "for x,y in zip(a,b):\n",
    "    result.append( x+y )\n",
    "result"
   ]
  },
  {
   "cell_type": "markdown",
   "id": "30e4e0d1",
   "metadata": {},
   "source": [
    "### Tworzenie tablic Numpy"
   ]
  },
  {
   "cell_type": "code",
   "execution_count": 10,
   "id": "b4b4614e",
   "metadata": {},
   "outputs": [
    {
     "data": {
      "text/plain": [
       "array([1, 3, 5, 7])"
      ]
     },
     "execution_count": 10,
     "metadata": {},
     "output_type": "execute_result"
    }
   ],
   "source": [
    "arr = np.array([1,3,5,7])\n",
    "arr"
   ]
  },
  {
   "cell_type": "code",
   "execution_count": 11,
   "id": "c7fe6e28",
   "metadata": {},
   "outputs": [
    {
     "data": {
      "text/plain": [
       "numpy.ndarray"
      ]
     },
     "execution_count": 11,
     "metadata": {},
     "output_type": "execute_result"
    }
   ],
   "source": [
    "type(arr)"
   ]
  },
  {
   "cell_type": "code",
   "execution_count": 12,
   "id": "5aea5b3b",
   "metadata": {},
   "outputs": [
    {
     "data": {
      "text/plain": [
       "dtype('int32')"
      ]
     },
     "execution_count": 12,
     "metadata": {},
     "output_type": "execute_result"
    }
   ],
   "source": [
    "arr.dtype"
   ]
  },
  {
   "cell_type": "code",
   "execution_count": 13,
   "id": "f6584cac",
   "metadata": {},
   "outputs": [
    {
     "data": {
      "text/plain": [
       "(4,)"
      ]
     },
     "execution_count": 13,
     "metadata": {},
     "output_type": "execute_result"
    }
   ],
   "source": [
    "arr.shape"
   ]
  },
  {
   "cell_type": "code",
   "execution_count": 14,
   "id": "3005d459",
   "metadata": {},
   "outputs": [
    {
     "data": {
      "text/plain": [
       "array([[1, 2, 3],\n",
       "       [4, 5, 6],\n",
       "       [7, 8, 9]])"
      ]
     },
     "execution_count": 14,
     "metadata": {},
     "output_type": "execute_result"
    }
   ],
   "source": [
    "arr = np.array([ [1,2,3] , [4,5,6] , [7,8,9] ])\n",
    "arr"
   ]
  },
  {
   "cell_type": "code",
   "execution_count": 15,
   "id": "56e7db53",
   "metadata": {},
   "outputs": [
    {
     "data": {
      "text/plain": [
       "(3, 3)"
      ]
     },
     "execution_count": 15,
     "metadata": {},
     "output_type": "execute_result"
    }
   ],
   "source": [
    "arr.shape"
   ]
  },
  {
   "cell_type": "code",
   "execution_count": 18,
   "id": "251775fe",
   "metadata": {},
   "outputs": [
    {
     "data": {
      "text/plain": [
       "array([[1, 2, 3],\n",
       "       [4, 5, 6],\n",
       "       [7, 8, 9]], dtype=uint8)"
      ]
     },
     "execution_count": 18,
     "metadata": {},
     "output_type": "execute_result"
    }
   ],
   "source": [
    "arr = np.array([ [1,2,3] , [4,5,6] , [7,8,9] ] , dtype='uint8') # np.int16\n",
    "arr"
   ]
  },
  {
   "cell_type": "code",
   "execution_count": 19,
   "id": "a39ac72a",
   "metadata": {},
   "outputs": [
    {
     "data": {
      "text/plain": [
       "array([[0, 2, 3],\n",
       "       [4, 5, 6],\n",
       "       [7, 8, 9]], dtype=uint8)"
      ]
     },
     "execution_count": 19,
     "metadata": {},
     "output_type": "execute_result"
    }
   ],
   "source": [
    "arr = np.array([ [256,2,3] , [4,5,6] , [7,8,9] ] , dtype='uint8') # np.int16\n",
    "arr"
   ]
  },
  {
   "cell_type": "code",
   "execution_count": 20,
   "id": "5ee96673",
   "metadata": {},
   "outputs": [
    {
     "data": {
      "text/plain": [
       "(2, 2)"
      ]
     },
     "execution_count": 20,
     "metadata": {},
     "output_type": "execute_result"
    }
   ],
   "source": [
    "arr.ndim, len(arr.shape)"
   ]
  },
  {
   "cell_type": "code",
   "execution_count": 21,
   "id": "1edae4e9",
   "metadata": {},
   "outputs": [
    {
     "data": {
      "text/plain": [
       "9"
      ]
     },
     "execution_count": 21,
     "metadata": {},
     "output_type": "execute_result"
    }
   ],
   "source": [
    "arr.size"
   ]
  },
  {
   "cell_type": "code",
   "execution_count": 22,
   "id": "2fe91730",
   "metadata": {},
   "outputs": [
    {
     "data": {
      "text/plain": [
       "1"
      ]
     },
     "execution_count": 22,
     "metadata": {},
     "output_type": "execute_result"
    }
   ],
   "source": [
    "arr.itemsize"
   ]
  },
  {
   "cell_type": "code",
   "execution_count": 23,
   "id": "61cd00e1",
   "metadata": {},
   "outputs": [
    {
     "data": {
      "text/plain": [
       "array([[0., 0., 0., 0., 0.],\n",
       "       [0., 0., 0., 0., 0.],\n",
       "       [0., 0., 0., 0., 0.]], dtype=float16)"
      ]
     },
     "execution_count": 23,
     "metadata": {},
     "output_type": "execute_result"
    }
   ],
   "source": [
    "np.zeros( (3,5) , dtype='float16' )"
   ]
  },
  {
   "cell_type": "code",
   "execution_count": 24,
   "id": "ee9f17c7",
   "metadata": {},
   "outputs": [
    {
     "data": {
      "text/plain": [
       "array([[123., 123., 123., 123., 123., 123.],\n",
       "       [123., 123., 123., 123., 123., 123.],\n",
       "       [123., 123., 123., 123., 123., 123.]])"
      ]
     },
     "execution_count": 24,
     "metadata": {},
     "output_type": "execute_result"
    }
   ],
   "source": [
    "np.full( (3,6) , 123, dtype='float64' )"
   ]
  },
  {
   "cell_type": "code",
   "execution_count": 25,
   "id": "fa9107bf",
   "metadata": {},
   "outputs": [
    {
     "data": {
      "text/plain": [
       "array([[1., 1., 1., 1., 1.],\n",
       "       [1., 1., 1., 1., 1.],\n",
       "       [1., 1., 1., 1., 1.]])"
      ]
     },
     "execution_count": 25,
     "metadata": {},
     "output_type": "execute_result"
    }
   ],
   "source": [
    "np.ones( (3,5) )"
   ]
  },
  {
   "cell_type": "code",
   "execution_count": 28,
   "id": "1721ce84",
   "metadata": {},
   "outputs": [
    {
     "data": {
      "text/plain": [
       "array([[0, 0, 0, 0, 0, 0],\n",
       "       [1, 0, 0, 0, 0, 0],\n",
       "       [0, 2, 0, 0, 0, 0],\n",
       "       [0, 0, 3, 0, 0, 0],\n",
       "       [0, 0, 0, 4, 0, 0],\n",
       "       [0, 0, 0, 0, 5, 0]])"
      ]
     },
     "execution_count": 28,
     "metadata": {},
     "output_type": "execute_result"
    }
   ],
   "source": [
    "np.diag([1,2,3,4,5], k=-1)"
   ]
  },
  {
   "cell_type": "code",
   "execution_count": 30,
   "id": "e568da5d",
   "metadata": {},
   "outputs": [
    {
     "data": {
      "text/plain": [
       "array([[1, 0, 0, 0, 0, 0],\n",
       "       [0, 1, 0, 0, 0, 0],\n",
       "       [0, 0, 1, 0, 0, 0],\n",
       "       [0, 0, 0, 1, 0, 0],\n",
       "       [0, 0, 0, 0, 1, 0],\n",
       "       [0, 0, 0, 0, 0, 1]], dtype=int8)"
      ]
     },
     "execution_count": 30,
     "metadata": {},
     "output_type": "execute_result"
    }
   ],
   "source": [
    "np.eye(6, dtype='int8')"
   ]
  },
  {
   "cell_type": "code",
   "execution_count": 31,
   "id": "62c44407",
   "metadata": {},
   "outputs": [
    {
     "data": {
      "text/plain": [
       "array([ 0,  2,  4,  6,  8, 10, 12, 14, 16, 18, 20])"
      ]
     },
     "execution_count": 31,
     "metadata": {},
     "output_type": "execute_result"
    }
   ],
   "source": [
    "np.array( range(0,21,2) )"
   ]
  },
  {
   "cell_type": "code",
   "execution_count": 32,
   "id": "aad16860",
   "metadata": {},
   "outputs": [
    {
     "data": {
      "text/plain": [
       "array([ 0,  2,  4,  6,  8, 10, 12, 14, 16, 18, 20])"
      ]
     },
     "execution_count": 32,
     "metadata": {},
     "output_type": "execute_result"
    }
   ],
   "source": [
    "np.arange(0, 21, 2)"
   ]
  },
  {
   "cell_type": "code",
   "execution_count": 33,
   "id": "159075b3",
   "metadata": {},
   "outputs": [
    {
     "data": {
      "text/plain": [
       "array([0.2 , 0.25, 0.3 , 0.35, 0.4 , 0.45, 0.5 , 0.55, 0.6 , 0.65, 0.7 ,\n",
       "       0.75, 0.8 ])"
      ]
     },
     "execution_count": 33,
     "metadata": {},
     "output_type": "execute_result"
    }
   ],
   "source": [
    "np.arange(0.2, 0.8, 0.05)"
   ]
  },
  {
   "cell_type": "code",
   "execution_count": 34,
   "id": "83ed6021",
   "metadata": {},
   "outputs": [
    {
     "data": {
      "text/plain": [
       "array([0.2, 0.3, 0.4, 0.5, 0.6, 0.7, 0.8])"
      ]
     },
     "execution_count": 34,
     "metadata": {},
     "output_type": "execute_result"
    }
   ],
   "source": [
    "np.linspace(0.2, 0.8, 7)"
   ]
  },
  {
   "cell_type": "markdown",
   "id": "e1ba0ba7",
   "metadata": {},
   "source": [
    "#### Generowanie wartości pseudolosowych"
   ]
  },
  {
   "cell_type": "code",
   "execution_count": 35,
   "id": "3ea6fe16",
   "metadata": {},
   "outputs": [],
   "source": [
    "np.random.seed(0)"
   ]
  },
  {
   "cell_type": "code",
   "execution_count": 48,
   "id": "29d60c64",
   "metadata": {},
   "outputs": [
    {
     "data": {
      "text/plain": [
       "array([[0.44146673, 0.03546464, 0.79992472, 0.39560104, 0.10512572],\n",
       "       [0.37478117, 0.54055301, 0.75137591, 0.38912696, 0.36133138],\n",
       "       [0.93188516, 0.5640083 , 0.23375247, 0.63094908, 0.08761255],\n",
       "       ...,\n",
       "       [0.95892962, 0.77317664, 0.81450112, 0.5008915 , 0.37894113],\n",
       "       [0.4925544 , 0.9225866 , 0.5625182 , 0.54856399, 0.48374309],\n",
       "       [0.49310914, 0.80003019, 0.67298801, 0.78043863, 0.30249273]])"
      ]
     },
     "execution_count": 48,
     "metadata": {},
     "output_type": "execute_result"
    }
   ],
   "source": [
    "arr = np.random.rand(100_000, 5)\n",
    "arr"
   ]
  },
  {
   "cell_type": "code",
   "execution_count": 49,
   "id": "faba307a",
   "metadata": {},
   "outputs": [
    {
     "data": {
      "text/plain": [
       "(100000, 5)"
      ]
     },
     "execution_count": 49,
     "metadata": {},
     "output_type": "execute_result"
    }
   ],
   "source": [
    "arr.shape"
   ]
  },
  {
   "cell_type": "code",
   "execution_count": 50,
   "id": "02717aab",
   "metadata": {},
   "outputs": [
    {
     "data": {
      "text/plain": [
       "(7.071203171893359e-07, 0.9999997207656334)"
      ]
     },
     "execution_count": 50,
     "metadata": {},
     "output_type": "execute_result"
    }
   ],
   "source": [
    "np.min(arr), np.max(arr)"
   ]
  },
  {
   "cell_type": "code",
   "execution_count": 51,
   "id": "df0c1ebf",
   "metadata": {},
   "outputs": [],
   "source": [
    "import matplotlib.pyplot as plt"
   ]
  },
  {
   "cell_type": "code",
   "execution_count": 52,
   "id": "0b5d9238",
   "metadata": {},
   "outputs": [
    {
     "data": {
      "image/png": "[encoded data removed]",
      "text/plain": [
       "<Figure size 432x288 with 1 Axes>"
      ]
     },
     "metadata": {
      "needs_background": "light"
     },
     "output_type": "display_data"
    }
   ],
   "source": [
    "plt.hist( arr.flatten() )\n",
    "plt.show()"
   ]
  },
  {
   "cell_type": "code",
   "execution_count": 53,
   "id": "19374672",
   "metadata": {},
   "outputs": [
    {
     "data": {
      "text/plain": [
       "array([ 1.11702302,  1.01201112, -2.33142082, ..., -0.02198654,\n",
       "       -1.72541046,  0.82242328])"
      ]
     },
     "execution_count": 53,
     "metadata": {},
     "output_type": "execute_result"
    }
   ],
   "source": [
    "arr = np.random.randn(1_000_000)\n",
    "arr"
   ]
  },
  {
   "cell_type": "code",
   "execution_count": 54,
   "id": "53de0aad",
   "metadata": {},
   "outputs": [
    {
     "data": {
      "text/plain": [
       "(1000000,)"
      ]
     },
     "execution_count": 54,
     "metadata": {},
     "output_type": "execute_result"
    }
   ],
   "source": [
    "arr.shape"
   ]
  },
  {
   "cell_type": "code",
   "execution_count": 57,
   "id": "e8328504",
   "metadata": {},
   "outputs": [
    {
     "data": {
      "image/png": "[encoded data removed]",
      "text/plain": [
       "<Figure size 432x288 with 1 Axes>"
      ]
     },
     "metadata": {
      "needs_background": "light"
     },
     "output_type": "display_data"
    }
   ],
   "source": [
    "plt.hist(arr, bins=25)\n",
    "plt.show()"
   ]
  },
  {
   "cell_type": "code",
   "execution_count": 58,
   "id": "843431e1",
   "metadata": {},
   "outputs": [
    {
     "data": {
      "text/plain": [
       "(-0.0006365650705445801, 0.00028118201251265654, 0.9991723391274482)"
      ]
     },
     "execution_count": 58,
     "metadata": {},
     "output_type": "execute_result"
    }
   ],
   "source": [
    "np.mean(arr), np.median(arr), np.std(arr)"
   ]
  },
  {
   "cell_type": "code",
   "execution_count": 62,
   "id": "bdfbc720",
   "metadata": {},
   "outputs": [
    {
     "data": {
      "image/png": "[encoded data removed]",
      "text/plain": [
       "<Figure size 432x288 with 1 Axes>"
      ]
     },
     "metadata": {
      "needs_background": "light"
     },
     "output_type": "display_data"
    }
   ],
   "source": [
    "arr = np.random.choice([1,2,3,4], 30_000)\n",
    "plt.hist(arr);\n",
    "#plt.show()"
   ]
  },
  {
   "cell_type": "code",
   "execution_count": 64,
   "id": "22876f75",
   "metadata": {},
   "outputs": [
    {
     "name": "stdout",
     "output_type": "stream",
     "text": [
      "5 10 15\n"
     ]
    }
   ],
   "source": [
    "#a = 5\n",
    "#b = 10\n",
    "#c= 15\n",
    "a, b, c = 5, 10, 15\n",
    "a=5; b=10; c=15;\n",
    "print(a,b,c)"
   ]
  },
  {
   "cell_type": "code",
   "execution_count": 66,
   "id": "5983e928",
   "metadata": {},
   "outputs": [
    {
     "data": {
      "image/png": "[encoded data removed]",
      "text/plain": [
       "<Figure size 432x288 with 1 Axes>"
      ]
     },
     "metadata": {
      "needs_background": "light"
     },
     "output_type": "display_data"
    }
   ],
   "source": [
    "arr = np.random.choice(['A','B','C'], 30_000, p=[.2, .7, .1])\n",
    "plt.hist(arr);"
   ]
  },
  {
   "cell_type": "markdown",
   "id": "3952dbc3",
   "metadata": {},
   "source": [
    "#### Tworzenie tablicy na podstawie danych z pliku CSV"
   ]
  },
  {
   "cell_type": "code",
   "execution_count": 69,
   "id": "e87e1568",
   "metadata": {},
   "outputs": [
    {
     "data": {
      "text/plain": [
       "array([[5.1, 3.5, 1.4, 0.2],\n",
       "       [4.9, 3. , 1.4, 0.2],\n",
       "       [4.7, 3.2, 1.3, 0.2],\n",
       "       [4.6, 3.1, 1.5, 0.2],\n",
       "       [5. , 3.6, 1.4, 0.2],\n",
       "       [5.4, 3.9, 1.7, 0.4],\n",
       "       [4.6, 3.4, 1.4, 0.3],\n",
       "       [5. , 3.4, 1.5, 0.2],\n",
       "       [4.4, 2.9, 1.4, 0.2],\n",
       "       [4.9, 3.1, 1.5, 0.1],\n",
       "       [5.4, 3.7, 1.5, 0.2],\n",
       "       [4.8, 3.4, 1.6, 0.2],\n",
       "       [4.8, 3. , 1.4, 0.1],\n",
       "       [4.3, 3. , 1.1, 0.1],\n",
       "       [5.8, 4. , 1.2, 0.2],\n",
       "       [5.7, 4.4, 1.5, 0.4],\n",
       "       [5.4, 3.9, 1.3, 0.4],\n",
       "       [5.1, 3.5, 1.4, 0.3],\n",
       "       [5.7, 3.8, 1.7, 0.3],\n",
       "       [5.1, 3.8, 1.5, 0.3],\n",
       "       [5.4, 3.4, 1.7, 0.2],\n",
       "       [5.1, 3.7, 1.5, 0.4],\n",
       "       [4.6, 3.6, 1. , 0.2],\n",
       "       [5.1, 3.3, 1.7, 0.5],\n",
       "       [4.8, 3.4, 1.9, 0.2],\n",
       "       [5. , 3. , 1.6, 0.2],\n",
       "       [5. , 3.4, 1.6, 0.4],\n",
       "       [5.2, 3.5, 1.5, 0.2],\n",
       "       [5.2, 3.4, 1.4, 0.2],\n",
       "       [4.7, 3.2, 1.6, 0.2],\n",
       "       [4.8, 3.1, 1.6, 0.2],\n",
       "       [5.4, 3.4, 1.5, 0.4],\n",
       "       [5.2, 4.1, 1.5, 0.1],\n",
       "       [5.5, 4.2, 1.4, 0.2],\n",
       "       [4.9, 3.1, 1.5, 0.1],\n",
       "       [5. , 3.2, 1.2, 0.2],\n",
       "       [5.5, 3.5, 1.3, 0.2],\n",
       "       [4.9, 3.1, 1.5, 0.1],\n",
       "       [4.4, 3. , 1.3, 0.2],\n",
       "       [5.1, 3.4, 1.5, 0.2],\n",
       "       [5. , 3.5, 1.3, 0.3],\n",
       "       [4.5, 2.3, 1.3, 0.3],\n",
       "       [4.4, 3.2, 1.3, 0.2],\n",
       "       [5. , 3.5, 1.6, 0.6],\n",
       "       [5.1, 3.8, 1.9, 0.4],\n",
       "       [4.8, 3. , 1.4, 0.3],\n",
       "       [5.1, 3.8, 1.6, 0.2],\n",
       "       [4.6, 3.2, 1.4, 0.2],\n",
       "       [5.3, 3.7, 1.5, 0.2],\n",
       "       [5. , 3.3, 1.4, 0.2],\n",
       "       [7. , 3.2, 4.7, 1.4],\n",
       "       [6.4, 3.2, 4.5, 1.5],\n",
       "       [6.9, 3.1, 4.9, 1.5],\n",
       "       [5.5, 2.3, 4. , 1.3],\n",
       "       [6.5, 2.8, 4.6, 1.5],\n",
       "       [5.7, 2.8, 4.5, 1.3],\n",
       "       [6.3, 3.3, 4.7, 1.6],\n",
       "       [4.9, 2.4, 3.3, 1. ],\n",
       "       [6.6, 2.9, 4.6, 1.3],\n",
       "       [5.2, 2.7, 3.9, 1.4],\n",
       "       [5. , 2. , 3.5, 1. ],\n",
       "       [5.9, 3. , 4.2, 1.5],\n",
       "       [6. , 2.2, 4. , 1. ],\n",
       "       [6.1, 2.9, 4.7, 1.4],\n",
       "       [5.6, 2.9, 3.6, 1.3],\n",
       "       [6.7, 3.1, 4.4, 1.4],\n",
       "       [5.6, 3. , 4.5, 1.5],\n",
       "       [5.8, 2.7, 4.1, 1. ],\n",
       "       [6.2, 2.2, 4.5, 1.5],\n",
       "       [5.6, 2.5, 3.9, 1.1],\n",
       "       [5.9, 3.2, 4.8, 1.8],\n",
       "       [6.1, 2.8, 4. , 1.3],\n",
       "       [6.3, 2.5, 4.9, 1.5],\n",
       "       [6.1, 2.8, 4.7, 1.2],\n",
       "       [6.4, 2.9, 4.3, 1.3],\n",
       "       [6.6, 3. , 4.4, 1.4],\n",
       "       [6.8, 2.8, 4.8, 1.4],\n",
       "       [6.7, 3. , 5. , 1.7],\n",
       "       [6. , 2.9, 4.5, 1.5],\n",
       "       [5.7, 2.6, 3.5, 1. ],\n",
       "       [5.5, 2.4, 3.8, 1.1],\n",
       "       [5.5, 2.4, 3.7, 1. ],\n",
       "       [5.8, 2.7, 3.9, 1.2],\n",
       "       [6. , 2.7, 5.1, 1.6],\n",
       "       [5.4, 3. , 4.5, 1.5],\n",
       "       [6. , 3.4, 4.5, 1.6],\n",
       "       [6.7, 3.1, 4.7, 1.5],\n",
       "       [6.3, 2.3, 4.4, 1.3],\n",
       "       [5.6, 3. , 4.1, 1.3],\n",
       "       [5.5, 2.5, 4. , 1.3],\n",
       "       [5.5, 2.6, 4.4, 1.2],\n",
       "       [6.1, 3. , 4.6, 1.4],\n",
       "       [5.8, 2.6, 4. , 1.2],\n",
       "       [5. , 2.3, 3.3, 1. ],\n",
       "       [5.6, 2.7, 4.2, 1.3],\n",
       "       [5.7, 3. , 4.2, 1.2],\n",
       "       [5.7, 2.9, 4.2, 1.3],\n",
       "       [6.2, 2.9, 4.3, 1.3],\n",
       "       [5.1, 2.5, 3. , 1.1],\n",
       "       [5.7, 2.8, 4.1, 1.3],\n",
       "       [6.3, 3.3, 6. , 2.5],\n",
       "       [5.8, 2.7, 5.1, 1.9],\n",
       "       [7.1, 3. , 5.9, 2.1],\n",
       "       [6.3, 2.9, 5.6, 1.8],\n",
       "       [6.5, 3. , 5.8, 2.2],\n",
       "       [7.6, 3. , 6.6, 2.1],\n",
       "       [4.9, 2.5, 4.5, 1.7],\n",
       "       [7.3, 2.9, 6.3, 1.8],\n",
       "       [6.7, 2.5, 5.8, 1.8],\n",
       "       [7.2, 3.6, 6.1, 2.5],\n",
       "       [6.5, 3.2, 5.1, 2. ],\n",
       "       [6.4, 2.7, 5.3, 1.9],\n",
       "       [6.8, 3. , 5.5, 2.1],\n",
       "       [5.7, 2.5, 5. , 2. ],\n",
       "       [5.8, 2.8, 5.1, 2.4],\n",
       "       [6.4, 3.2, 5.3, 2.3],\n",
       "       [6.5, 3. , 5.5, 1.8],\n",
       "       [7.7, 3.8, 6.7, 2.2],\n",
       "       [7.7, 2.6, 6.9, 2.3],\n",
       "       [6. , 2.2, 5. , 1.5],\n",
       "       [6.9, 3.2, 5.7, 2.3],\n",
       "       [5.6, 2.8, 4.9, 2. ],\n",
       "       [7.7, 2.8, 6.7, 2. ],\n",
       "       [6.3, 2.7, 4.9, 1.8],\n",
       "       [6.7, 3.3, 5.7, 2.1],\n",
       "       [7.2, 3.2, 6. , 1.8],\n",
       "       [6.2, 2.8, 4.8, 1.8],\n",
       "       [6.1, 3. , 4.9, 1.8],\n",
       "       [6.4, 2.8, 5.6, 2.1],\n",
       "       [7.2, 3. , 5.8, 1.6],\n",
       "       [7.4, 2.8, 6.1, 1.9],\n",
       "       [7.9, 3.8, 6.4, 2. ],\n",
       "       [6.4, 2.8, 5.6, 2.2],\n",
       "       [6.3, 2.8, 5.1, 1.5],\n",
       "       [6.1, 2.6, 5.6, 1.4],\n",
       "       [7.7, 3. , 6.1, 2.3],\n",
       "       [6.3, 3.4, 5.6, 2.4],\n",
       "       [6.4, 3.1, 5.5, 1.8],\n",
       "       [6. , 3. , 4.8, 1.8],\n",
       "       [6.9, 3.1, 5.4, 2.1],\n",
       "       [6.7, 3.1, 5.6, 2.4],\n",
       "       [6.9, 3.1, 5.1, 2.3],\n",
       "       [5.8, 2.7, 5.1, 1.9],\n",
       "       [6.8, 3.2, 5.9, 2.3],\n",
       "       [6.7, 3.3, 5.7, 2.5],\n",
       "       [6.7, 3. , 5.2, 2.3],\n",
       "       [6.3, 2.5, 5. , 1.9],\n",
       "       [6.5, 3. , 5.2, 2. ],\n",
       "       [6.2, 3.4, 5.4, 2.3],\n",
       "       [5.9, 3. , 5.1, 1.8]])"
      ]
     },
     "execution_count": 69,
     "metadata": {},
     "output_type": "execute_result"
    }
   ],
   "source": [
    "url = \"http://51.91.120.89/extras/iris.csv\"\n",
    "arr = np.genfromtxt(url, delimiter=\",\", usecols=[0,1,2,3], skip_header=1)\n",
    "arr"
   ]
  },
  {
   "cell_type": "code",
   "execution_count": 70,
   "id": "7a21c8d6",
   "metadata": {},
   "outputs": [
    {
     "data": {
      "text/plain": [
       "(150, 4)"
      ]
     },
     "execution_count": 70,
     "metadata": {},
     "output_type": "execute_result"
    }
   ],
   "source": [
    "arr.shape"
   ]
  },
  {
   "cell_type": "code",
   "execution_count": 72,
   "id": "d4d3b19b",
   "metadata": {},
   "outputs": [],
   "source": [
    "np.savetxt(\"numpy.csv\", arr, fmt=\"%.5f\", delimiter=\"|\")"
   ]
  },
  {
   "cell_type": "markdown",
   "id": "81f1561d",
   "metadata": {},
   "source": [
    "#### Zmiana kształtu tabeli"
   ]
  },
  {
   "cell_type": "code",
   "execution_count": 73,
   "id": "8fcc60eb",
   "metadata": {},
   "outputs": [
    {
     "data": {
      "text/plain": [
       "(150, 4)"
      ]
     },
     "execution_count": 73,
     "metadata": {},
     "output_type": "execute_result"
    }
   ],
   "source": [
    "arr.shape"
   ]
  },
  {
   "cell_type": "code",
   "execution_count": 74,
   "id": "6a378714",
   "metadata": {
    "collapsed": true
   },
   "outputs": [
    {
     "data": {
      "text/plain": [
       "array([5.1, 3.5, 1.4, 0.2, 4.9, 3. , 1.4, 0.2, 4.7, 3.2, 1.3, 0.2, 4.6,\n",
       "       3.1, 1.5, 0.2, 5. , 3.6, 1.4, 0.2, 5.4, 3.9, 1.7, 0.4, 4.6, 3.4,\n",
       "       1.4, 0.3, 5. , 3.4, 1.5, 0.2, 4.4, 2.9, 1.4, 0.2, 4.9, 3.1, 1.5,\n",
       "       0.1, 5.4, 3.7, 1.5, 0.2, 4.8, 3.4, 1.6, 0.2, 4.8, 3. , 1.4, 0.1,\n",
       "       4.3, 3. , 1.1, 0.1, 5.8, 4. , 1.2, 0.2, 5.7, 4.4, 1.5, 0.4, 5.4,\n",
       "       3.9, 1.3, 0.4, 5.1, 3.5, 1.4, 0.3, 5.7, 3.8, 1.7, 0.3, 5.1, 3.8,\n",
       "       1.5, 0.3, 5.4, 3.4, 1.7, 0.2, 5.1, 3.7, 1.5, 0.4, 4.6, 3.6, 1. ,\n",
       "       0.2, 5.1, 3.3, 1.7, 0.5, 4.8, 3.4, 1.9, 0.2, 5. , 3. , 1.6, 0.2,\n",
       "       5. , 3.4, 1.6, 0.4, 5.2, 3.5, 1.5, 0.2, 5.2, 3.4, 1.4, 0.2, 4.7,\n",
       "       3.2, 1.6, 0.2, 4.8, 3.1, 1.6, 0.2, 5.4, 3.4, 1.5, 0.4, 5.2, 4.1,\n",
       "       1.5, 0.1, 5.5, 4.2, 1.4, 0.2, 4.9, 3.1, 1.5, 0.1, 5. , 3.2, 1.2,\n",
       "       0.2, 5.5, 3.5, 1.3, 0.2, 4.9, 3.1, 1.5, 0.1, 4.4, 3. , 1.3, 0.2,\n",
       "       5.1, 3.4, 1.5, 0.2, 5. , 3.5, 1.3, 0.3, 4.5, 2.3, 1.3, 0.3, 4.4,\n",
       "       3.2, 1.3, 0.2, 5. , 3.5, 1.6, 0.6, 5.1, 3.8, 1.9, 0.4, 4.8, 3. ,\n",
       "       1.4, 0.3, 5.1, 3.8, 1.6, 0.2, 4.6, 3.2, 1.4, 0.2, 5.3, 3.7, 1.5,\n",
       "       0.2, 5. , 3.3, 1.4, 0.2, 7. , 3.2, 4.7, 1.4, 6.4, 3.2, 4.5, 1.5,\n",
       "       6.9, 3.1, 4.9, 1.5, 5.5, 2.3, 4. , 1.3, 6.5, 2.8, 4.6, 1.5, 5.7,\n",
       "       2.8, 4.5, 1.3, 6.3, 3.3, 4.7, 1.6, 4.9, 2.4, 3.3, 1. , 6.6, 2.9,\n",
       "       4.6, 1.3, 5.2, 2.7, 3.9, 1.4, 5. , 2. , 3.5, 1. , 5.9, 3. , 4.2,\n",
       "       1.5, 6. , 2.2, 4. , 1. , 6.1, 2.9, 4.7, 1.4, 5.6, 2.9, 3.6, 1.3,\n",
       "       6.7, 3.1, 4.4, 1.4, 5.6, 3. , 4.5, 1.5, 5.8, 2.7, 4.1, 1. , 6.2,\n",
       "       2.2, 4.5, 1.5, 5.6, 2.5, 3.9, 1.1, 5.9, 3.2, 4.8, 1.8, 6.1, 2.8,\n",
       "       4. , 1.3, 6.3, 2.5, 4.9, 1.5, 6.1, 2.8, 4.7, 1.2, 6.4, 2.9, 4.3,\n",
       "       1.3, 6.6, 3. , 4.4, 1.4, 6.8, 2.8, 4.8, 1.4, 6.7, 3. , 5. , 1.7,\n",
       "       6. , 2.9, 4.5, 1.5, 5.7, 2.6, 3.5, 1. , 5.5, 2.4, 3.8, 1.1, 5.5,\n",
       "       2.4, 3.7, 1. , 5.8, 2.7, 3.9, 1.2, 6. , 2.7, 5.1, 1.6, 5.4, 3. ,\n",
       "       4.5, 1.5, 6. , 3.4, 4.5, 1.6, 6.7, 3.1, 4.7, 1.5, 6.3, 2.3, 4.4,\n",
       "       1.3, 5.6, 3. , 4.1, 1.3, 5.5, 2.5, 4. , 1.3, 5.5, 2.6, 4.4, 1.2,\n",
       "       6.1, 3. , 4.6, 1.4, 5.8, 2.6, 4. , 1.2, 5. , 2.3, 3.3, 1. , 5.6,\n",
       "       2.7, 4.2, 1.3, 5.7, 3. , 4.2, 1.2, 5.7, 2.9, 4.2, 1.3, 6.2, 2.9,\n",
       "       4.3, 1.3, 5.1, 2.5, 3. , 1.1, 5.7, 2.8, 4.1, 1.3, 6.3, 3.3, 6. ,\n",
       "       2.5, 5.8, 2.7, 5.1, 1.9, 7.1, 3. , 5.9, 2.1, 6.3, 2.9, 5.6, 1.8,\n",
       "       6.5, 3. , 5.8, 2.2, 7.6, 3. , 6.6, 2.1, 4.9, 2.5, 4.5, 1.7, 7.3,\n",
       "       2.9, 6.3, 1.8, 6.7, 2.5, 5.8, 1.8, 7.2, 3.6, 6.1, 2.5, 6.5, 3.2,\n",
       "       5.1, 2. , 6.4, 2.7, 5.3, 1.9, 6.8, 3. , 5.5, 2.1, 5.7, 2.5, 5. ,\n",
       "       2. , 5.8, 2.8, 5.1, 2.4, 6.4, 3.2, 5.3, 2.3, 6.5, 3. , 5.5, 1.8,\n",
       "       7.7, 3.8, 6.7, 2.2, 7.7, 2.6, 6.9, 2.3, 6. , 2.2, 5. , 1.5, 6.9,\n",
       "       3.2, 5.7, 2.3, 5.6, 2.8, 4.9, 2. , 7.7, 2.8, 6.7, 2. , 6.3, 2.7,\n",
       "       4.9, 1.8, 6.7, 3.3, 5.7, 2.1, 7.2, 3.2, 6. , 1.8, 6.2, 2.8, 4.8,\n",
       "       1.8, 6.1, 3. , 4.9, 1.8, 6.4, 2.8, 5.6, 2.1, 7.2, 3. , 5.8, 1.6,\n",
       "       7.4, 2.8, 6.1, 1.9, 7.9, 3.8, 6.4, 2. , 6.4, 2.8, 5.6, 2.2, 6.3,\n",
       "       2.8, 5.1, 1.5, 6.1, 2.6, 5.6, 1.4, 7.7, 3. , 6.1, 2.3, 6.3, 3.4,\n",
       "       5.6, 2.4, 6.4, 3.1, 5.5, 1.8, 6. , 3. , 4.8, 1.8, 6.9, 3.1, 5.4,\n",
       "       2.1, 6.7, 3.1, 5.6, 2.4, 6.9, 3.1, 5.1, 2.3, 5.8, 2.7, 5.1, 1.9,\n",
       "       6.8, 3.2, 5.9, 2.3, 6.7, 3.3, 5.7, 2.5, 6.7, 3. , 5.2, 2.3, 6.3,\n",
       "       2.5, 5. , 1.9, 6.5, 3. , 5.2, 2. , 6.2, 3.4, 5.4, 2.3, 5.9, 3. ,\n",
       "       5.1, 1.8])"
      ]
     },
     "execution_count": 74,
     "metadata": {},
     "output_type": "execute_result"
    }
   ],
   "source": [
    "arr.flatten()"
   ]
  },
  {
   "cell_type": "code",
   "execution_count": 75,
   "id": "0b5c5f62",
   "metadata": {},
   "outputs": [
    {
     "data": {
      "text/plain": [
       "(30, 20)"
      ]
     },
     "execution_count": 75,
     "metadata": {},
     "output_type": "execute_result"
    }
   ],
   "source": [
    "# zmiana na 30wierzy i 20kolumn\n",
    "arr = arr.reshape(30,20)\n",
    "arr.shape"
   ]
  },
  {
   "cell_type": "code",
   "execution_count": 79,
   "id": "c09f27a9",
   "metadata": {},
   "outputs": [
    {
     "data": {
      "text/plain": [
       "(6, 100)"
      ]
     },
     "execution_count": 79,
     "metadata": {},
     "output_type": "execute_result"
    }
   ],
   "source": [
    "arr = arr.reshape(-1, 100)\n",
    "arr.shape"
   ]
  },
  {
   "cell_type": "code",
   "execution_count": 80,
   "id": "3c0aff52",
   "metadata": {},
   "outputs": [
    {
     "data": {
      "text/plain": [
       "(10, 10, 6)"
      ]
     },
     "execution_count": 80,
     "metadata": {},
     "output_type": "execute_result"
    }
   ],
   "source": [
    "arr = arr.reshape(10,10,6)\n",
    "arr.shape"
   ]
  },
  {
   "cell_type": "code",
   "execution_count": 82,
   "id": "10f33029",
   "metadata": {},
   "outputs": [
    {
     "data": {
      "text/plain": [
       "(20, 5, 6)"
      ]
     },
     "execution_count": 82,
     "metadata": {},
     "output_type": "execute_result"
    }
   ],
   "source": [
    "arr =arr.reshape(20,5,-1)\n",
    "arr.shape"
   ]
  },
  {
   "cell_type": "code",
   "execution_count": 83,
   "id": "8f1b9654",
   "metadata": {
    "collapsed": true
   },
   "outputs": [
    {
     "data": {
      "text/plain": [
       "array([[[5.1, 3.5, 1.4, 0.2, 4.9, 3. ],\n",
       "        [1.4, 0.2, 4.7, 3.2, 1.3, 0.2],\n",
       "        [4.6, 3.1, 1.5, 0.2, 5. , 3.6],\n",
       "        [1.4, 0.2, 5.4, 3.9, 1.7, 0.4],\n",
       "        [4.6, 3.4, 1.4, 0.3, 5. , 3.4]],\n",
       "\n",
       "       [[1.5, 0.2, 4.4, 2.9, 1.4, 0.2],\n",
       "        [4.9, 3.1, 1.5, 0.1, 5.4, 3.7],\n",
       "        [1.5, 0.2, 4.8, 3.4, 1.6, 0.2],\n",
       "        [4.8, 3. , 1.4, 0.1, 4.3, 3. ],\n",
       "        [1.1, 0.1, 5.8, 4. , 1.2, 0.2]],\n",
       "\n",
       "       [[5.7, 4.4, 1.5, 0.4, 5.4, 3.9],\n",
       "        [1.3, 0.4, 5.1, 3.5, 1.4, 0.3],\n",
       "        [5.7, 3.8, 1.7, 0.3, 5.1, 3.8],\n",
       "        [1.5, 0.3, 5.4, 3.4, 1.7, 0.2],\n",
       "        [5.1, 3.7, 1.5, 0.4, 4.6, 3.6]],\n",
       "\n",
       "       [[1. , 0.2, 5.1, 3.3, 1.7, 0.5],\n",
       "        [4.8, 3.4, 1.9, 0.2, 5. , 3. ],\n",
       "        [1.6, 0.2, 5. , 3.4, 1.6, 0.4],\n",
       "        [5.2, 3.5, 1.5, 0.2, 5.2, 3.4],\n",
       "        [1.4, 0.2, 4.7, 3.2, 1.6, 0.2]],\n",
       "\n",
       "       [[4.8, 3.1, 1.6, 0.2, 5.4, 3.4],\n",
       "        [1.5, 0.4, 5.2, 4.1, 1.5, 0.1],\n",
       "        [5.5, 4.2, 1.4, 0.2, 4.9, 3.1],\n",
       "        [1.5, 0.1, 5. , 3.2, 1.2, 0.2],\n",
       "        [5.5, 3.5, 1.3, 0.2, 4.9, 3.1]],\n",
       "\n",
       "       [[1.5, 0.1, 4.4, 3. , 1.3, 0.2],\n",
       "        [5.1, 3.4, 1.5, 0.2, 5. , 3.5],\n",
       "        [1.3, 0.3, 4.5, 2.3, 1.3, 0.3],\n",
       "        [4.4, 3.2, 1.3, 0.2, 5. , 3.5],\n",
       "        [1.6, 0.6, 5.1, 3.8, 1.9, 0.4]],\n",
       "\n",
       "       [[4.8, 3. , 1.4, 0.3, 5.1, 3.8],\n",
       "        [1.6, 0.2, 4.6, 3.2, 1.4, 0.2],\n",
       "        [5.3, 3.7, 1.5, 0.2, 5. , 3.3],\n",
       "        [1.4, 0.2, 7. , 3.2, 4.7, 1.4],\n",
       "        [6.4, 3.2, 4.5, 1.5, 6.9, 3.1]],\n",
       "\n",
       "       [[4.9, 1.5, 5.5, 2.3, 4. , 1.3],\n",
       "        [6.5, 2.8, 4.6, 1.5, 5.7, 2.8],\n",
       "        [4.5, 1.3, 6.3, 3.3, 4.7, 1.6],\n",
       "        [4.9, 2.4, 3.3, 1. , 6.6, 2.9],\n",
       "        [4.6, 1.3, 5.2, 2.7, 3.9, 1.4]],\n",
       "\n",
       "       [[5. , 2. , 3.5, 1. , 5.9, 3. ],\n",
       "        [4.2, 1.5, 6. , 2.2, 4. , 1. ],\n",
       "        [6.1, 2.9, 4.7, 1.4, 5.6, 2.9],\n",
       "        [3.6, 1.3, 6.7, 3.1, 4.4, 1.4],\n",
       "        [5.6, 3. , 4.5, 1.5, 5.8, 2.7]],\n",
       "\n",
       "       [[4.1, 1. , 6.2, 2.2, 4.5, 1.5],\n",
       "        [5.6, 2.5, 3.9, 1.1, 5.9, 3.2],\n",
       "        [4.8, 1.8, 6.1, 2.8, 4. , 1.3],\n",
       "        [6.3, 2.5, 4.9, 1.5, 6.1, 2.8],\n",
       "        [4.7, 1.2, 6.4, 2.9, 4.3, 1.3]],\n",
       "\n",
       "       [[6.6, 3. , 4.4, 1.4, 6.8, 2.8],\n",
       "        [4.8, 1.4, 6.7, 3. , 5. , 1.7],\n",
       "        [6. , 2.9, 4.5, 1.5, 5.7, 2.6],\n",
       "        [3.5, 1. , 5.5, 2.4, 3.8, 1.1],\n",
       "        [5.5, 2.4, 3.7, 1. , 5.8, 2.7]],\n",
       "\n",
       "       [[3.9, 1.2, 6. , 2.7, 5.1, 1.6],\n",
       "        [5.4, 3. , 4.5, 1.5, 6. , 3.4],\n",
       "        [4.5, 1.6, 6.7, 3.1, 4.7, 1.5],\n",
       "        [6.3, 2.3, 4.4, 1.3, 5.6, 3. ],\n",
       "        [4.1, 1.3, 5.5, 2.5, 4. , 1.3]],\n",
       "\n",
       "       [[5.5, 2.6, 4.4, 1.2, 6.1, 3. ],\n",
       "        [4.6, 1.4, 5.8, 2.6, 4. , 1.2],\n",
       "        [5. , 2.3, 3.3, 1. , 5.6, 2.7],\n",
       "        [4.2, 1.3, 5.7, 3. , 4.2, 1.2],\n",
       "        [5.7, 2.9, 4.2, 1.3, 6.2, 2.9]],\n",
       "\n",
       "       [[4.3, 1.3, 5.1, 2.5, 3. , 1.1],\n",
       "        [5.7, 2.8, 4.1, 1.3, 6.3, 3.3],\n",
       "        [6. , 2.5, 5.8, 2.7, 5.1, 1.9],\n",
       "        [7.1, 3. , 5.9, 2.1, 6.3, 2.9],\n",
       "        [5.6, 1.8, 6.5, 3. , 5.8, 2.2]],\n",
       "\n",
       "       [[7.6, 3. , 6.6, 2.1, 4.9, 2.5],\n",
       "        [4.5, 1.7, 7.3, 2.9, 6.3, 1.8],\n",
       "        [6.7, 2.5, 5.8, 1.8, 7.2, 3.6],\n",
       "        [6.1, 2.5, 6.5, 3.2, 5.1, 2. ],\n",
       "        [6.4, 2.7, 5.3, 1.9, 6.8, 3. ]],\n",
       "\n",
       "       [[5.5, 2.1, 5.7, 2.5, 5. , 2. ],\n",
       "        [5.8, 2.8, 5.1, 2.4, 6.4, 3.2],\n",
       "        [5.3, 2.3, 6.5, 3. , 5.5, 1.8],\n",
       "        [7.7, 3.8, 6.7, 2.2, 7.7, 2.6],\n",
       "        [6.9, 2.3, 6. , 2.2, 5. , 1.5]],\n",
       "\n",
       "       [[6.9, 3.2, 5.7, 2.3, 5.6, 2.8],\n",
       "        [4.9, 2. , 7.7, 2.8, 6.7, 2. ],\n",
       "        [6.3, 2.7, 4.9, 1.8, 6.7, 3.3],\n",
       "        [5.7, 2.1, 7.2, 3.2, 6. , 1.8],\n",
       "        [6.2, 2.8, 4.8, 1.8, 6.1, 3. ]],\n",
       "\n",
       "       [[4.9, 1.8, 6.4, 2.8, 5.6, 2.1],\n",
       "        [7.2, 3. , 5.8, 1.6, 7.4, 2.8],\n",
       "        [6.1, 1.9, 7.9, 3.8, 6.4, 2. ],\n",
       "        [6.4, 2.8, 5.6, 2.2, 6.3, 2.8],\n",
       "        [5.1, 1.5, 6.1, 2.6, 5.6, 1.4]],\n",
       "\n",
       "       [[7.7, 3. , 6.1, 2.3, 6.3, 3.4],\n",
       "        [5.6, 2.4, 6.4, 3.1, 5.5, 1.8],\n",
       "        [6. , 3. , 4.8, 1.8, 6.9, 3.1],\n",
       "        [5.4, 2.1, 6.7, 3.1, 5.6, 2.4],\n",
       "        [6.9, 3.1, 5.1, 2.3, 5.8, 2.7]],\n",
       "\n",
       "       [[5.1, 1.9, 6.8, 3.2, 5.9, 2.3],\n",
       "        [6.7, 3.3, 5.7, 2.5, 6.7, 3. ],\n",
       "        [5.2, 2.3, 6.3, 2.5, 5. , 1.9],\n",
       "        [6.5, 3. , 5.2, 2. , 6.2, 3.4],\n",
       "        [5.4, 2.3, 5.9, 3. , 5.1, 1.8]]])"
      ]
     },
     "execution_count": 83,
     "metadata": {},
     "output_type": "execute_result"
    }
   ],
   "source": [
    "arr"
   ]
  },
  {
   "cell_type": "code",
   "execution_count": 84,
   "id": "0fd510e5",
   "metadata": {},
   "outputs": [
    {
     "data": {
      "text/plain": [
       "dtype('float64')"
      ]
     },
     "execution_count": 84,
     "metadata": {},
     "output_type": "execute_result"
    }
   ],
   "source": [
    "arr.dtype"
   ]
  },
  {
   "cell_type": "code",
   "execution_count": 88,
   "id": "1ca2968c",
   "metadata": {},
   "outputs": [
    {
     "data": {
      "text/plain": [
       "array([[[5, 3, 1, 0, 4, 3],\n",
       "        [1, 0, 4, 3, 1, 0],\n",
       "        [4, 3, 1, 0, 5, 3],\n",
       "        [1, 0, 5, 3, 1, 0],\n",
       "        [4, 3, 1, 0, 5, 3]],\n",
       "\n",
       "       [[1, 0, 4, 2, 1, 0],\n",
       "        [4, 3, 1, 0, 5, 3],\n",
       "        [1, 0, 4, 3, 1, 0],\n",
       "        [4, 3, 1, 0, 4, 3],\n",
       "        [1, 0, 5, 4, 1, 0]],\n",
       "\n",
       "       [[5, 4, 1, 0, 5, 3],\n",
       "        [1, 0, 5, 3, 1, 0],\n",
       "        [5, 3, 1, 0, 5, 3],\n",
       "        [1, 0, 5, 3, 1, 0],\n",
       "        [5, 3, 1, 0, 4, 3]],\n",
       "\n",
       "       [[1, 0, 5, 3, 1, 0],\n",
       "        [4, 3, 1, 0, 5, 3],\n",
       "        [1, 0, 5, 3, 1, 0],\n",
       "        [5, 3, 1, 0, 5, 3],\n",
       "        [1, 0, 4, 3, 1, 0]],\n",
       "\n",
       "       [[4, 3, 1, 0, 5, 3],\n",
       "        [1, 0, 5, 4, 1, 0],\n",
       "        [5, 4, 1, 0, 4, 3],\n",
       "        [1, 0, 5, 3, 1, 0],\n",
       "        [5, 3, 1, 0, 4, 3]],\n",
       "\n",
       "       [[1, 0, 4, 3, 1, 0],\n",
       "        [5, 3, 1, 0, 5, 3],\n",
       "        [1, 0, 4, 2, 1, 0],\n",
       "        [4, 3, 1, 0, 5, 3],\n",
       "        [1, 0, 5, 3, 1, 0]],\n",
       "\n",
       "       [[4, 3, 1, 0, 5, 3],\n",
       "        [1, 0, 4, 3, 1, 0],\n",
       "        [5, 3, 1, 0, 5, 3],\n",
       "        [1, 0, 7, 3, 4, 1],\n",
       "        [6, 3, 4, 1, 6, 3]],\n",
       "\n",
       "       [[4, 1, 5, 2, 4, 1],\n",
       "        [6, 2, 4, 1, 5, 2],\n",
       "        [4, 1, 6, 3, 4, 1],\n",
       "        [4, 2, 3, 1, 6, 2],\n",
       "        [4, 1, 5, 2, 3, 1]],\n",
       "\n",
       "       [[5, 2, 3, 1, 5, 3],\n",
       "        [4, 1, 6, 2, 4, 1],\n",
       "        [6, 2, 4, 1, 5, 2],\n",
       "        [3, 1, 6, 3, 4, 1],\n",
       "        [5, 3, 4, 1, 5, 2]],\n",
       "\n",
       "       [[4, 1, 6, 2, 4, 1],\n",
       "        [5, 2, 3, 1, 5, 3],\n",
       "        [4, 1, 6, 2, 4, 1],\n",
       "        [6, 2, 4, 1, 6, 2],\n",
       "        [4, 1, 6, 2, 4, 1]],\n",
       "\n",
       "       [[6, 3, 4, 1, 6, 2],\n",
       "        [4, 1, 6, 3, 5, 1],\n",
       "        [6, 2, 4, 1, 5, 2],\n",
       "        [3, 1, 5, 2, 3, 1],\n",
       "        [5, 2, 3, 1, 5, 2]],\n",
       "\n",
       "       [[3, 1, 6, 2, 5, 1],\n",
       "        [5, 3, 4, 1, 6, 3],\n",
       "        [4, 1, 6, 3, 4, 1],\n",
       "        [6, 2, 4, 1, 5, 3],\n",
       "        [4, 1, 5, 2, 4, 1]],\n",
       "\n",
       "       [[5, 2, 4, 1, 6, 3],\n",
       "        [4, 1, 5, 2, 4, 1],\n",
       "        [5, 2, 3, 1, 5, 2],\n",
       "        [4, 1, 5, 3, 4, 1],\n",
       "        [5, 2, 4, 1, 6, 2]],\n",
       "\n",
       "       [[4, 1, 5, 2, 3, 1],\n",
       "        [5, 2, 4, 1, 6, 3],\n",
       "        [6, 2, 5, 2, 5, 1],\n",
       "        [7, 3, 5, 2, 6, 2],\n",
       "        [5, 1, 6, 3, 5, 2]],\n",
       "\n",
       "       [[7, 3, 6, 2, 4, 2],\n",
       "        [4, 1, 7, 2, 6, 1],\n",
       "        [6, 2, 5, 1, 7, 3],\n",
       "        [6, 2, 6, 3, 5, 2],\n",
       "        [6, 2, 5, 1, 6, 3]],\n",
       "\n",
       "       [[5, 2, 5, 2, 5, 2],\n",
       "        [5, 2, 5, 2, 6, 3],\n",
       "        [5, 2, 6, 3, 5, 1],\n",
       "        [7, 3, 6, 2, 7, 2],\n",
       "        [6, 2, 6, 2, 5, 1]],\n",
       "\n",
       "       [[6, 3, 5, 2, 5, 2],\n",
       "        [4, 2, 7, 2, 6, 2],\n",
       "        [6, 2, 4, 1, 6, 3],\n",
       "        [5, 2, 7, 3, 6, 1],\n",
       "        [6, 2, 4, 1, 6, 3]],\n",
       "\n",
       "       [[4, 1, 6, 2, 5, 2],\n",
       "        [7, 3, 5, 1, 7, 2],\n",
       "        [6, 1, 7, 3, 6, 2],\n",
       "        [6, 2, 5, 2, 6, 2],\n",
       "        [5, 1, 6, 2, 5, 1]],\n",
       "\n",
       "       [[7, 3, 6, 2, 6, 3],\n",
       "        [5, 2, 6, 3, 5, 1],\n",
       "        [6, 3, 4, 1, 6, 3],\n",
       "        [5, 2, 6, 3, 5, 2],\n",
       "        [6, 3, 5, 2, 5, 2]],\n",
       "\n",
       "       [[5, 1, 6, 3, 5, 2],\n",
       "        [6, 3, 5, 2, 6, 3],\n",
       "        [5, 2, 6, 2, 5, 1],\n",
       "        [6, 3, 5, 2, 6, 3],\n",
       "        [5, 2, 5, 3, 5, 1]]])"
      ]
     },
     "execution_count": 88,
     "metadata": {},
     "output_type": "execute_result"
    }
   ],
   "source": [
    "arr.astype(\"int32\", casting=\"unsafe\")"
   ]
  },
  {
   "cell_type": "code",
   "execution_count": null,
   "id": "f727e74f",
   "metadata": {},
   "outputs": [],
   "source": []
  }
 ],
 "metadata": {
  "kernelspec": {
   "display_name": "Python 3 (ipykernel)",
   "language": "python",
   "name": "python3"
  },
  "language_info": {
   "codemirror_mode": {
    "name": "ipython",
    "version": 3
   },
   "file_extension": ".py",
   "mimetype": "text/x-python",
   "name": "python",
   "nbconvert_exporter": "python",
   "pygments_lexer": "ipython3",
   "version": "3.9.7"
  }
 },
 "nbformat": 4,
 "nbformat_minor": 5
}
