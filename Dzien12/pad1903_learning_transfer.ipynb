{
  "nbformat": 4,
  "nbformat_minor": 0,
  "metadata": {
    "colab": {
      "name": "pad1903-learning-transfer.ipynb",
      "provenance": []
    },
    "kernelspec": {
      "name": "python3",
      "display_name": "Python 3"
    },
    "language_info": {
      "name": "python"
    },
    "accelerator": "GPU"
  },
  "cells": [
    {
      "cell_type": "code",
      "execution_count": 1,
      "metadata": {
        "colab": {
          "base_uri": "https://localhost:8080/"
        },
        "id": "EZOiMc-RIExz",
        "outputId": "49224b54-7730-47bb-8286-55699b94e205"
      },
      "outputs": [
        {
          "output_type": "stream",
          "name": "stdout",
          "text": [
            "--2022-06-12 09:43:10--  http://51.91.120.89/extras/transfer_data.zip\n",
            "Connecting to 51.91.120.89:80... connected.\n",
            "HTTP request sent, awaiting response... 200 OK\n",
            "Length: 96524975 (92M) [application/zip]\n",
            "Saving to: ‘data.zip’\n",
            "\n",
            "data.zip            100%[===================>]  92.05M  11.7MB/s    in 8.6s    \n",
            "\n",
            "2022-06-12 09:43:19 (10.7 MB/s) - ‘data.zip’ saved [96524975/96524975]\n",
            "\n"
          ]
        }
      ],
      "source": [
        "!wget -O data.zip http://51.91.120.89/extras/transfer_data.zip"
      ]
    },
    {
      "cell_type": "code",
      "source": [
        "!unzip -q data.zip"
      ],
      "metadata": {
        "colab": {
          "base_uri": "https://localhost:8080/"
        },
        "id": "xOly3C8DIOYW",
        "outputId": "604d374b-b8b0-46b0-b6f4-c9ac88a1552c"
      },
      "execution_count": 2,
      "outputs": [
        {
          "output_type": "stream",
          "name": "stdout",
          "text": [
            "warning [data.zip]:  932228 extra bytes at beginning or within zipfile\n",
            "  (attempting to process anyway)\n"
          ]
        }
      ]
    },
    {
      "cell_type": "code",
      "source": [
        "!unzip -q dataset2.zip"
      ],
      "metadata": {
        "id": "Brfy6tX-Ic6T"
      },
      "execution_count": 3,
      "outputs": []
    },
    {
      "cell_type": "code",
      "source": [
        "import glob, os, shutil"
      ],
      "metadata": {
        "id": "RcAe_7x7Imva"
      },
      "execution_count": 4,
      "outputs": []
    },
    {
      "cell_type": "code",
      "source": [
        "types = [\n",
        "  (\"Cloudy\", \"cloud*.*\") , (\"Rainy\",\"rain*.*\") , (\"Shiny\",\"shin*.*\"), (\"Sunrise\",\"sunrise*.*\")       \n",
        "]\n",
        "\n",
        "shutil.rmtree(\"dataset\", ignore_errors=True)\n",
        "for folder_name, file_mask in types:\n",
        "  os.makedirs(f\"dataset/Train/{folder_name}\")\n",
        "  os.makedirs(f\"dataset/Test/{folder_name}\")\n",
        "\n",
        "  files = sorted( glob.glob(f\"dataset2/{file_mask}\") )\n",
        "  train_qnty = int(len(files)*0.8)\n",
        "\n",
        "  [ shutil.copy(file, f\"dataset/Train/{folder_name}\")  for file in files[:train_qnty] ]\n",
        "  [ shutil.copy(file, f\"dataset/Test/{folder_name}\")  for file in files[train_qnty:] ]\n",
        "  print(folder_name, file_mask, len(files), sep=\" : \")"
      ],
      "metadata": {
        "colab": {
          "base_uri": "https://localhost:8080/"
        },
        "id": "KU1kvQDMJfKn",
        "outputId": "68d9206f-a732-4725-ffff-0e6352cc9785"
      },
      "execution_count": 5,
      "outputs": [
        {
          "output_type": "stream",
          "name": "stdout",
          "text": [
            "Cloudy : cloud*.* : 300\n",
            "Rainy : rain*.* : 215\n",
            "Shiny : shin*.* : 253\n",
            "Sunrise : sunrise*.* : 357\n"
          ]
        }
      ]
    },
    {
      "cell_type": "code",
      "source": [
        "import numpy as np\n",
        "from tensorflow.keras.applications.vgg16 import VGG16,  preprocess_input, decode_predictions\n",
        "from tensorflow.keras.preprocessing.image import load_img, img_to_array"
      ],
      "metadata": {
        "id": "QbnxtD68K8iL"
      },
      "execution_count": 6,
      "outputs": []
    },
    {
      "cell_type": "code",
      "source": [
        "!wget -O obraz.jpg https://www.rynek-lotniczy.pl/img/20190216031910a380parispbozyk2.jpg_678-443.jpg"
      ],
      "metadata": {
        "colab": {
          "base_uri": "https://localhost:8080/"
        },
        "id": "SXOQFPwMOsii",
        "outputId": "c6dd7f83-4c7b-434e-a19b-55719f05d3db"
      },
      "execution_count": 7,
      "outputs": [
        {
          "output_type": "stream",
          "name": "stdout",
          "text": [
            "--2022-06-12 09:43:23--  https://www.rynek-lotniczy.pl/img/20190216031910a380parispbozyk2.jpg_678-443.jpg\n",
            "Resolving www.rynek-lotniczy.pl (www.rynek-lotniczy.pl)... 195.54.50.245\n",
            "Connecting to www.rynek-lotniczy.pl (www.rynek-lotniczy.pl)|195.54.50.245|:443... connected.\n",
            "HTTP request sent, awaiting response... 200 OK\n",
            "Length: 25513 (25K) [image/jpeg]\n",
            "Saving to: ‘obraz.jpg’\n",
            "\n",
            "obraz.jpg           100%[===================>]  24.92K  --.-KB/s    in 0.1s    \n",
            "\n",
            "2022-06-12 09:43:24 (204 KB/s) - ‘obraz.jpg’ saved [25513/25513]\n",
            "\n"
          ]
        }
      ]
    },
    {
      "cell_type": "code",
      "source": [
        "img = load_img(\"obraz.jpg\", target_size=(224,224))\n",
        "x = img_to_array(img)\n",
        "x = x.reshape(1, 224, 224, 3)\n",
        "x.shape"
      ],
      "metadata": {
        "colab": {
          "base_uri": "https://localhost:8080/"
        },
        "id": "nqVMJTSuO6op",
        "outputId": "ef54c7c8-2f0f-42ab-ea0e-e8f4b2c3ba88"
      },
      "execution_count": 8,
      "outputs": [
        {
          "output_type": "execute_result",
          "data": {
            "text/plain": [
              "(1, 224, 224, 3)"
            ]
          },
          "metadata": {},
          "execution_count": 8
        }
      ]
    },
    {
      "cell_type": "code",
      "source": [
        "model = VGG16()\n",
        "predict = model.predict( preprocess_input(x) )"
      ],
      "metadata": {
        "colab": {
          "base_uri": "https://localhost:8080/"
        },
        "id": "WcEDqtEjPLRZ",
        "outputId": "6d56f7a0-2111-4980-9a36-076104b02b87"
      },
      "execution_count": 9,
      "outputs": [
        {
          "output_type": "stream",
          "name": "stdout",
          "text": [
            "Downloading data from https://storage.googleapis.com/tensorflow/keras-applications/vgg16/vgg16_weights_tf_dim_ordering_tf_kernels.h5\n",
            "553467904/553467096 [==============================] - 3s 0us/step\n",
            "553476096/553467096 [==============================] - 3s 0us/step\n"
          ]
        }
      ]
    },
    {
      "cell_type": "code",
      "source": [
        "decode_predictions(predict)"
      ],
      "metadata": {
        "colab": {
          "base_uri": "https://localhost:8080/"
        },
        "id": "LMC7Szj6PR93",
        "outputId": "3f26eb95-fc21-41b5-b7fc-947955674556"
      },
      "execution_count": 10,
      "outputs": [
        {
          "output_type": "stream",
          "name": "stdout",
          "text": [
            "Downloading data from https://storage.googleapis.com/download.tensorflow.org/data/imagenet_class_index.json\n",
            "40960/35363 [==================================] - 0s 0us/step\n",
            "49152/35363 [=========================================] - 0s 0us/step\n"
          ]
        },
        {
          "output_type": "execute_result",
          "data": {
            "text/plain": [
              "[[('n02690373', 'airliner', 0.88385886),\n",
              "  ('n04592741', 'wing', 0.108112216),\n",
              "  ('n04266014', 'space_shuttle', 0.004889028),\n",
              "  ('n04552348', 'warplane', 0.0024180666),\n",
              "  ('n02692877', 'airship', 0.00036566862)]]"
            ]
          },
          "metadata": {},
          "execution_count": 10
        }
      ]
    },
    {
      "cell_type": "code",
      "source": [
        "import numpy as np\n",
        "from tensorflow.keras.models import Model\n",
        "from tensorflow.keras.layers import Dense, Flatten\n",
        "from tensorflow.keras.preprocessing.image import ImageDataGenerator"
      ],
      "metadata": {
        "id": "B51ByAJvPdJf"
      },
      "execution_count": 11,
      "outputs": []
    },
    {
      "cell_type": "code",
      "source": [
        "# tworzymy nową siec na bazie oryginalnej\n",
        "model = VGG16(include_top=False, input_shape=(224,224,3))"
      ],
      "metadata": {
        "colab": {
          "base_uri": "https://localhost:8080/"
        },
        "id": "dGdVHqt_Ulkd",
        "outputId": "e16651df-70f6-4017-b6c0-b603b986d9d4"
      },
      "execution_count": 12,
      "outputs": [
        {
          "output_type": "stream",
          "name": "stdout",
          "text": [
            "Downloading data from https://storage.googleapis.com/tensorflow/keras-applications/vgg16/vgg16_weights_tf_dim_ordering_tf_kernels_notop.h5\n",
            "58892288/58889256 [==============================] - 0s 0us/step\n",
            "58900480/58889256 [==============================] - 0s 0us/step\n"
          ]
        }
      ]
    },
    {
      "cell_type": "code",
      "source": [
        "# wyłączenie z treningu istniejących już warstw\n",
        "for layer in model.layers:\n",
        "  layer.trainable = False"
      ],
      "metadata": {
        "id": "xmDWRuRxU48S"
      },
      "execution_count": 13,
      "outputs": []
    },
    {
      "cell_type": "code",
      "source": [
        "# adaptacja wyjścia istniejącej sieci do nowej liczby kategorii wyjściowych\n",
        "hidden = Flatten()(model.output)\n",
        "outputs = Dense(4, activation=\"softmax\")(hidden)"
      ],
      "metadata": {
        "id": "Zmkz8iAFVOPN"
      },
      "execution_count": 14,
      "outputs": []
    },
    {
      "cell_type": "code",
      "source": [
        "# tworzymy nowy model sieci na podstawie starych warstw i nowego wyjścia\n",
        "model_new = Model(inputs=model.input, outputs=outputs)\n",
        "model_new.summary()"
      ],
      "metadata": {
        "colab": {
          "base_uri": "https://localhost:8080/"
        },
        "id": "kxAZTjgqWYg4",
        "outputId": "5842bf26-fbca-4db4-9890-2927ceb05428"
      },
      "execution_count": 15,
      "outputs": [
        {
          "output_type": "stream",
          "name": "stdout",
          "text": [
            "Model: \"model\"\n",
            "_________________________________________________________________\n",
            " Layer (type)                Output Shape              Param #   \n",
            "=================================================================\n",
            " input_2 (InputLayer)        [(None, 224, 224, 3)]     0         \n",
            "                                                                 \n",
            " block1_conv1 (Conv2D)       (None, 224, 224, 64)      1792      \n",
            "                                                                 \n",
            " block1_conv2 (Conv2D)       (None, 224, 224, 64)      36928     \n",
            "                                                                 \n",
            " block1_pool (MaxPooling2D)  (None, 112, 112, 64)      0         \n",
            "                                                                 \n",
            " block2_conv1 (Conv2D)       (None, 112, 112, 128)     73856     \n",
            "                                                                 \n",
            " block2_conv2 (Conv2D)       (None, 112, 112, 128)     147584    \n",
            "                                                                 \n",
            " block2_pool (MaxPooling2D)  (None, 56, 56, 128)       0         \n",
            "                                                                 \n",
            " block3_conv1 (Conv2D)       (None, 56, 56, 256)       295168    \n",
            "                                                                 \n",
            " block3_conv2 (Conv2D)       (None, 56, 56, 256)       590080    \n",
            "                                                                 \n",
            " block3_conv3 (Conv2D)       (None, 56, 56, 256)       590080    \n",
            "                                                                 \n",
            " block3_pool (MaxPooling2D)  (None, 28, 28, 256)       0         \n",
            "                                                                 \n",
            " block4_conv1 (Conv2D)       (None, 28, 28, 512)       1180160   \n",
            "                                                                 \n",
            " block4_conv2 (Conv2D)       (None, 28, 28, 512)       2359808   \n",
            "                                                                 \n",
            " block4_conv3 (Conv2D)       (None, 28, 28, 512)       2359808   \n",
            "                                                                 \n",
            " block4_pool (MaxPooling2D)  (None, 14, 14, 512)       0         \n",
            "                                                                 \n",
            " block5_conv1 (Conv2D)       (None, 14, 14, 512)       2359808   \n",
            "                                                                 \n",
            " block5_conv2 (Conv2D)       (None, 14, 14, 512)       2359808   \n",
            "                                                                 \n",
            " block5_conv3 (Conv2D)       (None, 14, 14, 512)       2359808   \n",
            "                                                                 \n",
            " block5_pool (MaxPooling2D)  (None, 7, 7, 512)         0         \n",
            "                                                                 \n",
            " flatten (Flatten)           (None, 25088)             0         \n",
            "                                                                 \n",
            " dense (Dense)               (None, 4)                 100356    \n",
            "                                                                 \n",
            "=================================================================\n",
            "Total params: 14,815,044\n",
            "Trainable params: 100,356\n",
            "Non-trainable params: 14,714,688\n",
            "_________________________________________________________________\n"
          ]
        }
      ]
    },
    {
      "cell_type": "code",
      "source": [
        "model_new.compile(loss=\"categorical_crossentropy\", metrics=[\"accuracy\"])"
      ],
      "metadata": {
        "id": "uZzNdBl1XDr7"
      },
      "execution_count": 21,
      "outputs": []
    },
    {
      "cell_type": "code",
      "source": [
        "train_data_gen = ImageDataGenerator(rescale=1/255, horizontal_flip=True, vertical_flip=True, zoom_range=0.7, shear_range=0.5)\n",
        "test_data_gen = ImageDataGenerator(rescale=1/255)"
      ],
      "metadata": {
        "id": "W08tvEcwXmdZ"
      },
      "execution_count": 22,
      "outputs": []
    },
    {
      "cell_type": "code",
      "source": [
        "train_data = train_data_gen.flow_from_directory(\"dataset/Train\", target_size=(224,224), class_mode=\"categorical\" )\n",
        "test_data = test_data_gen.flow_from_directory(\"dataset/Test\", target_size=(224,224), class_mode=\"categorical\" )"
      ],
      "metadata": {
        "colab": {
          "base_uri": "https://localhost:8080/"
        },
        "id": "Cdyb2wmMYHkK",
        "outputId": "b286a554-4623-4f9f-c495-6358f07a7884"
      },
      "execution_count": 23,
      "outputs": [
        {
          "output_type": "stream",
          "name": "stdout",
          "text": [
            "Found 899 images belonging to 4 classes.\n",
            "Found 226 images belonging to 4 classes.\n"
          ]
        }
      ]
    },
    {
      "cell_type": "code",
      "source": [
        "result = model_new.fit_generator(train_data, epochs=100, validation_data=test_data)"
      ],
      "metadata": {
        "id": "cS9NaGTlYkWg"
      },
      "execution_count": null,
      "outputs": []
    },
    {
      "cell_type": "code",
      "source": [
        "test_data.class_indices"
      ],
      "metadata": {
        "colab": {
          "base_uri": "https://localhost:8080/"
        },
        "id": "3eDmWoyHY3lg",
        "outputId": "cd966d27-8480-4a8e-c370-2983ccb156f3"
      },
      "execution_count": 25,
      "outputs": [
        {
          "output_type": "execute_result",
          "data": {
            "text/plain": [
              "{'Cloudy': 0, 'Rainy': 1, 'Shiny': 2, 'Sunrise': 3}"
            ]
          },
          "metadata": {},
          "execution_count": 25
        }
      ]
    },
    {
      "cell_type": "code",
      "source": [
        "!wget -O lt.h5 http://51.91.120.89/extras/cnn/vgg16-v1.h5"
      ],
      "metadata": {
        "colab": {
          "base_uri": "https://localhost:8080/"
        },
        "id": "wTI8HSVaZ63f",
        "outputId": "4fb228a4-6175-4e92-fbf7-0252906a3226"
      },
      "execution_count": 27,
      "outputs": [
        {
          "output_type": "stream",
          "name": "stdout",
          "text": [
            "--2022-06-12 10:14:33--  http://51.91.120.89/extras/cnn/vgg16-v1.h5\n",
            "Connecting to 51.91.120.89:80... connected.\n",
            "HTTP request sent, awaiting response... 200 OK\n",
            "Length: 60143304 (57M)\n",
            "Saving to: ‘lt.h5’\n",
            "\n",
            "lt.h5               100%[===================>]  57.36M  8.81MB/s    in 6.6s    \n",
            "\n",
            "2022-06-12 10:14:40 (8.71 MB/s) - ‘lt.h5’ saved [60143304/60143304]\n",
            "\n"
          ]
        }
      ]
    },
    {
      "cell_type": "code",
      "source": [
        "from tensorflow.keras.models import load_model\n",
        "model = load_model(\"lt.h5\")"
      ],
      "metadata": {
        "id": "nxXYeGfSaEqx"
      },
      "execution_count": 28,
      "outputs": []
    },
    {
      "cell_type": "code",
      "source": [
        "model.summary()"
      ],
      "metadata": {
        "id": "1ahFBx_uaVKf"
      },
      "execution_count": null,
      "outputs": []
    },
    {
      "cell_type": "code",
      "source": [
        "img = load_img(\"/content/dataset/Test/Cloudy/cloudy46.jpg\", target_size=(224,224))\n",
        "x = img_to_array(img)\n",
        "x = x.reshape(1, 224, 224, 3)\n",
        "img"
      ],
      "metadata": {
        "colab": {
          "base_uri": "https://localhost:8080/",
          "height": 241
        },
        "id": "CU64OVrsaXxm",
        "outputId": "73f85745-ad8c-4a1c-e5cf-c8741bd55c90"
      },
      "execution_count": 43,
      "outputs": [
        {
          "output_type": "execute_result",
          "data": {
            "text/plain": [
              "<PIL.Image.Image image mode=RGB size=224x224 at 0x7F94D0223990>"
            ],
            "image/png": "[encoded data removed]"
          },
          "metadata": {},
          "execution_count": 43
        }
      ]
    },
    {
      "cell_type": "code",
      "source": [
        "predict = model.predict( preprocess_input(x) )\n",
        "predict"
      ],
      "metadata": {
        "colab": {
          "base_uri": "https://localhost:8080/"
        },
        "id": "6GTq7L3UatL_",
        "outputId": "386dd202-2b32-45e7-851f-dbe237f8bad7"
      },
      "execution_count": 44,
      "outputs": [
        {
          "output_type": "execute_result",
          "data": {
            "text/plain": [
              "array([[9.64279e-34, 0.00000e+00, 0.00000e+00, 1.00000e+00]],\n",
              "      dtype=float32)"
            ]
          },
          "metadata": {},
          "execution_count": 44
        }
      ]
    },
    {
      "cell_type": "code",
      "source": [
        ""
      ],
      "metadata": {
        "id": "DjlekDlea4Hb"
      },
      "execution_count": null,
      "outputs": []
    }
  ]
}