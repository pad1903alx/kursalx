{
  "nbformat": 4,
  "nbformat_minor": 0,
  "metadata": {
    "colab": {
      "name": "pad1903-cifar10.ipynb",
      "provenance": [],
      "collapsed_sections": []
    },
    "kernelspec": {
      "name": "python3",
      "display_name": "Python 3"
    },
    "language_info": {
      "name": "python"
    },
    "accelerator": "TPU"
  },
  "cells": [
    {
      "cell_type": "code",
      "execution_count": 1,
      "metadata": {
        "id": "oFZDc_DEvjlj"
      },
      "outputs": [],
      "source": [
        "import numpy as np\n",
        "import pandas as pd\n",
        "import matplotlib.pyplot as plt"
      ]
    },
    {
      "cell_type": "code",
      "source": [
        "from tensorflow.keras.models import Sequential\n",
        "from tensorflow.keras.layers import Dense, Flatten, Dropout, Conv2D, MaxPool2D\n",
        "from tensorflow.random import set_seed\n",
        "from tensorflow.keras.preprocessing.image import ImageDataGenerator\n",
        "from tensorflow.keras.callbacks import ModelCheckpoint\n",
        "from tensorflow.keras.preprocessing import image\n",
        "from tensorflow.keras.datasets.cifar10 import load_data\n",
        "from sklearn.model_selection import train_test_split\n",
        "import tensorflow as tf"
      ],
      "metadata": {
        "id": "5NPKJrJkv0FJ"
      },
      "execution_count": 6,
      "outputs": []
    },
    {
      "cell_type": "code",
      "source": [
        "(X_train, y_train), (X_test, y_test) = load_data()"
      ],
      "metadata": {
        "colab": {
          "base_uri": "https://localhost:8080/"
        },
        "id": "D7n_g3zewJR8",
        "outputId": "7d2e1d4a-cacb-4d50-be4e-6ff1db51f839"
      },
      "execution_count": 3,
      "outputs": [
        {
          "output_type": "stream",
          "name": "stdout",
          "text": [
            "Downloading data from https://www.cs.toronto.edu/~kriz/cifar-10-python.tar.gz\n",
            "170500096/170498071 [==============================] - 4s 0us/step\n",
            "170508288/170498071 [==============================] - 4s 0us/step\n"
          ]
        }
      ]
    },
    {
      "cell_type": "code",
      "source": [
        "# budowa sieci CNN v2\n",
        "\n",
        "set_seed(0)\n",
        "model = Sequential()\n",
        "\n",
        "model.add( Conv2D(64, kernel_size=(3,3), input_shape=(32,32,3), activation=\"relu\", padding=\"same\" ) )\n",
        "model.add( Conv2D(64, kernel_size=(3,3), activation=\"relu\", padding=\"same\" ) )\n",
        "model.add( MaxPool2D(pool_size=(2,2)) )\n",
        "\n",
        "model.add( Conv2D(32, kernel_size=(3,3), activation=\"relu\", padding=\"same\" ) )\n",
        "model.add( Conv2D(32, kernel_size=(3,3), activation=\"relu\", padding=\"same\" ) )\n",
        "model.add( MaxPool2D(pool_size=(2,2)) )\n",
        "\n",
        "model.add( Conv2D(16, kernel_size=(3,3), activation=\"relu\", padding=\"same\" ) )\n",
        "model.add( Conv2D(16, kernel_size=(3,3), activation=\"relu\", padding=\"same\" ) )\n",
        "\n",
        "model.add( Flatten() )\n",
        "model.add( Dense(512, activation=\"relu\") )\n",
        "model.add( Dense(64, activation=\"relu\") )\n",
        "\n",
        "model.add( Dense(10, activation=\"softmax\") )\n",
        "\n",
        "optimizer = tf.keras.optimizers.SGD(learning_rate=0.01/5)\n",
        "model.compile(optimizer, loss=\"sparse_categorical_crossentropy\", metrics=[\"accuracy\"])\n",
        "\n",
        "cp = ModelCheckpoint(\"cifar-v1.h5\", monitor=\"val_accuracy\", save_best_only=True, save_weights_only=True)\n",
        "\n",
        "#result = model.fit(X_train, y_train, epochs=80, validation_split=.15, callbacks=[cp])"
      ],
      "metadata": {
        "id": "YtVfud9bwpvO"
      },
      "execution_count": 13,
      "outputs": []
    },
    {
      "cell_type": "code",
      "source": [
        "model.summary()"
      ],
      "metadata": {
        "colab": {
          "base_uri": "https://localhost:8080/"
        },
        "id": "Fv8vLVgyxIvP",
        "outputId": "ef236303-8ad8-4b1f-b4c4-7fa52da096db"
      },
      "execution_count": 14,
      "outputs": [
        {
          "output_type": "stream",
          "name": "stdout",
          "text": [
            "Model: \"sequential_4\"\n",
            "_________________________________________________________________\n",
            " Layer (type)                Output Shape              Param #   \n",
            "=================================================================\n",
            " conv2d_19 (Conv2D)          (None, 32, 32, 64)        1792      \n",
            "                                                                 \n",
            " conv2d_20 (Conv2D)          (None, 32, 32, 64)        36928     \n",
            "                                                                 \n",
            " max_pooling2d_7 (MaxPooling  (None, 16, 16, 64)       0         \n",
            " 2D)                                                             \n",
            "                                                                 \n",
            " conv2d_21 (Conv2D)          (None, 16, 16, 32)        18464     \n",
            "                                                                 \n",
            " conv2d_22 (Conv2D)          (None, 16, 16, 32)        9248      \n",
            "                                                                 \n",
            " max_pooling2d_8 (MaxPooling  (None, 8, 8, 32)         0         \n",
            " 2D)                                                             \n",
            "                                                                 \n",
            " conv2d_23 (Conv2D)          (None, 8, 8, 16)          4624      \n",
            "                                                                 \n",
            " conv2d_24 (Conv2D)          (None, 8, 8, 16)          2320      \n",
            "                                                                 \n",
            " flatten_3 (Flatten)         (None, 1024)              0         \n",
            "                                                                 \n",
            " dense_9 (Dense)             (None, 512)               524800    \n",
            "                                                                 \n",
            " dense_10 (Dense)            (None, 64)                32832     \n",
            "                                                                 \n",
            " dense_11 (Dense)            (None, 10)                650       \n",
            "                                                                 \n",
            "=================================================================\n",
            "Total params: 631,658\n",
            "Trainable params: 631,658\n",
            "Non-trainable params: 0\n",
            "_________________________________________________________________\n"
          ]
        }
      ]
    },
    {
      "cell_type": "code",
      "source": [
        "import joblib"
      ],
      "metadata": {
        "id": "BV_XEMw30z1x"
      },
      "execution_count": 9,
      "outputs": []
    },
    {
      "cell_type": "code",
      "source": [
        "!wget -O cnn1.h5 http://51.91.120.89/extras/cnn/cnn1.h5\n",
        "!wget -O cnn1-history.dump http://51.91.120.89/extras/cnn/cnn1-history.dump"
      ],
      "metadata": {
        "colab": {
          "base_uri": "https://localhost:8080/"
        },
        "id": "WjfUrMpZ13Bg",
        "outputId": "a73b38c7-d37a-428e-c015-774a55ef8a36"
      },
      "execution_count": 10,
      "outputs": [
        {
          "output_type": "stream",
          "name": "stdout",
          "text": [
            "--2022-06-12 07:37:07--  http://51.91.120.89/extras/cnn/cnn1.h5\n",
            "Connecting to 51.91.120.89:80... connected.\n",
            "HTTP request sent, awaiting response... 200 OK\n",
            "Length: 5131480 (4.9M)\n",
            "Saving to: ‘cnn1.h5’\n",
            "\n",
            "cnn1.h5             100%[===================>]   4.89M  1.05MB/s    in 6.4s    \n",
            "\n",
            "2022-06-12 07:37:14 (779 KB/s) - ‘cnn1.h5’ saved [5131480/5131480]\n",
            "\n",
            "--2022-06-12 07:37:14--  http://51.91.120.89/extras/cnn/cnn1-history.dump\n",
            "Connecting to 51.91.120.89:80... connected.\n",
            "HTTP request sent, awaiting response... 200 OK\n",
            "Length: 5318188 (5.1M)\n",
            "Saving to: ‘cnn1-history.dump’\n",
            "\n",
            "cnn1-history.dump   100%[===================>]   5.07M  1.38MB/s    in 4.3s    \n",
            "\n",
            "2022-06-12 07:37:18 (1.19 MB/s) - ‘cnn1-history.dump’ saved [5318188/5318188]\n",
            "\n"
          ]
        }
      ]
    },
    {
      "cell_type": "code",
      "source": [
        "model1 = tf.keras.models.load_model(\"cnn1.h5\")\n",
        "model1.summary()"
      ],
      "metadata": {
        "colab": {
          "base_uri": "https://localhost:8080/"
        },
        "id": "llKIlbiq2FTo",
        "outputId": "bd16bb40-d22e-4376-e4c1-8b7ccb7d2ff7"
      },
      "execution_count": 15,
      "outputs": [
        {
          "output_type": "stream",
          "name": "stdout",
          "text": [
            "Model: \"sequential\"\n",
            "_________________________________________________________________\n",
            " Layer (type)                Output Shape              Param #   \n",
            "=================================================================\n",
            " conv2d (Conv2D)             (None, 32, 32, 64)        1792      \n",
            "                                                                 \n",
            " conv2d_1 (Conv2D)           (None, 32, 32, 64)        36928     \n",
            "                                                                 \n",
            " max_pooling2d (MaxPooling2D  (None, 16, 16, 64)       0         \n",
            " )                                                               \n",
            "                                                                 \n",
            " conv2d_2 (Conv2D)           (None, 16, 16, 32)        18464     \n",
            "                                                                 \n",
            " conv2d_3 (Conv2D)           (None, 16, 16, 32)        9248      \n",
            "                                                                 \n",
            " max_pooling2d_1 (MaxPooling  (None, 8, 8, 32)         0         \n",
            " 2D)                                                             \n",
            "                                                                 \n",
            " conv2d_4 (Conv2D)           (None, 8, 8, 16)          4624      \n",
            "                                                                 \n",
            " conv2d_5 (Conv2D)           (None, 8, 8, 16)          2320      \n",
            "                                                                 \n",
            " flatten (Flatten)           (None, 1024)              0         \n",
            "                                                                 \n",
            " dense (Dense)               (None, 512)               524800    \n",
            "                                                                 \n",
            " dense_1 (Dense)             (None, 64)                32832     \n",
            "                                                                 \n",
            " dense_2 (Dense)             (None, 10)                650       \n",
            "                                                                 \n",
            "=================================================================\n",
            "Total params: 631,658\n",
            "Trainable params: 631,658\n",
            "Non-trainable params: 0\n",
            "_________________________________________________________________\n"
          ]
        }
      ]
    },
    {
      "cell_type": "code",
      "source": [
        "result = joblib.load(\"cnn1-history.dump\")\n",
        "df1 = pd.DataFrame(result.history)\n",
        "df1.head(3)"
      ],
      "metadata": {
        "colab": {
          "base_uri": "https://localhost:8080/",
          "height": 143
        },
        "id": "-mk8wO1M2VzB",
        "outputId": "9e6d1cc0-e874-4545-863e-78586aee502b"
      },
      "execution_count": 17,
      "outputs": [
        {
          "output_type": "execute_result",
          "data": {
            "text/plain": [
              "       loss  accuracy  val_loss  val_accuracy\n",
              "0  2.300380  0.118965  2.297431        0.1316\n",
              "1  2.287369  0.171953  2.263805        0.1824\n",
              "2  2.119776  0.230329  1.960914        0.2768"
            ],
            "text/html": [
              "\n",
              "  <div id=\"df-6c56fe69-3891-4228-b546-5ffd266c4340\">\n",
              "    <div class=\"colab-df-container\">\n",
              "      <div>\n",
              "<style scoped>\n",
              "    .dataframe tbody tr th:only-of-type {\n",
              "        vertical-align: middle;\n",
              "    }\n",
              "\n",
              "    .dataframe tbody tr th {\n",
              "        vertical-align: top;\n",
              "    }\n",
              "\n",
              "    .dataframe thead th {\n",
              "        text-align: right;\n",
              "    }\n",
              "</style>\n",
              "<table border=\"1\" class=\"dataframe\">\n",
              "  <thead>\n",
              "    <tr style=\"text-align: right;\">\n",
              "      <th></th>\n",
              "      <th>loss</th>\n",
              "      <th>accuracy</th>\n",
              "      <th>val_loss</th>\n",
              "      <th>val_accuracy</th>\n",
              "    </tr>\n",
              "  </thead>\n",
              "  <tbody>\n",
              "    <tr>\n",
              "      <th>0</th>\n",
              "      <td>2.300380</td>\n",
              "      <td>0.118965</td>\n",
              "      <td>2.297431</td>\n",
              "      <td>0.1316</td>\n",
              "    </tr>\n",
              "    <tr>\n",
              "      <th>1</th>\n",
              "      <td>2.287369</td>\n",
              "      <td>0.171953</td>\n",
              "      <td>2.263805</td>\n",
              "      <td>0.1824</td>\n",
              "    </tr>\n",
              "    <tr>\n",
              "      <th>2</th>\n",
              "      <td>2.119776</td>\n",
              "      <td>0.230329</td>\n",
              "      <td>1.960914</td>\n",
              "      <td>0.2768</td>\n",
              "    </tr>\n",
              "  </tbody>\n",
              "</table>\n",
              "</div>\n",
              "      <button class=\"colab-df-convert\" onclick=\"convertToInteractive('df-6c56fe69-3891-4228-b546-5ffd266c4340')\"\n",
              "              title=\"Convert this dataframe to an interactive table.\"\n",
              "              style=\"display:none;\">\n",
              "        \n",
              "  <svg xmlns=\"http://www.w3.org/2000/svg\" height=\"24px\"viewBox=\"0 0 24 24\"\n",
              "       width=\"24px\">\n",
              "    <path d=\"M0 0h24v24H0V0z\" fill=\"none\"/>\n",
              "    <path d=\"M18.56 5.44l.94 2.06.94-2.06 2.06-.94-2.06-.94-.94-2.06-.94 2.06-2.06.94zm-11 1L8.5 8.5l.94-2.06 2.06-.94-2.06-.94L8.5 2.5l-.94 2.06-2.06.94zm10 10l.94 2.06.94-2.06 2.06-.94-2.06-.94-.94-2.06-.94 2.06-2.06.94z\"/><path d=\"M17.41 7.96l-1.37-1.37c-.4-.4-.92-.59-1.43-.59-.52 0-1.04.2-1.43.59L10.3 9.45l-7.72 7.72c-.78.78-.78 2.05 0 2.83L4 21.41c.39.39.9.59 1.41.59.51 0 1.02-.2 1.41-.59l7.78-7.78 2.81-2.81c.8-.78.8-2.07 0-2.86zM5.41 20L4 18.59l7.72-7.72 1.47 1.35L5.41 20z\"/>\n",
              "  </svg>\n",
              "      </button>\n",
              "      \n",
              "  <style>\n",
              "    .colab-df-container {\n",
              "      display:flex;\n",
              "      flex-wrap:wrap;\n",
              "      gap: 12px;\n",
              "    }\n",
              "\n",
              "    .colab-df-convert {\n",
              "      background-color: #E8F0FE;\n",
              "      border: none;\n",
              "      border-radius: 50%;\n",
              "      cursor: pointer;\n",
              "      display: none;\n",
              "      fill: #1967D2;\n",
              "      height: 32px;\n",
              "      padding: 0 0 0 0;\n",
              "      width: 32px;\n",
              "    }\n",
              "\n",
              "    .colab-df-convert:hover {\n",
              "      background-color: #E2EBFA;\n",
              "      box-shadow: 0px 1px 2px rgba(60, 64, 67, 0.3), 0px 1px 3px 1px rgba(60, 64, 67, 0.15);\n",
              "      fill: #174EA6;\n",
              "    }\n",
              "\n",
              "    [theme=dark] .colab-df-convert {\n",
              "      background-color: #3B4455;\n",
              "      fill: #D2E3FC;\n",
              "    }\n",
              "\n",
              "    [theme=dark] .colab-df-convert:hover {\n",
              "      background-color: #434B5C;\n",
              "      box-shadow: 0px 1px 3px 1px rgba(0, 0, 0, 0.15);\n",
              "      filter: drop-shadow(0px 1px 2px rgba(0, 0, 0, 0.3));\n",
              "      fill: #FFFFFF;\n",
              "    }\n",
              "  </style>\n",
              "\n",
              "      <script>\n",
              "        const buttonEl =\n",
              "          document.querySelector('#df-6c56fe69-3891-4228-b546-5ffd266c4340 button.colab-df-convert');\n",
              "        buttonEl.style.display =\n",
              "          google.colab.kernel.accessAllowed ? 'block' : 'none';\n",
              "\n",
              "        async function convertToInteractive(key) {\n",
              "          const element = document.querySelector('#df-6c56fe69-3891-4228-b546-5ffd266c4340');\n",
              "          const dataTable =\n",
              "            await google.colab.kernel.invokeFunction('convertToInteractive',\n",
              "                                                     [key], {});\n",
              "          if (!dataTable) return;\n",
              "\n",
              "          const docLinkHtml = 'Like what you see? Visit the ' +\n",
              "            '<a target=\"_blank\" href=https://colab.research.google.com/notebooks/data_table.ipynb>data table notebook</a>'\n",
              "            + ' to learn more about interactive tables.';\n",
              "          element.innerHTML = '';\n",
              "          dataTable['output_type'] = 'display_data';\n",
              "          await google.colab.output.renderOutput(dataTable, element);\n",
              "          const docLink = document.createElement('div');\n",
              "          docLink.innerHTML = docLinkHtml;\n",
              "          element.appendChild(docLink);\n",
              "        }\n",
              "      </script>\n",
              "    </div>\n",
              "  </div>\n",
              "  "
            ]
          },
          "metadata": {},
          "execution_count": 17
        }
      ]
    },
    {
      "cell_type": "code",
      "source": [
        "df1[ [\"accuracy\",\"val_accuracy\"] ].plot()"
      ],
      "metadata": {
        "colab": {
          "base_uri": "https://localhost:8080/",
          "height": 282
        },
        "id": "WDj-Ruw14t1-",
        "outputId": "9ded5fdd-7311-4c6e-a6a6-d334d581d780"
      },
      "execution_count": 18,
      "outputs": [
        {
          "output_type": "execute_result",
          "data": {
            "text/plain": [
              "<matplotlib.axes._subplots.AxesSubplot at 0x7f7c73e99050>"
            ]
          },
          "metadata": {},
          "execution_count": 18
        },
        {
          "output_type": "display_data",
          "data": {
            "text/plain": [
              "<Figure size 432x288 with 1 Axes>"
            ],
            "image/png": "[encoded data removed]"
          },
          "metadata": {
            "needs_background": "light"
          }
        }
      ]
    },
    {
      "cell_type": "code",
      "source": [
        "from tensorflow.keras.layers import BatchNormalization"
      ],
      "metadata": {
        "id": "LCk2IpBD48gb"
      },
      "execution_count": 19,
      "outputs": []
    },
    {
      "cell_type": "code",
      "source": [
        "# budowa sieci CNN v2\n",
        "\n",
        "set_seed(0)\n",
        "model = Sequential()\n",
        "\n",
        "model.add( Conv2D(128, kernel_size=(5,5), input_shape=(32,32,3), activation=\"relu\", padding=\"same\" ) )\n",
        "model.add( BatchNormalization())\n",
        "model.add( Conv2D(128, kernel_size=(5,5), activation=\"relu\", padding=\"same\" ) )\n",
        "model.add( BatchNormalization())\n",
        "model.add( MaxPool2D(pool_size=(2,2)) )\n",
        "\n",
        "model.add( Conv2D(64, kernel_size=(5,5), activation=\"relu\", padding=\"same\" ) )\n",
        "model.add( BatchNormalization())\n",
        "model.add( Conv2D(64, kernel_size=(5,5), activation=\"relu\", padding=\"same\" ) )\n",
        "model.add( BatchNormalization())\n",
        "model.add( MaxPool2D(pool_size=(2,2)) )\n",
        "\n",
        "model.add( Conv2D(32, kernel_size=(5,5), activation=\"relu\", padding=\"same\" ) )\n",
        "model.add( BatchNormalization())\n",
        "model.add( Conv2D(32, kernel_size=(5,5), activation=\"relu\", padding=\"same\" ) )\n",
        "model.add( BatchNormalization())\n",
        "model.add( MaxPool2D(pool_size=(2,2)) )\n",
        "\n",
        "model.add( Conv2D(16, kernel_size=(3,3), activation=\"relu\", padding=\"same\" ) )\n",
        "model.add( BatchNormalization())\n",
        "model.add( Conv2D(16, kernel_size=(3,3), activation=\"relu\", padding=\"same\" ) )\n",
        "model.add( BatchNormalization())\n",
        "model.add( MaxPool2D(pool_size=(2,2)) )\n",
        "\n",
        "model.add( Flatten() )\n",
        "\n",
        "model.add( Dense(32, activation=\"relu\") )\n",
        "model.add(Dropout(.15))\n",
        "\n",
        "model.add( Dense(16, activation=\"relu\") )\n",
        "model.add(Dropout(.05))\n",
        "\n",
        "model.add( Dense(10, activation=\"softmax\") )\n",
        "\n",
        "optimizer = tf.keras.optimizers.RMSprop()\n",
        "model.compile(optimizer, loss=\"sparse_categorical_crossentropy\", metrics=[\"accuracy\"])\n",
        "\n",
        "cp = ModelCheckpoint(\"cifar-v2.h5\", monitor=\"val_accuracy\", save_best_only=True, save_weights_only=True)\n",
        "\n",
        "#result = model.fit(X_train, y_train, epochs=80, validation_split=.15, callbacks=[cp])"
      ],
      "metadata": {
        "id": "6o2iae-y5etZ"
      },
      "execution_count": 20,
      "outputs": []
    },
    {
      "cell_type": "code",
      "source": [
        "model.summary()"
      ],
      "metadata": {
        "id": "ErPvFage7S3o"
      },
      "execution_count": null,
      "outputs": []
    },
    {
      "cell_type": "code",
      "source": [
        "!wget -O cnn2.h5 http://51.91.120.89/extras/cnn/cnn2.h5\n",
        "!wget -O cnn2-history.dump http://51.91.120.89/extras/cnn/cnn2-history.dump"
      ],
      "metadata": {
        "colab": {
          "base_uri": "https://localhost:8080/"
        },
        "id": "YqoJkCKz7XFh",
        "outputId": "28490e98-5e6d-4178-c779-1e3f8462df19"
      },
      "execution_count": 22,
      "outputs": [
        {
          "output_type": "stream",
          "name": "stdout",
          "text": [
            "--2022-06-12 08:01:49--  http://51.91.120.89/extras/cnn/cnn2.h5\n",
            "Connecting to 51.91.120.89:80... connected.\n",
            "HTTP request sent, awaiting response... 200 OK\n",
            "Length: 6734736 (6.4M)\n",
            "Saving to: ‘cnn2.h5’\n",
            "\n",
            "cnn2.h5             100%[===================>]   6.42M  2.07MB/s    in 3.5s    \n",
            "\n",
            "2022-06-12 08:01:53 (1.83 MB/s) - ‘cnn2.h5’ saved [6734736/6734736]\n",
            "\n",
            "--2022-06-12 08:01:53--  http://51.91.120.89/extras/cnn/cnn2-history.dump\n",
            "Connecting to 51.91.120.89:80... connected.\n",
            "HTTP request sent, awaiting response... 200 OK\n",
            "Length: 7233068 (6.9M)\n",
            "Saving to: ‘cnn2-history.dump’\n",
            "\n",
            "cnn2-history.dump   100%[===================>]   6.90M  1.19MB/s    in 6.8s    \n",
            "\n",
            "2022-06-12 08:02:00 (1.01 MB/s) - ‘cnn2-history.dump’ saved [7233068/7233068]\n",
            "\n"
          ]
        }
      ]
    },
    {
      "cell_type": "code",
      "source": [
        "result = joblib.load(\"cnn2-history.dump\")\n",
        "df1 = pd.DataFrame(result.history)\n",
        "df1.tail(5)"
      ],
      "metadata": {
        "colab": {
          "base_uri": "https://localhost:8080/",
          "height": 206
        },
        "id": "4EFarO1O7vGz",
        "outputId": "a26549b9-7852-4bf3-aa86-4d4ddd38808b"
      },
      "execution_count": 23,
      "outputs": [
        {
          "output_type": "execute_result",
          "data": {
            "text/plain": [
              "        loss  accuracy  val_loss  val_accuracy\n",
              "75  0.053392  0.987741  1.726117      0.803333\n",
              "76  0.054673  0.987600  1.599563      0.808667\n",
              "77  0.055946  0.987435  1.459649      0.814533\n",
              "78  0.056191  0.987341  1.689483      0.812933\n",
              "79  0.051133  0.987835  1.421721      0.819867"
            ],
            "text/html": [
              "\n",
              "  <div id=\"df-b2feac7d-521b-4743-891b-f566830b61a2\">\n",
              "    <div class=\"colab-df-container\">\n",
              "      <div>\n",
              "<style scoped>\n",
              "    .dataframe tbody tr th:only-of-type {\n",
              "        vertical-align: middle;\n",
              "    }\n",
              "\n",
              "    .dataframe tbody tr th {\n",
              "        vertical-align: top;\n",
              "    }\n",
              "\n",
              "    .dataframe thead th {\n",
              "        text-align: right;\n",
              "    }\n",
              "</style>\n",
              "<table border=\"1\" class=\"dataframe\">\n",
              "  <thead>\n",
              "    <tr style=\"text-align: right;\">\n",
              "      <th></th>\n",
              "      <th>loss</th>\n",
              "      <th>accuracy</th>\n",
              "      <th>val_loss</th>\n",
              "      <th>val_accuracy</th>\n",
              "    </tr>\n",
              "  </thead>\n",
              "  <tbody>\n",
              "    <tr>\n",
              "      <th>75</th>\n",
              "      <td>0.053392</td>\n",
              "      <td>0.987741</td>\n",
              "      <td>1.726117</td>\n",
              "      <td>0.803333</td>\n",
              "    </tr>\n",
              "    <tr>\n",
              "      <th>76</th>\n",
              "      <td>0.054673</td>\n",
              "      <td>0.987600</td>\n",
              "      <td>1.599563</td>\n",
              "      <td>0.808667</td>\n",
              "    </tr>\n",
              "    <tr>\n",
              "      <th>77</th>\n",
              "      <td>0.055946</td>\n",
              "      <td>0.987435</td>\n",
              "      <td>1.459649</td>\n",
              "      <td>0.814533</td>\n",
              "    </tr>\n",
              "    <tr>\n",
              "      <th>78</th>\n",
              "      <td>0.056191</td>\n",
              "      <td>0.987341</td>\n",
              "      <td>1.689483</td>\n",
              "      <td>0.812933</td>\n",
              "    </tr>\n",
              "    <tr>\n",
              "      <th>79</th>\n",
              "      <td>0.051133</td>\n",
              "      <td>0.987835</td>\n",
              "      <td>1.421721</td>\n",
              "      <td>0.819867</td>\n",
              "    </tr>\n",
              "  </tbody>\n",
              "</table>\n",
              "</div>\n",
              "      <button class=\"colab-df-convert\" onclick=\"convertToInteractive('df-b2feac7d-521b-4743-891b-f566830b61a2')\"\n",
              "              title=\"Convert this dataframe to an interactive table.\"\n",
              "              style=\"display:none;\">\n",
              "        \n",
              "  <svg xmlns=\"http://www.w3.org/2000/svg\" height=\"24px\"viewBox=\"0 0 24 24\"\n",
              "       width=\"24px\">\n",
              "    <path d=\"M0 0h24v24H0V0z\" fill=\"none\"/>\n",
              "    <path d=\"M18.56 5.44l.94 2.06.94-2.06 2.06-.94-2.06-.94-.94-2.06-.94 2.06-2.06.94zm-11 1L8.5 8.5l.94-2.06 2.06-.94-2.06-.94L8.5 2.5l-.94 2.06-2.06.94zm10 10l.94 2.06.94-2.06 2.06-.94-2.06-.94-.94-2.06-.94 2.06-2.06.94z\"/><path d=\"M17.41 7.96l-1.37-1.37c-.4-.4-.92-.59-1.43-.59-.52 0-1.04.2-1.43.59L10.3 9.45l-7.72 7.72c-.78.78-.78 2.05 0 2.83L4 21.41c.39.39.9.59 1.41.59.51 0 1.02-.2 1.41-.59l7.78-7.78 2.81-2.81c.8-.78.8-2.07 0-2.86zM5.41 20L4 18.59l7.72-7.72 1.47 1.35L5.41 20z\"/>\n",
              "  </svg>\n",
              "      </button>\n",
              "      \n",
              "  <style>\n",
              "    .colab-df-container {\n",
              "      display:flex;\n",
              "      flex-wrap:wrap;\n",
              "      gap: 12px;\n",
              "    }\n",
              "\n",
              "    .colab-df-convert {\n",
              "      background-color: #E8F0FE;\n",
              "      border: none;\n",
              "      border-radius: 50%;\n",
              "      cursor: pointer;\n",
              "      display: none;\n",
              "      fill: #1967D2;\n",
              "      height: 32px;\n",
              "      padding: 0 0 0 0;\n",
              "      width: 32px;\n",
              "    }\n",
              "\n",
              "    .colab-df-convert:hover {\n",
              "      background-color: #E2EBFA;\n",
              "      box-shadow: 0px 1px 2px rgba(60, 64, 67, 0.3), 0px 1px 3px 1px rgba(60, 64, 67, 0.15);\n",
              "      fill: #174EA6;\n",
              "    }\n",
              "\n",
              "    [theme=dark] .colab-df-convert {\n",
              "      background-color: #3B4455;\n",
              "      fill: #D2E3FC;\n",
              "    }\n",
              "\n",
              "    [theme=dark] .colab-df-convert:hover {\n",
              "      background-color: #434B5C;\n",
              "      box-shadow: 0px 1px 3px 1px rgba(0, 0, 0, 0.15);\n",
              "      filter: drop-shadow(0px 1px 2px rgba(0, 0, 0, 0.3));\n",
              "      fill: #FFFFFF;\n",
              "    }\n",
              "  </style>\n",
              "\n",
              "      <script>\n",
              "        const buttonEl =\n",
              "          document.querySelector('#df-b2feac7d-521b-4743-891b-f566830b61a2 button.colab-df-convert');\n",
              "        buttonEl.style.display =\n",
              "          google.colab.kernel.accessAllowed ? 'block' : 'none';\n",
              "\n",
              "        async function convertToInteractive(key) {\n",
              "          const element = document.querySelector('#df-b2feac7d-521b-4743-891b-f566830b61a2');\n",
              "          const dataTable =\n",
              "            await google.colab.kernel.invokeFunction('convertToInteractive',\n",
              "                                                     [key], {});\n",
              "          if (!dataTable) return;\n",
              "\n",
              "          const docLinkHtml = 'Like what you see? Visit the ' +\n",
              "            '<a target=\"_blank\" href=https://colab.research.google.com/notebooks/data_table.ipynb>data table notebook</a>'\n",
              "            + ' to learn more about interactive tables.';\n",
              "          element.innerHTML = '';\n",
              "          dataTable['output_type'] = 'display_data';\n",
              "          await google.colab.output.renderOutput(dataTable, element);\n",
              "          const docLink = document.createElement('div');\n",
              "          docLink.innerHTML = docLinkHtml;\n",
              "          element.appendChild(docLink);\n",
              "        }\n",
              "      </script>\n",
              "    </div>\n",
              "  </div>\n",
              "  "
            ]
          },
          "metadata": {},
          "execution_count": 23
        }
      ]
    },
    {
      "cell_type": "code",
      "source": [
        "df1[ [\"accuracy\",\"val_accuracy\"] ].plot()"
      ],
      "metadata": {
        "colab": {
          "base_uri": "https://localhost:8080/",
          "height": 282
        },
        "id": "xRUsbfC28H0f",
        "outputId": "cd09a78e-312b-46e7-800f-84fd87540a34"
      },
      "execution_count": 24,
      "outputs": [
        {
          "output_type": "execute_result",
          "data": {
            "text/plain": [
              "<matplotlib.axes._subplots.AxesSubplot at 0x7f7c77c50110>"
            ]
          },
          "metadata": {},
          "execution_count": 24
        },
        {
          "output_type": "display_data",
          "data": {
            "text/plain": [
              "<Figure size 432x288 with 1 Axes>"
            ],
            "image/png": "[encoded data removed]"
          },
          "metadata": {
            "needs_background": "light"
          }
        }
      ]
    },
    {
      "cell_type": "code",
      "source": [
        ""
      ],
      "metadata": {
        "id": "IvOg3fu_8PzY"
      },
      "execution_count": null,
      "outputs": []
    }
  ]
}