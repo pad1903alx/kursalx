{
 "cells": [
  {
   "cell_type": "code",
   "execution_count": null,
   "id": "280a3da2",
   "metadata": {},
   "outputs": [],
   "source": [
    "import pandas as pd"
   ]
  },
  {
   "cell_type": "markdown",
   "id": "7473126c",
   "metadata": {},
   "source": [
    "Proszę utworzyć dataframe   z https://covid19.who.int/WHO-COVID-19-global-data.csv  a następnie złączyć je z danymi z pliku https://pkgstore.datahub.io/JohnSnowLabs/country-and-continent-codes-list/country-and-continent-codes-list-csv_csv/data/b7876b7f496677669644f3d1069d3121/country-and-continent-codes-list-csv_csv.csv w celu uzyskania informacji o kontynencie na którym leży kraj. Tu mała podpucha jest, uwaga :)\n",
    "\n",
    "    Pogrupować dane według dnia i kontynentu, aby znaleźć sumaryczną liczbę zachorowań i zgonów (wizualizacja w załączniku covid1.png); zaprezentować te dane w postaci wykresu liniowego.\n",
    "    Obliczyć średnią  14-dniową zachorowań dla Polski oraz Niemiec (wizualizacja w załączniku covid2.png) i zaprezentować w formie wykresu"
   ]
  },
  {
   "cell_type": "code",
   "execution_count": null,
   "id": "7e857585",
   "metadata": {},
   "outputs": [],
   "source": [
    "url_covid = \"https://covid19.who.int/WHO-COVID-19-global-data.csv\"\n",
    "url_continents = \"https://pkgstore.datahub.io/JohnSnowLabs/country-and-continent-codes-list/country-and-continent-codes-list-csv_csv/data/b7876b7f496677669644f3d1069d3121/country-and-continent-codes-list-csv_csv.csv\""
   ]
  },
  {
   "cell_type": "code",
   "execution_count": null,
   "id": "c45a57fc",
   "metadata": {},
   "outputs": [],
   "source": [
    "df_covid = pd.read_csv(url_covid)\n",
    "df_covid"
   ]
  },
  {
   "cell_type": "code",
   "execution_count": null,
   "id": "662c47c5",
   "metadata": {},
   "outputs": [],
   "source": [
    "df_covid.describe()"
   ]
  },
  {
   "cell_type": "code",
   "execution_count": null,
   "id": "bda2faaa",
   "metadata": {},
   "outputs": [],
   "source": [
    "# usuwanie wartosci <0\n",
    "df_covid = df_covid.query(\" New_cases>=0 and New_deaths>=0 \")"
   ]
  },
  {
   "cell_type": "code",
   "execution_count": null,
   "id": "50977f20",
   "metadata": {},
   "outputs": [],
   "source": [
    "df_continents = pd.read_csv(url_continents)\n",
    "df_continents"
   ]
  },
  {
   "cell_type": "code",
   "execution_count": null,
   "id": "d0bf08b5",
   "metadata": {},
   "outputs": [],
   "source": [
    "len(df_continents), len(df_continents.Two_Letter_Country_Code.unique())"
   ]
  },
  {
   "cell_type": "code",
   "execution_count": null,
   "id": "434cb6a7",
   "metadata": {},
   "outputs": [],
   "source": [
    "df_continents[ df_continents.duplicated(subset=\"Two_Letter_Country_Code\") ].sort_values('Two_Letter_Country_Code')"
   ]
  },
  {
   "cell_type": "code",
   "execution_count": null,
   "id": "670b042a",
   "metadata": {},
   "outputs": [],
   "source": [
    "df_continents.query(\" Two_Letter_Country_Code=='TR' \")"
   ]
  },
  {
   "cell_type": "code",
   "execution_count": null,
   "id": "3765a8d4",
   "metadata": {},
   "outputs": [],
   "source": [
    "# usuwanie duplikatow z df_continents\n",
    "df_continents.drop_duplicates(subset=\"Two_Letter_Country_Code\", inplace=True)"
   ]
  },
  {
   "cell_type": "code",
   "execution_count": null,
   "id": "bcfd6fd7",
   "metadata": {},
   "outputs": [],
   "source": [
    "len(df_continents), len(df_continents.Two_Letter_Country_Code.unique())"
   ]
  },
  {
   "cell_type": "code",
   "execution_count": null,
   "id": "426b9668",
   "metadata": {},
   "outputs": [],
   "source": [
    "df_covid.query(\" Country == 'Kosovo[1]' \")"
   ]
  },
  {
   "cell_type": "code",
   "execution_count": null,
   "id": "13b62b43",
   "metadata": {},
   "outputs": [],
   "source": [
    "df_continents.query(\" Two_Letter_Country_Code=='XK' \")"
   ]
  },
  {
   "cell_type": "code",
   "execution_count": null,
   "id": "a3b14418",
   "metadata": {},
   "outputs": [],
   "source": [
    "# merge danych\n",
    "df = pd.merge(df_covid, df_continents, how=\"left\", \n",
    "         left_on=\"Country_code\", right_on=\"Two_Letter_Country_Code\")\n",
    "df.sample(n=10, random_state=0)"
   ]
  },
  {
   "cell_type": "code",
   "execution_count": null,
   "id": "e6be57e3",
   "metadata": {},
   "outputs": [],
   "source": [
    "# grupowanie na podstawie daty i kontynentu\n",
    "dfg = df.groupby([\"Date_reported\",\"Continent_Name\"])\n",
    "df1 = dfg[\"New_cases\",\"New_deaths\"].sum()\n",
    "df1"
   ]
  },
  {
   "cell_type": "code",
   "execution_count": null,
   "id": "db109443",
   "metadata": {},
   "outputs": [],
   "source": [
    "df1.reset_index(inplace=True)\n",
    "df1.columns = [\"Date\",\"Continent\",\"Cases\",\"Deaths\"]\n",
    "df1.set_index(\"Date\", inplace=True)\n",
    "df1"
   ]
  },
  {
   "cell_type": "code",
   "execution_count": null,
   "id": "9ffdcb20",
   "metadata": {},
   "outputs": [],
   "source": [
    "df1.query(\"Continent=='Europe'\")[\"Deaths\"].plot(figsize=(21,7))"
   ]
  },
  {
   "cell_type": "code",
   "execution_count": null,
   "id": "d784da4a",
   "metadata": {},
   "outputs": [],
   "source": [
    "# pobieranie danych tylko dla PL i DE\n",
    "df2 = df_covid.query(\" Country_code=='PL' or Country_code=='DE' \")\n",
    "df2[\"Date_reported\"] = pd.to_datetime(df2.Date_reported)\n",
    "df2.set_index(\"Date_reported\", inplace=True)\n",
    "df2"
   ]
  },
  {
   "cell_type": "code",
   "execution_count": null,
   "id": "83cb7042",
   "metadata": {},
   "outputs": [],
   "source": [
    "df2.index"
   ]
  },
  {
   "cell_type": "code",
   "execution_count": null,
   "id": "b5083e3e",
   "metadata": {},
   "outputs": [],
   "source": [
    "covid_PL = df2.query(\" Country_code=='PL' \").New_cases.resample(\"14D\").mean()\n",
    "covid_PL"
   ]
  },
  {
   "cell_type": "code",
   "execution_count": null,
   "id": "55f2dae7",
   "metadata": {},
   "outputs": [],
   "source": [
    "covid_DE = df2.query(\" Country_code=='DE' \").New_cases.resample(\"14D\").mean()\n",
    "covid_DE"
   ]
  },
  {
   "cell_type": "code",
   "execution_count": null,
   "id": "48bc89b5",
   "metadata": {},
   "outputs": [],
   "source": [
    "df_14D = pd.concat([covid_PL, covid_DE], axis=1)\n",
    "df_14D.columns = ['Polska','Niemcy']\n",
    "df_14D"
   ]
  },
  {
   "cell_type": "code",
   "execution_count": null,
   "id": "03430631",
   "metadata": {},
   "outputs": [],
   "source": [
    "df_14D.plot(figsize=(21,8), grid=True, kind='bar')"
   ]
  },
  {
   "cell_type": "code",
   "execution_count": null,
   "id": "e821c6b2",
   "metadata": {},
   "outputs": [],
   "source": []
  }
 ],
 "metadata": {
  "kernelspec": {
   "display_name": "Python 3 (ipykernel)",
   "language": "python",
   "name": "python3"
  },
  "language_info": {
   "codemirror_mode": {
    "name": "ipython",
    "version": 3
   },
   "file_extension": ".py",
   "mimetype": "text/x-python",
   "name": "python",
   "nbconvert_exporter": "python",
   "pygments_lexer": "ipython3",
   "version": "3.9.7"
  }
 },
 "nbformat": 4,
 "nbformat_minor": 5
}
