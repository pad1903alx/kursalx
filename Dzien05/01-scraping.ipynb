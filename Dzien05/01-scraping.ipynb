{
 "cells": [
  {
   "cell_type": "code",
   "execution_count": 1,
   "id": "326ffc1c",
   "metadata": {},
   "outputs": [],
   "source": [
    "import pandas as pd"
   ]
  },
  {
   "cell_type": "code",
   "execution_count": 2,
   "id": "f7753220",
   "metadata": {},
   "outputs": [
    {
     "data": {
      "text/plain": [
       "1"
      ]
     },
     "execution_count": 2,
     "metadata": {},
     "output_type": "execute_result"
    }
   ],
   "source": [
    "df_list = pd.read_html(\"https://www.imdb.com/chart/top/\")\n",
    "len(df_list)"
   ]
  },
  {
   "cell_type": "code",
   "execution_count": 3,
   "id": "74c560fb",
   "metadata": {},
   "outputs": [
    {
     "data": {
      "text/html": [
       "<div>\n",
       "<style scoped>\n",
       "    .dataframe tbody tr th:only-of-type {\n",
       "        vertical-align: middle;\n",
       "    }\n",
       "\n",
       "    .dataframe tbody tr th {\n",
       "        vertical-align: top;\n",
       "    }\n",
       "\n",
       "    .dataframe thead th {\n",
       "        text-align: right;\n",
       "    }\n",
       "</style>\n",
       "<table border=\"1\" class=\"dataframe\">\n",
       "  <thead>\n",
       "    <tr style=\"text-align: right;\">\n",
       "      <th></th>\n",
       "      <th>Unnamed: 0</th>\n",
       "      <th>Rank &amp; Title</th>\n",
       "      <th>IMDb Rating</th>\n",
       "      <th>Your Rating</th>\n",
       "      <th>Unnamed: 4</th>\n",
       "    </tr>\n",
       "  </thead>\n",
       "  <tbody>\n",
       "    <tr>\n",
       "      <th>0</th>\n",
       "      <td>NaN</td>\n",
       "      <td>1.  Skazani na Shawshank  (1994)</td>\n",
       "      <td>9.2</td>\n",
       "      <td>12345678910 NOT YET RELEASED  Seen</td>\n",
       "      <td>NaN</td>\n",
       "    </tr>\n",
       "    <tr>\n",
       "      <th>1</th>\n",
       "      <td>NaN</td>\n",
       "      <td>2.  Ojciec chrzestny  (1972)</td>\n",
       "      <td>9.2</td>\n",
       "      <td>12345678910 NOT YET RELEASED  Seen</td>\n",
       "      <td>NaN</td>\n",
       "    </tr>\n",
       "    <tr>\n",
       "      <th>2</th>\n",
       "      <td>NaN</td>\n",
       "      <td>3.  Mroczny Rycerz  (2008)</td>\n",
       "      <td>9.0</td>\n",
       "      <td>12345678910 NOT YET RELEASED  Seen</td>\n",
       "      <td>NaN</td>\n",
       "    </tr>\n",
       "    <tr>\n",
       "      <th>3</th>\n",
       "      <td>NaN</td>\n",
       "      <td>4.  Ojciec chrzestny II  (1974)</td>\n",
       "      <td>9.0</td>\n",
       "      <td>12345678910 NOT YET RELEASED  Seen</td>\n",
       "      <td>NaN</td>\n",
       "    </tr>\n",
       "    <tr>\n",
       "      <th>4</th>\n",
       "      <td>NaN</td>\n",
       "      <td>5.  Dwunastu gniewnych ludzi  (1957)</td>\n",
       "      <td>8.9</td>\n",
       "      <td>12345678910 NOT YET RELEASED  Seen</td>\n",
       "      <td>NaN</td>\n",
       "    </tr>\n",
       "    <tr>\n",
       "      <th>...</th>\n",
       "      <td>...</td>\n",
       "      <td>...</td>\n",
       "      <td>...</td>\n",
       "      <td>...</td>\n",
       "      <td>...</td>\n",
       "    </tr>\n",
       "    <tr>\n",
       "      <th>245</th>\n",
       "      <td>NaN</td>\n",
       "      <td>246.  Aladyn  (1992)</td>\n",
       "      <td>8.0</td>\n",
       "      <td>12345678910 NOT YET RELEASED  Seen</td>\n",
       "      <td>NaN</td>\n",
       "    </tr>\n",
       "    <tr>\n",
       "      <th>246</th>\n",
       "      <td>NaN</td>\n",
       "      <td>247.  Służące  (2011)</td>\n",
       "      <td>8.0</td>\n",
       "      <td>12345678910 NOT YET RELEASED  Seen</td>\n",
       "      <td>NaN</td>\n",
       "    </tr>\n",
       "    <tr>\n",
       "      <th>247</th>\n",
       "      <td>NaN</td>\n",
       "      <td>248.  Piękna i Bestia  (1991)</td>\n",
       "      <td>8.0</td>\n",
       "      <td>12345678910 NOT YET RELEASED  Seen</td>\n",
       "      <td>NaN</td>\n",
       "    </tr>\n",
       "    <tr>\n",
       "      <th>248</th>\n",
       "      <td>NaN</td>\n",
       "      <td>249.  Rififi  (1955)</td>\n",
       "      <td>8.0</td>\n",
       "      <td>12345678910 NOT YET RELEASED  Seen</td>\n",
       "      <td>NaN</td>\n",
       "    </tr>\n",
       "    <tr>\n",
       "      <th>249</th>\n",
       "      <td>NaN</td>\n",
       "      <td>250.  Tańczący z wilkami  (1990)</td>\n",
       "      <td>8.0</td>\n",
       "      <td>12345678910 NOT YET RELEASED  Seen</td>\n",
       "      <td>NaN</td>\n",
       "    </tr>\n",
       "  </tbody>\n",
       "</table>\n",
       "<p>250 rows × 5 columns</p>\n",
       "</div>"
      ],
      "text/plain": [
       "     Unnamed: 0                          Rank & Title  IMDb Rating  \\\n",
       "0           NaN      1.  Skazani na Shawshank  (1994)          9.2   \n",
       "1           NaN          2.  Ojciec chrzestny  (1972)          9.2   \n",
       "2           NaN            3.  Mroczny Rycerz  (2008)          9.0   \n",
       "3           NaN       4.  Ojciec chrzestny II  (1974)          9.0   \n",
       "4           NaN  5.  Dwunastu gniewnych ludzi  (1957)          8.9   \n",
       "..          ...                                   ...          ...   \n",
       "245         NaN                  246.  Aladyn  (1992)          8.0   \n",
       "246         NaN                 247.  Służące  (2011)          8.0   \n",
       "247         NaN         248.  Piękna i Bestia  (1991)          8.0   \n",
       "248         NaN                  249.  Rififi  (1955)          8.0   \n",
       "249         NaN      250.  Tańczący z wilkami  (1990)          8.0   \n",
       "\n",
       "                            Your Rating  Unnamed: 4  \n",
       "0    12345678910 NOT YET RELEASED  Seen         NaN  \n",
       "1    12345678910 NOT YET RELEASED  Seen         NaN  \n",
       "2    12345678910 NOT YET RELEASED  Seen         NaN  \n",
       "3    12345678910 NOT YET RELEASED  Seen         NaN  \n",
       "4    12345678910 NOT YET RELEASED  Seen         NaN  \n",
       "..                                  ...         ...  \n",
       "245  12345678910 NOT YET RELEASED  Seen         NaN  \n",
       "246  12345678910 NOT YET RELEASED  Seen         NaN  \n",
       "247  12345678910 NOT YET RELEASED  Seen         NaN  \n",
       "248  12345678910 NOT YET RELEASED  Seen         NaN  \n",
       "249  12345678910 NOT YET RELEASED  Seen         NaN  \n",
       "\n",
       "[250 rows x 5 columns]"
      ]
     },
     "execution_count": 3,
     "metadata": {},
     "output_type": "execute_result"
    }
   ],
   "source": [
    "df_list[0]"
   ]
  },
  {
   "cell_type": "code",
   "execution_count": 4,
   "id": "9652d383",
   "metadata": {},
   "outputs": [
    {
     "name": "stdout",
     "output_type": "stream",
     "text": [
      "Collecting bs4\n",
      "  Downloading bs4-0.0.1.tar.gz (1.1 kB)\n",
      "Requirement already satisfied: lxml in c:\\users\\kurs\\anaconda3\\lib\\site-packages (4.6.3)\n",
      "Requirement already satisfied: beautifulsoup4 in c:\\users\\kurs\\anaconda3\\lib\\site-packages (from bs4) (4.10.0)\n",
      "Requirement already satisfied: soupsieve>1.2 in c:\\users\\kurs\\anaconda3\\lib\\site-packages (from beautifulsoup4->bs4) (2.2.1)\n",
      "Building wheels for collected packages: bs4\n",
      "  Building wheel for bs4 (setup.py): started\n",
      "  Building wheel for bs4 (setup.py): finished with status 'done'\n",
      "  Created wheel for bs4: filename=bs4-0.0.1-py3-none-any.whl size=1271 sha256=b2450f1687014ef65390d09883fd88fbf7c4a86707215df161b10a2ffb0f669c\n",
      "  Stored in directory: c:\\users\\kurs\\appdata\\local\\pip\\cache\\wheels\\73\\2b\\cb\\099980278a0c9a3e57ff1a89875ec07bfa0b6fcbebb9a8cad3\n",
      "Successfully built bs4\n",
      "Installing collected packages: bs4\n",
      "Successfully installed bs4-0.0.1\n"
     ]
    }
   ],
   "source": [
    "!pip install bs4 lxml"
   ]
  },
  {
   "cell_type": "code",
   "execution_count": 5,
   "id": "fc895256",
   "metadata": {},
   "outputs": [],
   "source": [
    "import bs4\n",
    "import requests"
   ]
  },
  {
   "cell_type": "code",
   "execution_count": 17,
   "id": "e04f2ad1",
   "metadata": {},
   "outputs": [],
   "source": [
    "import requests\n",
    "\n",
    "cookies = {\n",
    "    'uu': 'eyJpZCI6InV1MzhjNzJkZGI1ZWE1NGNiNWE5OTUiLCJwcmVmZXJlbmNlcyI6eyJmaW5kX2luY2x1ZGVfYWR1bHQiOmZhbHNlfX0=',\n",
    "    'session-id': '145-5767455-7852660',\n",
    "    'as': '%7B%22n%22%3A%7B%22t%22%3A%5B0%2C0%5D%2C%22tr%22%3A%5B0%2C0%5D%2C%22in%22%3A%5B0%2C0%5D%2C%22ib%22%3A%5B0%2C0%5D%7D%7D',\n",
    "    'adblk': 'adblk_no',\n",
    "    'ubid-main': '131-1917565-6338455',\n",
    "    'session-id-time': '2082787201l',\n",
    "    'csm-hit': 'tb:SNGW2XR00NKYG0CVCQJQ+s-SNGW2XR00NKYG0CVCQJQ|1650703942327&t:1650703942327&adb:adblk_no',\n",
    "}\n",
    "\n",
    "headers = {\n",
    "    'authority': 'www.imdb.com',\n",
    "    'accept': 'text/html,application/xhtml+xml,application/xml;q=0.9,image/avif,image/webp,image/apng,*/*;q=0.8,application/signed-exchange;v=b3;q=0.9',\n",
    "    'accept-language': 'pl-PL,pl;q=0.9,en-US;q=0.8,en;q=0.7',\n",
    "    'cache-control': 'max-age=0',\n",
    "    # Requests sorts cookies= alphabetically\n",
    "    # 'cookie': 'uu=eyJpZCI6InV1MzhjNzJkZGI1ZWE1NGNiNWE5OTUiLCJwcmVmZXJlbmNlcyI6eyJmaW5kX2luY2x1ZGVfYWR1bHQiOmZhbHNlfX0=; session-id=145-5767455-7852660; as=%7B%22n%22%3A%7B%22t%22%3A%5B0%2C0%5D%2C%22tr%22%3A%5B0%2C0%5D%2C%22in%22%3A%5B0%2C0%5D%2C%22ib%22%3A%5B0%2C0%5D%7D%7D; adblk=adblk_no; ubid-main=131-1917565-6338455; session-id-time=2082787201l; csm-hit=tb:SNGW2XR00NKYG0CVCQJQ+s-SNGW2XR00NKYG0CVCQJQ|1650703942327&t:1650703942327&adb:adblk_no',\n",
    "    'referer': 'https://www.google.com/',\n",
    "    'sec-ch-ua': '\" Not A;Brand\";v=\"99\", \"Chromium\";v=\"100\", \"Google Chrome\";v=\"100\"',\n",
    "    'sec-ch-ua-mobile': '?0',\n",
    "    'sec-ch-ua-platform': '\"Windows\"',\n",
    "    'sec-fetch-dest': 'document',\n",
    "    'sec-fetch-mode': 'navigate',\n",
    "    'sec-fetch-site': 'same-origin',\n",
    "    'sec-fetch-user': '?1',\n",
    "    'upgrade-insecure-requests': '1',\n",
    "    'user-agent': 'Mozilla/5.0 (Windows NT 10.0; Win64; x64) AppleWebKit/537.36 (KHTML, like Gecko) Chrome/100.0.4896.127 Safari/537.36',\n",
    "}\n",
    "\n",
    "response = requests.get('https://www.imdb.com/chart/top/', cookies=cookies, headers=headers)"
   ]
  },
  {
   "cell_type": "code",
   "execution_count": 18,
   "id": "1b0c1511",
   "metadata": {},
   "outputs": [
    {
     "data": {
      "text/plain": [
       "requests.models.Response"
      ]
     },
     "execution_count": 18,
     "metadata": {},
     "output_type": "execute_result"
    }
   ],
   "source": [
    "type(response)"
   ]
  },
  {
   "cell_type": "code",
   "execution_count": 19,
   "id": "2eb5ab91",
   "metadata": {},
   "outputs": [
    {
     "data": {
      "text/plain": [
       "200"
      ]
     },
     "execution_count": 19,
     "metadata": {},
     "output_type": "execute_result"
    }
   ],
   "source": [
    "response.status_code"
   ]
  },
  {
   "cell_type": "code",
   "execution_count": 10,
   "id": "3f3c4266",
   "metadata": {},
   "outputs": [],
   "source": [
    "html_data = bs4.BeautifulSoup(response.text)"
   ]
  },
  {
   "cell_type": "code",
   "execution_count": 12,
   "id": "a07d303c",
   "metadata": {},
   "outputs": [],
   "source": [
    "tbody = html_data.find(\"tbody\", class_=\"lister-list\")"
   ]
  },
  {
   "cell_type": "code",
   "execution_count": 20,
   "id": "ab80404b",
   "metadata": {},
   "outputs": [],
   "source": [
    "rows = tbody.find_all(\"tr\")"
   ]
  },
  {
   "cell_type": "code",
   "execution_count": 47,
   "id": "10930111",
   "metadata": {},
   "outputs": [],
   "source": [
    "result = []\n",
    "for row in rows:\n",
    "    ranking = row.find(\"span\").get(\"data-value\")\n",
    "    rating = row.find_all(\"span\")[1].get(\"data-value\")\n",
    "    title = row.find(\"td\", class_=\"titleColumn\").find(\"a\").text.strip()\n",
    "    year = row.find(\"td\", class_=\"titleColumn\").find(\"span\", class_=\"secondaryInfo\").text.strip()[1:-1]\n",
    "    link = \"http://imdb.com\" + rows[0].find(\"td\", class_=\"titleColumn\").find(\"a\").get(\"href\")\n",
    "    users = row.find(\"td\", class_=\"ratingColumn\").find(\"strong\").get(\"title\").split(\" \")[-3].replace(\"\\xa0\",\"\")\n",
    "    result.append({\n",
    "        \"ranking\" : ranking, \"rating\":rating, \"title\":title, \"year\":year, \"link\":link,\n",
    "        \"users\" : users\n",
    "    })\n",
    "    "
   ]
  },
  {
   "cell_type": "code",
   "execution_count": 48,
   "id": "cbc1a5ff",
   "metadata": {},
   "outputs": [
    {
     "data": {
      "text/html": [
       "<div>\n",
       "<style scoped>\n",
       "    .dataframe tbody tr th:only-of-type {\n",
       "        vertical-align: middle;\n",
       "    }\n",
       "\n",
       "    .dataframe tbody tr th {\n",
       "        vertical-align: top;\n",
       "    }\n",
       "\n",
       "    .dataframe thead th {\n",
       "        text-align: right;\n",
       "    }\n",
       "</style>\n",
       "<table border=\"1\" class=\"dataframe\">\n",
       "  <thead>\n",
       "    <tr style=\"text-align: right;\">\n",
       "      <th></th>\n",
       "      <th>ranking</th>\n",
       "      <th>rating</th>\n",
       "      <th>title</th>\n",
       "      <th>year</th>\n",
       "      <th>link</th>\n",
       "      <th>users</th>\n",
       "    </tr>\n",
       "  </thead>\n",
       "  <tbody>\n",
       "    <tr>\n",
       "      <th>0</th>\n",
       "      <td>1</td>\n",
       "      <td>9.2334545465727</td>\n",
       "      <td>Skazani na Shawshank</td>\n",
       "      <td>1994</td>\n",
       "      <td>http://imdb.com/title/tt0111161/?pf_rd_m=A2FGE...</td>\n",
       "      <td>2576715</td>\n",
       "    </tr>\n",
       "    <tr>\n",
       "      <th>1</th>\n",
       "      <td>2</td>\n",
       "      <td>9.155432529072801</td>\n",
       "      <td>Ojciec chrzestny</td>\n",
       "      <td>1972</td>\n",
       "      <td>http://imdb.com/title/tt0111161/?pf_rd_m=A2FGE...</td>\n",
       "      <td>1774189</td>\n",
       "    </tr>\n",
       "    <tr>\n",
       "      <th>2</th>\n",
       "      <td>3</td>\n",
       "      <td>8.984168580215895</td>\n",
       "      <td>Mroczny Rycerz</td>\n",
       "      <td>2008</td>\n",
       "      <td>http://imdb.com/title/tt0111161/?pf_rd_m=A2FGE...</td>\n",
       "      <td>2544656</td>\n",
       "    </tr>\n",
       "    <tr>\n",
       "      <th>3</th>\n",
       "      <td>4</td>\n",
       "      <td>8.983727011901477</td>\n",
       "      <td>Ojciec chrzestny II</td>\n",
       "      <td>1974</td>\n",
       "      <td>http://imdb.com/title/tt0111161/?pf_rd_m=A2FGE...</td>\n",
       "      <td>1226713</td>\n",
       "    </tr>\n",
       "    <tr>\n",
       "      <th>4</th>\n",
       "      <td>5</td>\n",
       "      <td>8.946345186084532</td>\n",
       "      <td>Dwunastu gniewnych ludzi</td>\n",
       "      <td>1957</td>\n",
       "      <td>http://imdb.com/title/tt0111161/?pf_rd_m=A2FGE...</td>\n",
       "      <td>761047</td>\n",
       "    </tr>\n",
       "    <tr>\n",
       "      <th>...</th>\n",
       "      <td>...</td>\n",
       "      <td>...</td>\n",
       "      <td>...</td>\n",
       "      <td>...</td>\n",
       "      <td>...</td>\n",
       "      <td>...</td>\n",
       "    </tr>\n",
       "    <tr>\n",
       "      <th>245</th>\n",
       "      <td>246</td>\n",
       "      <td>8.006990410954831</td>\n",
       "      <td>Aladyn</td>\n",
       "      <td>1992</td>\n",
       "      <td>http://imdb.com/title/tt0111161/?pf_rd_m=A2FGE...</td>\n",
       "      <td>401093</td>\n",
       "    </tr>\n",
       "    <tr>\n",
       "      <th>246</th>\n",
       "      <td>247</td>\n",
       "      <td>8.004901523432888</td>\n",
       "      <td>Służące</td>\n",
       "      <td>2011</td>\n",
       "      <td>http://imdb.com/title/tt0111161/?pf_rd_m=A2FGE...</td>\n",
       "      <td>448727</td>\n",
       "    </tr>\n",
       "    <tr>\n",
       "      <th>247</th>\n",
       "      <td>248</td>\n",
       "      <td>8.004499580849819</td>\n",
       "      <td>Piękna i Bestia</td>\n",
       "      <td>1991</td>\n",
       "      <td>http://imdb.com/title/tt0111161/?pf_rd_m=A2FGE...</td>\n",
       "      <td>440539</td>\n",
       "    </tr>\n",
       "    <tr>\n",
       "      <th>248</th>\n",
       "      <td>249</td>\n",
       "      <td>8.002447550383742</td>\n",
       "      <td>Rififi</td>\n",
       "      <td>1955</td>\n",
       "      <td>http://imdb.com/title/tt0111161/?pf_rd_m=A2FGE...</td>\n",
       "      <td>33674</td>\n",
       "    </tr>\n",
       "    <tr>\n",
       "      <th>249</th>\n",
       "      <td>250</td>\n",
       "      <td>8.001531414609405</td>\n",
       "      <td>Tańczący z wilkami</td>\n",
       "      <td>1990</td>\n",
       "      <td>http://imdb.com/title/tt0111161/?pf_rd_m=A2FGE...</td>\n",
       "      <td>258822</td>\n",
       "    </tr>\n",
       "  </tbody>\n",
       "</table>\n",
       "<p>250 rows × 6 columns</p>\n",
       "</div>"
      ],
      "text/plain": [
       "    ranking             rating                     title  year  \\\n",
       "0         1    9.2334545465727      Skazani na Shawshank  1994   \n",
       "1         2  9.155432529072801          Ojciec chrzestny  1972   \n",
       "2         3  8.984168580215895            Mroczny Rycerz  2008   \n",
       "3         4  8.983727011901477       Ojciec chrzestny II  1974   \n",
       "4         5  8.946345186084532  Dwunastu gniewnych ludzi  1957   \n",
       "..      ...                ...                       ...   ...   \n",
       "245     246  8.006990410954831                    Aladyn  1992   \n",
       "246     247  8.004901523432888                   Służące  2011   \n",
       "247     248  8.004499580849819           Piękna i Bestia  1991   \n",
       "248     249  8.002447550383742                    Rififi  1955   \n",
       "249     250  8.001531414609405        Tańczący z wilkami  1990   \n",
       "\n",
       "                                                  link    users  \n",
       "0    http://imdb.com/title/tt0111161/?pf_rd_m=A2FGE...  2576715  \n",
       "1    http://imdb.com/title/tt0111161/?pf_rd_m=A2FGE...  1774189  \n",
       "2    http://imdb.com/title/tt0111161/?pf_rd_m=A2FGE...  2544656  \n",
       "3    http://imdb.com/title/tt0111161/?pf_rd_m=A2FGE...  1226713  \n",
       "4    http://imdb.com/title/tt0111161/?pf_rd_m=A2FGE...   761047  \n",
       "..                                                 ...      ...  \n",
       "245  http://imdb.com/title/tt0111161/?pf_rd_m=A2FGE...   401093  \n",
       "246  http://imdb.com/title/tt0111161/?pf_rd_m=A2FGE...   448727  \n",
       "247  http://imdb.com/title/tt0111161/?pf_rd_m=A2FGE...   440539  \n",
       "248  http://imdb.com/title/tt0111161/?pf_rd_m=A2FGE...    33674  \n",
       "249  http://imdb.com/title/tt0111161/?pf_rd_m=A2FGE...   258822  \n",
       "\n",
       "[250 rows x 6 columns]"
      ]
     },
     "execution_count": 48,
     "metadata": {},
     "output_type": "execute_result"
    }
   ],
   "source": [
    "pd.DataFrame(result)"
   ]
  },
  {
   "cell_type": "code",
   "execution_count": 46,
   "id": "c127c6c2",
   "metadata": {},
   "outputs": [
    {
     "data": {
      "text/plain": [
       "'2576715'"
      ]
     },
     "execution_count": 46,
     "metadata": {},
     "output_type": "execute_result"
    }
   ],
   "source": [
    "rows[0].find(\"td\", class_=\"ratingColumn\").find(\"strong\").get(\"title\").split(\" \")[-3].replace(\"\\xa0\",\"\")"
   ]
  },
  {
   "cell_type": "code",
   "execution_count": 24,
   "id": "7da9f146",
   "metadata": {},
   "outputs": [
    {
     "data": {
      "text/plain": [
       "<tr>\n",
       "<td class=\"posterColumn\">\n",
       "<span data-value=\"1\" name=\"rk\"></span>\n",
       "<span data-value=\"9.2334545465727\" name=\"ir\"></span>\n",
       "<span data-value=\"7.791552E11\" name=\"us\"></span>\n",
       "<span data-value=\"2576715\" name=\"nv\"></span>\n",
       "<span data-value=\"-1.7665454534273\" name=\"ur\"></span>\n",
       "<a href=\"/title/tt0111161/?pf_rd_m=A2FGELUUNOQJNL&amp;pf_rd_p=1a264172-ae11-42e4-8ef7-7fed1973bb8f&amp;pf_rd_r=96805VKQ6JYPSV1T7VK5&amp;pf_rd_s=center-1&amp;pf_rd_t=15506&amp;pf_rd_i=top&amp;ref_=chttp_tt_1\"> <img alt=\"Skazani na Shawshank\" height=\"67\" src=\"https://m.media-amazon.com/images/M/MV5BMDFkYTc0MGEtZmNhMC00ZDIzLWFmNTEtODM1ZmRlYWMwMWFmXkEyXkFqcGdeQXVyMTMxODk2OTU@._V1_UY67_CR0,0,45,67_AL_.jpg\" width=\"45\"/>\n",
       "</a> </td>\n",
       "<td class=\"titleColumn\">\n",
       "      1.\n",
       "      <a href=\"/title/tt0111161/?pf_rd_m=A2FGELUUNOQJNL&amp;pf_rd_p=1a264172-ae11-42e4-8ef7-7fed1973bb8f&amp;pf_rd_r=96805VKQ6JYPSV1T7VK5&amp;pf_rd_s=center-1&amp;pf_rd_t=15506&amp;pf_rd_i=top&amp;ref_=chttp_tt_1\" title=\"Frank Darabont (dir.), Tim Robbins, Morgan Freeman\">Skazani na Shawshank</a>\n",
       "<span class=\"secondaryInfo\">(1994)</span>\n",
       "</td>\n",
       "<td class=\"ratingColumn imdbRating\">\n",
       "<strong title=\"9,2 based on 2 576 715 user ratings\">9,2</strong>\n",
       "</td>\n",
       "<td class=\"ratingColumn\">\n",
       "<div class=\"seen-widget seen-widget-tt0111161 pending\" data-titleid=\"tt0111161\">\n",
       "<div class=\"boundary\">\n",
       "<div class=\"popover\">\n",
       "<span class=\"delete\"> </span><ol><li>1</li><li>2</li><li>3</li><li>4</li><li>5</li><li>6</li><li>7</li><li>8</li><li>9</li><li>10</li></ol> </div>\n",
       "</div>\n",
       "<div class=\"inline\">\n",
       "<div class=\"pending\"></div>\n",
       "<div class=\"unseeable\">NOT YET RELEASED</div>\n",
       "<div class=\"unseen\"> </div>\n",
       "<div class=\"rating\"></div>\n",
       "<div class=\"seen\">Seen</div>\n",
       "</div>\n",
       "</div>\n",
       "</td>\n",
       "<td class=\"watchlistColumn\">\n",
       "<div class=\"wlb_ribbon\" data-recordmetrics=\"true\" data-tconst=\"tt0111161\"></div>\n",
       "</td>\n",
       "</tr>"
      ]
     },
     "execution_count": 24,
     "metadata": {},
     "output_type": "execute_result"
    }
   ],
   "source": [
    "rows[0]"
   ]
  },
  {
   "cell_type": "code",
   "execution_count": null,
   "id": "874cf142",
   "metadata": {},
   "outputs": [],
   "source": []
  }
 ],
 "metadata": {
  "kernelspec": {
   "display_name": "Python 3 (ipykernel)",
   "language": "python",
   "name": "python3"
  },
  "language_info": {
   "codemirror_mode": {
    "name": "ipython",
    "version": 3
   },
   "file_extension": ".py",
   "mimetype": "text/x-python",
   "name": "python",
   "nbconvert_exporter": "python",
   "pygments_lexer": "ipython3",
   "version": "3.9.7"
  }
 },
 "nbformat": 4,
 "nbformat_minor": 5
}
