{
 "cells": [
  {
   "cell_type": "code",
   "execution_count": 1,
   "id": "3dcbf345",
   "metadata": {},
   "outputs": [],
   "source": [
    "import pandas as pd"
   ]
  },
  {
   "cell_type": "code",
   "execution_count": 2,
   "id": "0ec30557",
   "metadata": {},
   "outputs": [
    {
     "data": {
      "text/html": [
       "<div>\n",
       "<style scoped>\n",
       "    .dataframe tbody tr th:only-of-type {\n",
       "        vertical-align: middle;\n",
       "    }\n",
       "\n",
       "    .dataframe tbody tr th {\n",
       "        vertical-align: top;\n",
       "    }\n",
       "\n",
       "    .dataframe thead th {\n",
       "        text-align: right;\n",
       "    }\n",
       "</style>\n",
       "<table border=\"1\" class=\"dataframe\">\n",
       "  <thead>\n",
       "    <tr style=\"text-align: right;\">\n",
       "      <th></th>\n",
       "      <th>Region</th>\n",
       "      <th>Country</th>\n",
       "      <th>Item Type</th>\n",
       "      <th>Sales Channel</th>\n",
       "      <th>Order Priority</th>\n",
       "      <th>Order Date</th>\n",
       "      <th>Order ID</th>\n",
       "      <th>Ship Date</th>\n",
       "      <th>Units Sold</th>\n",
       "      <th>Unit Price</th>\n",
       "      <th>Unit Cost</th>\n",
       "      <th>Total Revenue</th>\n",
       "      <th>Total Cost</th>\n",
       "      <th>Total Profit</th>\n",
       "    </tr>\n",
       "  </thead>\n",
       "  <tbody>\n",
       "    <tr>\n",
       "      <th>0</th>\n",
       "      <td>Sub-Saharan Africa</td>\n",
       "      <td>South Africa</td>\n",
       "      <td>Fruits</td>\n",
       "      <td>Offline</td>\n",
       "      <td>M</td>\n",
       "      <td>7/27/2012</td>\n",
       "      <td>443368995</td>\n",
       "      <td>7/28/2012</td>\n",
       "      <td>1593</td>\n",
       "      <td>9.33</td>\n",
       "      <td>6.92</td>\n",
       "      <td>14862.69</td>\n",
       "      <td>11023.56</td>\n",
       "      <td>3839.13</td>\n",
       "    </tr>\n",
       "    <tr>\n",
       "      <th>1</th>\n",
       "      <td>Middle East and North Africa</td>\n",
       "      <td>Morocco</td>\n",
       "      <td>Clothes</td>\n",
       "      <td>Online</td>\n",
       "      <td>M</td>\n",
       "      <td>9/14/2013</td>\n",
       "      <td>667593514</td>\n",
       "      <td>10/19/2013</td>\n",
       "      <td>4611</td>\n",
       "      <td>109.28</td>\n",
       "      <td>35.84</td>\n",
       "      <td>503890.08</td>\n",
       "      <td>165258.24</td>\n",
       "      <td>338631.84</td>\n",
       "    </tr>\n",
       "    <tr>\n",
       "      <th>2</th>\n",
       "      <td>Australia and Oceania</td>\n",
       "      <td>Papua New Guinea</td>\n",
       "      <td>Meat</td>\n",
       "      <td>Offline</td>\n",
       "      <td>M</td>\n",
       "      <td>5/15/2015</td>\n",
       "      <td>940995585</td>\n",
       "      <td>6/4/2015</td>\n",
       "      <td>360</td>\n",
       "      <td>421.89</td>\n",
       "      <td>364.69</td>\n",
       "      <td>151880.40</td>\n",
       "      <td>131288.40</td>\n",
       "      <td>20592.00</td>\n",
       "    </tr>\n",
       "    <tr>\n",
       "      <th>3</th>\n",
       "      <td>Sub-Saharan Africa</td>\n",
       "      <td>Djibouti</td>\n",
       "      <td>Clothes</td>\n",
       "      <td>Offline</td>\n",
       "      <td>H</td>\n",
       "      <td>5/17/2017</td>\n",
       "      <td>880811536</td>\n",
       "      <td>7/2/2017</td>\n",
       "      <td>562</td>\n",
       "      <td>109.28</td>\n",
       "      <td>35.84</td>\n",
       "      <td>61415.36</td>\n",
       "      <td>20142.08</td>\n",
       "      <td>41273.28</td>\n",
       "    </tr>\n",
       "    <tr>\n",
       "      <th>4</th>\n",
       "      <td>Europe</td>\n",
       "      <td>Slovakia</td>\n",
       "      <td>Beverages</td>\n",
       "      <td>Offline</td>\n",
       "      <td>L</td>\n",
       "      <td>10/26/2016</td>\n",
       "      <td>174590194</td>\n",
       "      <td>12/4/2016</td>\n",
       "      <td>3973</td>\n",
       "      <td>47.45</td>\n",
       "      <td>31.79</td>\n",
       "      <td>188518.85</td>\n",
       "      <td>126301.67</td>\n",
       "      <td>62217.18</td>\n",
       "    </tr>\n",
       "    <tr>\n",
       "      <th>...</th>\n",
       "      <td>...</td>\n",
       "      <td>...</td>\n",
       "      <td>...</td>\n",
       "      <td>...</td>\n",
       "      <td>...</td>\n",
       "      <td>...</td>\n",
       "      <td>...</td>\n",
       "      <td>...</td>\n",
       "      <td>...</td>\n",
       "      <td>...</td>\n",
       "      <td>...</td>\n",
       "      <td>...</td>\n",
       "      <td>...</td>\n",
       "      <td>...</td>\n",
       "    </tr>\n",
       "    <tr>\n",
       "      <th>999995</th>\n",
       "      <td>Sub-Saharan Africa</td>\n",
       "      <td>Senegal</td>\n",
       "      <td>Baby Food</td>\n",
       "      <td>Offline</td>\n",
       "      <td>L</td>\n",
       "      <td>11/6/2010</td>\n",
       "      <td>575470578</td>\n",
       "      <td>12/11/2010</td>\n",
       "      <td>3387</td>\n",
       "      <td>255.28</td>\n",
       "      <td>159.42</td>\n",
       "      <td>864633.36</td>\n",
       "      <td>539955.54</td>\n",
       "      <td>324677.82</td>\n",
       "    </tr>\n",
       "    <tr>\n",
       "      <th>999996</th>\n",
       "      <td>Central America and the Caribbean</td>\n",
       "      <td>Panama</td>\n",
       "      <td>Office Supplies</td>\n",
       "      <td>Offline</td>\n",
       "      <td>C</td>\n",
       "      <td>1/12/2015</td>\n",
       "      <td>766942107</td>\n",
       "      <td>3/1/2015</td>\n",
       "      <td>4068</td>\n",
       "      <td>651.21</td>\n",
       "      <td>524.96</td>\n",
       "      <td>2649122.28</td>\n",
       "      <td>2135537.28</td>\n",
       "      <td>513585.00</td>\n",
       "    </tr>\n",
       "    <tr>\n",
       "      <th>999997</th>\n",
       "      <td>Europe</td>\n",
       "      <td>Norway</td>\n",
       "      <td>Office Supplies</td>\n",
       "      <td>Online</td>\n",
       "      <td>M</td>\n",
       "      <td>10/25/2011</td>\n",
       "      <td>685472047</td>\n",
       "      <td>12/5/2011</td>\n",
       "      <td>5266</td>\n",
       "      <td>651.21</td>\n",
       "      <td>524.96</td>\n",
       "      <td>3429271.86</td>\n",
       "      <td>2764439.36</td>\n",
       "      <td>664832.50</td>\n",
       "    </tr>\n",
       "    <tr>\n",
       "      <th>999998</th>\n",
       "      <td>Europe</td>\n",
       "      <td>Montenegro</td>\n",
       "      <td>Beverages</td>\n",
       "      <td>Offline</td>\n",
       "      <td>M</td>\n",
       "      <td>10/31/2010</td>\n",
       "      <td>946734225</td>\n",
       "      <td>12/8/2010</td>\n",
       "      <td>8551</td>\n",
       "      <td>47.45</td>\n",
       "      <td>31.79</td>\n",
       "      <td>405744.95</td>\n",
       "      <td>271836.29</td>\n",
       "      <td>133908.66</td>\n",
       "    </tr>\n",
       "    <tr>\n",
       "      <th>999999</th>\n",
       "      <td>Central America and the Caribbean</td>\n",
       "      <td>Nicaragua</td>\n",
       "      <td>Meat</td>\n",
       "      <td>Online</td>\n",
       "      <td>C</td>\n",
       "      <td>3/17/2015</td>\n",
       "      <td>886714971</td>\n",
       "      <td>4/8/2015</td>\n",
       "      <td>7519</td>\n",
       "      <td>421.89</td>\n",
       "      <td>364.69</td>\n",
       "      <td>3172190.91</td>\n",
       "      <td>2742104.11</td>\n",
       "      <td>430086.80</td>\n",
       "    </tr>\n",
       "  </tbody>\n",
       "</table>\n",
       "<p>1000000 rows × 14 columns</p>\n",
       "</div>"
      ],
      "text/plain": [
       "                                   Region           Country        Item Type  \\\n",
       "0                      Sub-Saharan Africa      South Africa           Fruits   \n",
       "1            Middle East and North Africa           Morocco          Clothes   \n",
       "2                   Australia and Oceania  Papua New Guinea             Meat   \n",
       "3                      Sub-Saharan Africa          Djibouti          Clothes   \n",
       "4                                  Europe          Slovakia        Beverages   \n",
       "...                                   ...               ...              ...   \n",
       "999995                 Sub-Saharan Africa           Senegal        Baby Food   \n",
       "999996  Central America and the Caribbean            Panama  Office Supplies   \n",
       "999997                             Europe            Norway  Office Supplies   \n",
       "999998                             Europe        Montenegro        Beverages   \n",
       "999999  Central America and the Caribbean         Nicaragua             Meat   \n",
       "\n",
       "       Sales Channel Order Priority  Order Date   Order ID   Ship Date  \\\n",
       "0            Offline              M   7/27/2012  443368995   7/28/2012   \n",
       "1             Online              M   9/14/2013  667593514  10/19/2013   \n",
       "2            Offline              M   5/15/2015  940995585    6/4/2015   \n",
       "3            Offline              H   5/17/2017  880811536    7/2/2017   \n",
       "4            Offline              L  10/26/2016  174590194   12/4/2016   \n",
       "...              ...            ...         ...        ...         ...   \n",
       "999995       Offline              L   11/6/2010  575470578  12/11/2010   \n",
       "999996       Offline              C   1/12/2015  766942107    3/1/2015   \n",
       "999997        Online              M  10/25/2011  685472047   12/5/2011   \n",
       "999998       Offline              M  10/31/2010  946734225   12/8/2010   \n",
       "999999        Online              C   3/17/2015  886714971    4/8/2015   \n",
       "\n",
       "        Units Sold  Unit Price  Unit Cost  Total Revenue  Total Cost  \\\n",
       "0             1593        9.33       6.92       14862.69    11023.56   \n",
       "1             4611      109.28      35.84      503890.08   165258.24   \n",
       "2              360      421.89     364.69      151880.40   131288.40   \n",
       "3              562      109.28      35.84       61415.36    20142.08   \n",
       "4             3973       47.45      31.79      188518.85   126301.67   \n",
       "...            ...         ...        ...            ...         ...   \n",
       "999995        3387      255.28     159.42      864633.36   539955.54   \n",
       "999996        4068      651.21     524.96     2649122.28  2135537.28   \n",
       "999997        5266      651.21     524.96     3429271.86  2764439.36   \n",
       "999998        8551       47.45      31.79      405744.95   271836.29   \n",
       "999999        7519      421.89     364.69     3172190.91  2742104.11   \n",
       "\n",
       "        Total Profit  \n",
       "0            3839.13  \n",
       "1          338631.84  \n",
       "2           20592.00  \n",
       "3           41273.28  \n",
       "4           62217.18  \n",
       "...              ...  \n",
       "999995     324677.82  \n",
       "999996     513585.00  \n",
       "999997     664832.50  \n",
       "999998     133908.66  \n",
       "999999     430086.80  \n",
       "\n",
       "[1000000 rows x 14 columns]"
      ]
     },
     "execution_count": 2,
     "metadata": {},
     "output_type": "execute_result"
    }
   ],
   "source": [
    "df = pd.read_csv(r\"C:\\Users\\kurs\\Downloads\\sales-records.csv\")\n",
    "df"
   ]
  },
  {
   "cell_type": "code",
   "execution_count": 3,
   "id": "6114532e",
   "metadata": {},
   "outputs": [
    {
     "data": {
      "text/plain": [
       "Region             object\n",
       "Country            object\n",
       "Item Type          object\n",
       "Sales Channel      object\n",
       "Order Priority     object\n",
       "Order Date         object\n",
       "Order ID            int64\n",
       "Ship Date          object\n",
       "Units Sold          int64\n",
       "Unit Price        float64\n",
       "Unit Cost         float64\n",
       "Total Revenue     float64\n",
       "Total Cost        float64\n",
       "Total Profit      float64\n",
       "dtype: object"
      ]
     },
     "execution_count": 3,
     "metadata": {},
     "output_type": "execute_result"
    }
   ],
   "source": [
    "df.dtypes"
   ]
  },
  {
   "cell_type": "code",
   "execution_count": 6,
   "id": "626604ee",
   "metadata": {},
   "outputs": [
    {
     "data": {
      "text/plain": [
       "513707055"
      ]
     },
     "execution_count": 6,
     "metadata": {},
     "output_type": "execute_result"
    }
   ],
   "source": [
    "df.memory_usage(deep=True).sum()"
   ]
  },
  {
   "cell_type": "code",
   "execution_count": 7,
   "id": "a7f48b89",
   "metadata": {},
   "outputs": [
    {
     "data": {
      "text/plain": [
       "array(['Sub-Saharan Africa', 'Middle East and North Africa',\n",
       "       'Australia and Oceania', 'Europe', 'Asia',\n",
       "       'Central America and the Caribbean', 'North America'], dtype=object)"
      ]
     },
     "execution_count": 7,
     "metadata": {},
     "output_type": "execute_result"
    }
   ],
   "source": [
    "df.Region.unique()"
   ]
  },
  {
   "cell_type": "code",
   "execution_count": 8,
   "id": "077ab397",
   "metadata": {},
   "outputs": [
    {
     "data": {
      "text/plain": [
       "Sub-Saharan Africa                   259953\n",
       "Europe                               259036\n",
       "Asia                                 146017\n",
       "Middle East and North Africa         124344\n",
       "Central America and the Caribbean    108042\n",
       "Australia and Oceania                 80837\n",
       "North America                         21771\n",
       "Name: Region, dtype: int64"
      ]
     },
     "execution_count": 8,
     "metadata": {},
     "output_type": "execute_result"
    }
   ],
   "source": [
    "df.Region.value_counts()"
   ]
  },
  {
   "cell_type": "code",
   "execution_count": 10,
   "id": "32f07965",
   "metadata": {},
   "outputs": [
    {
     "data": {
      "text/plain": [
       "185"
      ]
     },
     "execution_count": 10,
     "metadata": {},
     "output_type": "execute_result"
    }
   ],
   "source": [
    "len(df.Country.unique())"
   ]
  },
  {
   "cell_type": "code",
   "execution_count": 11,
   "id": "b386afbd",
   "metadata": {},
   "outputs": [
    {
     "data": {
      "text/plain": [
       "array(['M', 'H', 'L', 'C'], dtype=object)"
      ]
     },
     "execution_count": 11,
     "metadata": {},
     "output_type": "execute_result"
    }
   ],
   "source": [
    "df[\"Order Priority\"].unique()"
   ]
  },
  {
   "cell_type": "code",
   "execution_count": 12,
   "id": "af54a2d7",
   "metadata": {},
   "outputs": [
    {
     "data": {
      "text/plain": [
       "Index(['Region', 'Country', 'Item Type', 'Sales Channel', 'Order Priority',\n",
       "       'Order Date', 'Order ID', 'Ship Date', 'Units Sold', 'Unit Price',\n",
       "       'Unit Cost', 'Total Revenue', 'Total Cost', 'Total Profit'],\n",
       "      dtype='object')"
      ]
     },
     "execution_count": 12,
     "metadata": {},
     "output_type": "execute_result"
    }
   ],
   "source": [
    "df.columns"
   ]
  },
  {
   "cell_type": "code",
   "execution_count": 14,
   "id": "12ab26c7",
   "metadata": {},
   "outputs": [],
   "source": [
    "df.Region = df.Region.astype(\"category\")\n",
    "df.Country = df.Country.astype(\"category\")\n",
    "df['Item Type'] = df['Item Type'].astype(\"category\")\n",
    "df['Sales Channel'] = df['Sales Channel'].astype(\"category\")\n",
    "df['Order Priority'] = df['Order Priority'].astype(\"category\")"
   ]
  },
  {
   "cell_type": "code",
   "execution_count": 15,
   "id": "b9465b8c",
   "metadata": {},
   "outputs": [
    {
     "data": {
      "text/plain": [
       "Region            category\n",
       "Country           category\n",
       "Item Type         category\n",
       "Sales Channel     category\n",
       "Order Priority    category\n",
       "Order Date          object\n",
       "Order ID             int64\n",
       "Ship Date           object\n",
       "Units Sold           int64\n",
       "Unit Price         float64\n",
       "Unit Cost          float64\n",
       "Total Revenue      float64\n",
       "Total Cost         float64\n",
       "Total Profit       float64\n",
       "dtype: object"
      ]
     },
     "execution_count": 15,
     "metadata": {},
     "output_type": "execute_result"
    }
   ],
   "source": [
    "df.dtypes"
   ]
  },
  {
   "cell_type": "code",
   "execution_count": 16,
   "id": "a1cd2c74",
   "metadata": {},
   "outputs": [
    {
     "data": {
      "text/plain": [
       "193892730"
      ]
     },
     "execution_count": 16,
     "metadata": {},
     "output_type": "execute_result"
    }
   ],
   "source": [
    "df.memory_usage(deep=True).sum()"
   ]
  },
  {
   "cell_type": "code",
   "execution_count": 17,
   "id": "7cbcce17",
   "metadata": {},
   "outputs": [
    {
     "data": {
      "text/html": [
       "<div>\n",
       "<style scoped>\n",
       "    .dataframe tbody tr th:only-of-type {\n",
       "        vertical-align: middle;\n",
       "    }\n",
       "\n",
       "    .dataframe tbody tr th {\n",
       "        vertical-align: top;\n",
       "    }\n",
       "\n",
       "    .dataframe thead th {\n",
       "        text-align: right;\n",
       "    }\n",
       "</style>\n",
       "<table border=\"1\" class=\"dataframe\">\n",
       "  <thead>\n",
       "    <tr style=\"text-align: right;\">\n",
       "      <th></th>\n",
       "      <th>Order ID</th>\n",
       "      <th>Units Sold</th>\n",
       "      <th>Unit Price</th>\n",
       "      <th>Unit Cost</th>\n",
       "      <th>Total Revenue</th>\n",
       "      <th>Total Cost</th>\n",
       "      <th>Total Profit</th>\n",
       "    </tr>\n",
       "  </thead>\n",
       "  <tbody>\n",
       "    <tr>\n",
       "      <th>count</th>\n",
       "      <td>1.000000e+06</td>\n",
       "      <td>1000000.000000</td>\n",
       "      <td>1000000.000000</td>\n",
       "      <td>1000000.000000</td>\n",
       "      <td>1.000000e+06</td>\n",
       "      <td>1.000000e+06</td>\n",
       "      <td>1.000000e+06</td>\n",
       "    </tr>\n",
       "    <tr>\n",
       "      <th>mean</th>\n",
       "      <td>5.493520e+08</td>\n",
       "      <td>4998.867302</td>\n",
       "      <td>266.025488</td>\n",
       "      <td>187.522978</td>\n",
       "      <td>1.329563e+06</td>\n",
       "      <td>9.372671e+05</td>\n",
       "      <td>3.922956e+05</td>\n",
       "    </tr>\n",
       "    <tr>\n",
       "      <th>std</th>\n",
       "      <td>2.599397e+08</td>\n",
       "      <td>2885.334142</td>\n",
       "      <td>216.987966</td>\n",
       "      <td>175.650798</td>\n",
       "      <td>1.468527e+06</td>\n",
       "      <td>1.148954e+06</td>\n",
       "      <td>3.788199e+05</td>\n",
       "    </tr>\n",
       "    <tr>\n",
       "      <th>min</th>\n",
       "      <td>1.000012e+08</td>\n",
       "      <td>1.000000</td>\n",
       "      <td>9.330000</td>\n",
       "      <td>6.920000</td>\n",
       "      <td>9.330000e+00</td>\n",
       "      <td>6.920000e+00</td>\n",
       "      <td>2.410000e+00</td>\n",
       "    </tr>\n",
       "    <tr>\n",
       "      <th>25%</th>\n",
       "      <td>3.239629e+08</td>\n",
       "      <td>2502.000000</td>\n",
       "      <td>81.730000</td>\n",
       "      <td>35.840000</td>\n",
       "      <td>2.778672e+05</td>\n",
       "      <td>1.617289e+05</td>\n",
       "      <td>9.510480e+04</td>\n",
       "    </tr>\n",
       "    <tr>\n",
       "      <th>50%</th>\n",
       "      <td>5.486524e+08</td>\n",
       "      <td>4998.000000</td>\n",
       "      <td>154.060000</td>\n",
       "      <td>97.440000</td>\n",
       "      <td>7.844445e+05</td>\n",
       "      <td>4.667818e+05</td>\n",
       "      <td>2.810549e+05</td>\n",
       "    </tr>\n",
       "    <tr>\n",
       "      <th>75%</th>\n",
       "      <td>7.745981e+08</td>\n",
       "      <td>7496.000000</td>\n",
       "      <td>421.890000</td>\n",
       "      <td>263.330000</td>\n",
       "      <td>1.822444e+06</td>\n",
       "      <td>1.196327e+06</td>\n",
       "      <td>5.653076e+05</td>\n",
       "    </tr>\n",
       "    <tr>\n",
       "      <th>max</th>\n",
       "      <td>9.999999e+08</td>\n",
       "      <td>10000.000000</td>\n",
       "      <td>668.270000</td>\n",
       "      <td>524.960000</td>\n",
       "      <td>6.682700e+06</td>\n",
       "      <td>5.249600e+06</td>\n",
       "      <td>1.738700e+06</td>\n",
       "    </tr>\n",
       "  </tbody>\n",
       "</table>\n",
       "</div>"
      ],
      "text/plain": [
       "           Order ID      Units Sold      Unit Price       Unit Cost  \\\n",
       "count  1.000000e+06  1000000.000000  1000000.000000  1000000.000000   \n",
       "mean   5.493520e+08     4998.867302      266.025488      187.522978   \n",
       "std    2.599397e+08     2885.334142      216.987966      175.650798   \n",
       "min    1.000012e+08        1.000000        9.330000        6.920000   \n",
       "25%    3.239629e+08     2502.000000       81.730000       35.840000   \n",
       "50%    5.486524e+08     4998.000000      154.060000       97.440000   \n",
       "75%    7.745981e+08     7496.000000      421.890000      263.330000   \n",
       "max    9.999999e+08    10000.000000      668.270000      524.960000   \n",
       "\n",
       "       Total Revenue    Total Cost  Total Profit  \n",
       "count   1.000000e+06  1.000000e+06  1.000000e+06  \n",
       "mean    1.329563e+06  9.372671e+05  3.922956e+05  \n",
       "std     1.468527e+06  1.148954e+06  3.788199e+05  \n",
       "min     9.330000e+00  6.920000e+00  2.410000e+00  \n",
       "25%     2.778672e+05  1.617289e+05  9.510480e+04  \n",
       "50%     7.844445e+05  4.667818e+05  2.810549e+05  \n",
       "75%     1.822444e+06  1.196327e+06  5.653076e+05  \n",
       "max     6.682700e+06  5.249600e+06  1.738700e+06  "
      ]
     },
     "execution_count": 17,
     "metadata": {},
     "output_type": "execute_result"
    }
   ],
   "source": [
    "df.describe()"
   ]
  },
  {
   "cell_type": "code",
   "execution_count": 19,
   "id": "9c9681b9",
   "metadata": {},
   "outputs": [],
   "source": [
    "df[\"Units Sold\"] = df[\"Units Sold\"].astype(\"uint16\")\n",
    "df[\"Unit Price\"] = df[\"Unit Price\"].astype(\"float16\")\n",
    "df[\"Unit Cost\"] = df[\"Unit Cost\"].astype(\"float16\")"
   ]
  },
  {
   "cell_type": "code",
   "execution_count": 20,
   "id": "c6e3e443",
   "metadata": {},
   "outputs": [
    {
     "data": {
      "text/plain": [
       "175892730"
      ]
     },
     "execution_count": 20,
     "metadata": {},
     "output_type": "execute_result"
    }
   ],
   "source": [
    "df.memory_usage(deep=True).sum()"
   ]
  },
  {
   "cell_type": "code",
   "execution_count": 21,
   "id": "8ef280d1",
   "metadata": {
    "collapsed": true
   },
   "outputs": [
    {
     "data": {
      "text/html": [
       "<div>\n",
       "<style scoped>\n",
       "    .dataframe tbody tr th:only-of-type {\n",
       "        vertical-align: middle;\n",
       "    }\n",
       "\n",
       "    .dataframe tbody tr th {\n",
       "        vertical-align: top;\n",
       "    }\n",
       "\n",
       "    .dataframe thead th {\n",
       "        text-align: right;\n",
       "    }\n",
       "</style>\n",
       "<table border=\"1\" class=\"dataframe\">\n",
       "  <thead>\n",
       "    <tr style=\"text-align: right;\">\n",
       "      <th></th>\n",
       "      <th>Region</th>\n",
       "      <th>Country</th>\n",
       "      <th>Item Type</th>\n",
       "      <th>Sales Channel</th>\n",
       "      <th>Order Priority</th>\n",
       "      <th>Order Date</th>\n",
       "      <th>Order ID</th>\n",
       "      <th>Ship Date</th>\n",
       "      <th>Units Sold</th>\n",
       "      <th>Unit Price</th>\n",
       "      <th>Unit Cost</th>\n",
       "      <th>Total Revenue</th>\n",
       "      <th>Total Cost</th>\n",
       "      <th>Total Profit</th>\n",
       "    </tr>\n",
       "  </thead>\n",
       "  <tbody>\n",
       "    <tr>\n",
       "      <th>0</th>\n",
       "      <td>Sub-Saharan Africa</td>\n",
       "      <td>South Africa</td>\n",
       "      <td>Fruits</td>\n",
       "      <td>Offline</td>\n",
       "      <td>M</td>\n",
       "      <td>7/27/2012</td>\n",
       "      <td>443368995</td>\n",
       "      <td>7/28/2012</td>\n",
       "      <td>1593</td>\n",
       "      <td>9.328125</td>\n",
       "      <td>6.921875</td>\n",
       "      <td>14862.69</td>\n",
       "      <td>11023.56</td>\n",
       "      <td>3839.13</td>\n",
       "    </tr>\n",
       "    <tr>\n",
       "      <th>1</th>\n",
       "      <td>Middle East and North Africa</td>\n",
       "      <td>Morocco</td>\n",
       "      <td>Clothes</td>\n",
       "      <td>Online</td>\n",
       "      <td>M</td>\n",
       "      <td>9/14/2013</td>\n",
       "      <td>667593514</td>\n",
       "      <td>10/19/2013</td>\n",
       "      <td>4611</td>\n",
       "      <td>109.250000</td>\n",
       "      <td>35.843750</td>\n",
       "      <td>503890.08</td>\n",
       "      <td>165258.24</td>\n",
       "      <td>338631.84</td>\n",
       "    </tr>\n",
       "    <tr>\n",
       "      <th>2</th>\n",
       "      <td>Australia and Oceania</td>\n",
       "      <td>Papua New Guinea</td>\n",
       "      <td>Meat</td>\n",
       "      <td>Offline</td>\n",
       "      <td>M</td>\n",
       "      <td>5/15/2015</td>\n",
       "      <td>940995585</td>\n",
       "      <td>6/4/2015</td>\n",
       "      <td>360</td>\n",
       "      <td>422.000000</td>\n",
       "      <td>364.750000</td>\n",
       "      <td>151880.40</td>\n",
       "      <td>131288.40</td>\n",
       "      <td>20592.00</td>\n",
       "    </tr>\n",
       "    <tr>\n",
       "      <th>3</th>\n",
       "      <td>Sub-Saharan Africa</td>\n",
       "      <td>Djibouti</td>\n",
       "      <td>Clothes</td>\n",
       "      <td>Offline</td>\n",
       "      <td>H</td>\n",
       "      <td>5/17/2017</td>\n",
       "      <td>880811536</td>\n",
       "      <td>7/2/2017</td>\n",
       "      <td>562</td>\n",
       "      <td>109.250000</td>\n",
       "      <td>35.843750</td>\n",
       "      <td>61415.36</td>\n",
       "      <td>20142.08</td>\n",
       "      <td>41273.28</td>\n",
       "    </tr>\n",
       "    <tr>\n",
       "      <th>4</th>\n",
       "      <td>Europe</td>\n",
       "      <td>Slovakia</td>\n",
       "      <td>Beverages</td>\n",
       "      <td>Offline</td>\n",
       "      <td>L</td>\n",
       "      <td>10/26/2016</td>\n",
       "      <td>174590194</td>\n",
       "      <td>12/4/2016</td>\n",
       "      <td>3973</td>\n",
       "      <td>47.437500</td>\n",
       "      <td>31.796875</td>\n",
       "      <td>188518.85</td>\n",
       "      <td>126301.67</td>\n",
       "      <td>62217.18</td>\n",
       "    </tr>\n",
       "    <tr>\n",
       "      <th>...</th>\n",
       "      <td>...</td>\n",
       "      <td>...</td>\n",
       "      <td>...</td>\n",
       "      <td>...</td>\n",
       "      <td>...</td>\n",
       "      <td>...</td>\n",
       "      <td>...</td>\n",
       "      <td>...</td>\n",
       "      <td>...</td>\n",
       "      <td>...</td>\n",
       "      <td>...</td>\n",
       "      <td>...</td>\n",
       "      <td>...</td>\n",
       "      <td>...</td>\n",
       "    </tr>\n",
       "    <tr>\n",
       "      <th>999995</th>\n",
       "      <td>Sub-Saharan Africa</td>\n",
       "      <td>Senegal</td>\n",
       "      <td>Baby Food</td>\n",
       "      <td>Offline</td>\n",
       "      <td>L</td>\n",
       "      <td>11/6/2010</td>\n",
       "      <td>575470578</td>\n",
       "      <td>12/11/2010</td>\n",
       "      <td>3387</td>\n",
       "      <td>255.250000</td>\n",
       "      <td>159.375000</td>\n",
       "      <td>864633.36</td>\n",
       "      <td>539955.54</td>\n",
       "      <td>324677.82</td>\n",
       "    </tr>\n",
       "    <tr>\n",
       "      <th>999996</th>\n",
       "      <td>Central America and the Caribbean</td>\n",
       "      <td>Panama</td>\n",
       "      <td>Office Supplies</td>\n",
       "      <td>Offline</td>\n",
       "      <td>C</td>\n",
       "      <td>1/12/2015</td>\n",
       "      <td>766942107</td>\n",
       "      <td>3/1/2015</td>\n",
       "      <td>4068</td>\n",
       "      <td>651.000000</td>\n",
       "      <td>525.000000</td>\n",
       "      <td>2649122.28</td>\n",
       "      <td>2135537.28</td>\n",
       "      <td>513585.00</td>\n",
       "    </tr>\n",
       "    <tr>\n",
       "      <th>999997</th>\n",
       "      <td>Europe</td>\n",
       "      <td>Norway</td>\n",
       "      <td>Office Supplies</td>\n",
       "      <td>Online</td>\n",
       "      <td>M</td>\n",
       "      <td>10/25/2011</td>\n",
       "      <td>685472047</td>\n",
       "      <td>12/5/2011</td>\n",
       "      <td>5266</td>\n",
       "      <td>651.000000</td>\n",
       "      <td>525.000000</td>\n",
       "      <td>3429271.86</td>\n",
       "      <td>2764439.36</td>\n",
       "      <td>664832.50</td>\n",
       "    </tr>\n",
       "    <tr>\n",
       "      <th>999998</th>\n",
       "      <td>Europe</td>\n",
       "      <td>Montenegro</td>\n",
       "      <td>Beverages</td>\n",
       "      <td>Offline</td>\n",
       "      <td>M</td>\n",
       "      <td>10/31/2010</td>\n",
       "      <td>946734225</td>\n",
       "      <td>12/8/2010</td>\n",
       "      <td>8551</td>\n",
       "      <td>47.437500</td>\n",
       "      <td>31.796875</td>\n",
       "      <td>405744.95</td>\n",
       "      <td>271836.29</td>\n",
       "      <td>133908.66</td>\n",
       "    </tr>\n",
       "    <tr>\n",
       "      <th>999999</th>\n",
       "      <td>Central America and the Caribbean</td>\n",
       "      <td>Nicaragua</td>\n",
       "      <td>Meat</td>\n",
       "      <td>Online</td>\n",
       "      <td>C</td>\n",
       "      <td>3/17/2015</td>\n",
       "      <td>886714971</td>\n",
       "      <td>4/8/2015</td>\n",
       "      <td>7519</td>\n",
       "      <td>422.000000</td>\n",
       "      <td>364.750000</td>\n",
       "      <td>3172190.91</td>\n",
       "      <td>2742104.11</td>\n",
       "      <td>430086.80</td>\n",
       "    </tr>\n",
       "  </tbody>\n",
       "</table>\n",
       "<p>1000000 rows × 14 columns</p>\n",
       "</div>"
      ],
      "text/plain": [
       "                                   Region           Country        Item Type  \\\n",
       "0                      Sub-Saharan Africa      South Africa           Fruits   \n",
       "1            Middle East and North Africa           Morocco          Clothes   \n",
       "2                   Australia and Oceania  Papua New Guinea             Meat   \n",
       "3                      Sub-Saharan Africa          Djibouti          Clothes   \n",
       "4                                  Europe          Slovakia        Beverages   \n",
       "...                                   ...               ...              ...   \n",
       "999995                 Sub-Saharan Africa           Senegal        Baby Food   \n",
       "999996  Central America and the Caribbean            Panama  Office Supplies   \n",
       "999997                             Europe            Norway  Office Supplies   \n",
       "999998                             Europe        Montenegro        Beverages   \n",
       "999999  Central America and the Caribbean         Nicaragua             Meat   \n",
       "\n",
       "       Sales Channel Order Priority  Order Date   Order ID   Ship Date  \\\n",
       "0            Offline              M   7/27/2012  443368995   7/28/2012   \n",
       "1             Online              M   9/14/2013  667593514  10/19/2013   \n",
       "2            Offline              M   5/15/2015  940995585    6/4/2015   \n",
       "3            Offline              H   5/17/2017  880811536    7/2/2017   \n",
       "4            Offline              L  10/26/2016  174590194   12/4/2016   \n",
       "...              ...            ...         ...        ...         ...   \n",
       "999995       Offline              L   11/6/2010  575470578  12/11/2010   \n",
       "999996       Offline              C   1/12/2015  766942107    3/1/2015   \n",
       "999997        Online              M  10/25/2011  685472047   12/5/2011   \n",
       "999998       Offline              M  10/31/2010  946734225   12/8/2010   \n",
       "999999        Online              C   3/17/2015  886714971    4/8/2015   \n",
       "\n",
       "        Units Sold  Unit Price   Unit Cost  Total Revenue  Total Cost  \\\n",
       "0             1593    9.328125    6.921875       14862.69    11023.56   \n",
       "1             4611  109.250000   35.843750      503890.08   165258.24   \n",
       "2              360  422.000000  364.750000      151880.40   131288.40   \n",
       "3              562  109.250000   35.843750       61415.36    20142.08   \n",
       "4             3973   47.437500   31.796875      188518.85   126301.67   \n",
       "...            ...         ...         ...            ...         ...   \n",
       "999995        3387  255.250000  159.375000      864633.36   539955.54   \n",
       "999996        4068  651.000000  525.000000     2649122.28  2135537.28   \n",
       "999997        5266  651.000000  525.000000     3429271.86  2764439.36   \n",
       "999998        8551   47.437500   31.796875      405744.95   271836.29   \n",
       "999999        7519  422.000000  364.750000     3172190.91  2742104.11   \n",
       "\n",
       "        Total Profit  \n",
       "0            3839.13  \n",
       "1          338631.84  \n",
       "2           20592.00  \n",
       "3           41273.28  \n",
       "4           62217.18  \n",
       "...              ...  \n",
       "999995     324677.82  \n",
       "999996     513585.00  \n",
       "999997     664832.50  \n",
       "999998     133908.66  \n",
       "999999     430086.80  \n",
       "\n",
       "[1000000 rows x 14 columns]"
      ]
     },
     "execution_count": 21,
     "metadata": {},
     "output_type": "execute_result"
    }
   ],
   "source": [
    "df"
   ]
  },
  {
   "cell_type": "code",
   "execution_count": 24,
   "id": "e4c95bc8",
   "metadata": {},
   "outputs": [],
   "source": [
    "df[\"Order Date\"] = pd.to_datetime(df[\"Order Date\"], format=\"%m/%d/%Y\")\n",
    "df[\"Ship Date\"] = pd.to_datetime(df[\"Ship Date\"], format=\"%m/%d/%Y\")"
   ]
  },
  {
   "cell_type": "code",
   "execution_count": 25,
   "id": "11580211",
   "metadata": {},
   "outputs": [
    {
     "data": {
      "text/plain": [
       "Region                  category\n",
       "Country                 category\n",
       "Item Type               category\n",
       "Sales Channel           category\n",
       "Order Priority          category\n",
       "Order Date        datetime64[ns]\n",
       "Order ID                   int64\n",
       "Ship Date         datetime64[ns]\n",
       "Units Sold                uint16\n",
       "Unit Price               float16\n",
       "Unit Cost                float16\n",
       "Total Revenue            float64\n",
       "Total Cost               float64\n",
       "Total Profit             float64\n",
       "dtype: object"
      ]
     },
     "execution_count": 25,
     "metadata": {},
     "output_type": "execute_result"
    }
   ],
   "source": [
    "df.dtypes"
   ]
  },
  {
   "cell_type": "code",
   "execution_count": 26,
   "id": "1ce49435",
   "metadata": {},
   "outputs": [
    {
     "data": {
      "text/plain": [
       "60019036"
      ]
     },
     "execution_count": 26,
     "metadata": {},
     "output_type": "execute_result"
    }
   ],
   "source": [
    "df.memory_usage(deep=True).sum()"
   ]
  },
  {
   "cell_type": "markdown",
   "id": "d0d30340",
   "metadata": {},
   "source": [
    "#### Pobieranie danych w porcjach"
   ]
  },
  {
   "cell_type": "code",
   "execution_count": 29,
   "id": "e9b4c2a0",
   "metadata": {},
   "outputs": [
    {
     "name": "stdout",
     "output_type": "stream",
     "text": [
      "..........."
     ]
    }
   ],
   "source": [
    "df = pd.DataFrame()\n",
    "\n",
    "df_gen = pd.read_csv(r\"C:\\Users\\kurs\\Downloads\\sales-records.csv\", chunksize=95_000)\n",
    "for chunk in df_gen:\n",
    "    chunk = chunk.query(\" `Units Sold`>300 and `Units Sold`<3000 \")\n",
    "    df = df.append(chunk)\n",
    "    print(\".\", end=\"\")\n"
   ]
  },
  {
   "cell_type": "code",
   "execution_count": 30,
   "id": "5512031d",
   "metadata": {},
   "outputs": [
    {
     "data": {
      "text/plain": [
       "(269587, 14)"
      ]
     },
     "execution_count": 30,
     "metadata": {},
     "output_type": "execute_result"
    }
   ],
   "source": [
    "df.shape"
   ]
  },
  {
   "cell_type": "code",
   "execution_count": 32,
   "id": "6b75654e",
   "metadata": {},
   "outputs": [
    {
     "data": {
      "text/plain": [
       "(269587, 14)"
      ]
     },
     "execution_count": 32,
     "metadata": {},
     "output_type": "execute_result"
    }
   ],
   "source": [
    "df = pd.read_csv(r\"C:\\Users\\kurs\\Downloads\\sales-records.csv\")\n",
    "df.query(\" `Units Sold`>300 and `Units Sold`<3000 \").shape"
   ]
  },
  {
   "cell_type": "code",
   "execution_count": null,
   "id": "0d5b7ef6",
   "metadata": {},
   "outputs": [],
   "source": []
  }
 ],
 "metadata": {
  "kernelspec": {
   "display_name": "Python 3 (ipykernel)",
   "language": "python",
   "name": "python3"
  },
  "language_info": {
   "codemirror_mode": {
    "name": "ipython",
    "version": 3
   },
   "file_extension": ".py",
   "mimetype": "text/x-python",
   "name": "python",
   "nbconvert_exporter": "python",
   "pygments_lexer": "ipython3",
   "version": "3.9.7"
  }
 },
 "nbformat": 4,
 "nbformat_minor": 5
}
