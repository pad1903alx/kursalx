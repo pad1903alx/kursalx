{
  "nbformat": 4,
  "nbformat_minor": 0,
  "metadata": {
    "colab": {
      "name": "pad1903-auto-sklearn.ipynb",
      "provenance": [],
      "collapsed_sections": []
    },
    "kernelspec": {
      "name": "python3",
      "display_name": "Python 3"
    },
    "language_info": {
      "name": "python"
    }
  },
  "cells": [
    {
      "cell_type": "code",
      "execution_count": null,
      "metadata": {
        "id": "FcSEskv34qCJ"
      },
      "outputs": [],
      "source": [
        "!pip install auto-sklearn"
      ]
    },
    {
      "cell_type": "code",
      "source": [
        "!pip install scipy -U"
      ],
      "metadata": {
        "colab": {
          "base_uri": "https://localhost:8080/"
        },
        "id": "tinDA45740lP",
        "outputId": "cce05efd-a047-425b-caaf-41f754eb51ac"
      },
      "execution_count": 3,
      "outputs": [
        {
          "output_type": "stream",
          "name": "stdout",
          "text": [
            "Looking in indexes: https://pypi.org/simple, https://us-python.pkg.dev/colab-wheels/public/simple/\n",
            "Requirement already satisfied: scipy in /usr/local/lib/python3.7/dist-packages (1.7.3)\n",
            "Requirement already satisfied: numpy<1.23.0,>=1.16.5 in /usr/local/lib/python3.7/dist-packages (from scipy) (1.21.6)\n"
          ]
        }
      ]
    },
    {
      "cell_type": "code",
      "source": [
        "import scipy"
      ],
      "metadata": {
        "id": "rXaC1Jzs5jom"
      },
      "execution_count": 4,
      "outputs": []
    },
    {
      "cell_type": "code",
      "source": [
        "from autosklearn.classification import AutoSklearnClassifier\n",
        "import pandas as pd\n",
        "from sklearn.datasets import load_breast_cancer\n",
        "from sklearn.metrics import confusion_matrix\n",
        "from sklearn.model_selection import train_test_split"
      ],
      "metadata": {
        "id": "vO3kIWTd5uh1"
      },
      "execution_count": 3,
      "outputs": []
    },
    {
      "cell_type": "code",
      "source": [
        "X, y = load_breast_cancer(return_X_y=True, as_frame=True)\n",
        "X_train, X_test, y_train, y_test = train_test_split(X, y, test_size=0.2, random_state=0)"
      ],
      "metadata": {
        "id": "JkQmsoNC5wm2"
      },
      "execution_count": 7,
      "outputs": []
    },
    {
      "cell_type": "code",
      "source": [
        "model = AutoSklearnClassifier(time_left_for_this_task=180, per_run_time_limit=30, seed=0, n_jobs=-1)\n",
        "model.fit(X_train, y_train)"
      ],
      "metadata": {
        "colab": {
          "base_uri": "https://localhost:8080/"
        },
        "id": "D9-lKrnF678_",
        "outputId": "2c91e20a-6d1f-45f1-c0e8-78c73c9718aa"
      },
      "execution_count": 10,
      "outputs": [
        {
          "output_type": "execute_result",
          "data": {
            "text/plain": [
              "AutoSklearnClassifier(n_jobs=-1, per_run_time_limit=30, seed=0,\n",
              "                      time_left_for_this_task=180)"
            ]
          },
          "metadata": {},
          "execution_count": 10
        }
      ]
    },
    {
      "cell_type": "code",
      "source": [
        "model.leaderboard()"
      ],
      "metadata": {
        "colab": {
          "base_uri": "https://localhost:8080/",
          "height": 990
        },
        "id": "T52tuLir68zT",
        "outputId": "cac02f99-c0a2-4ce9-9afe-ad823cc8b62b"
      },
      "execution_count": 11,
      "outputs": [
        {
          "output_type": "execute_result",
          "data": {
            "text/plain": [
              "          rank  ensemble_weight                type      cost   duration\n",
              "model_id                                                                \n",
              "3            1             0.08                 mlp  0.006623   2.956501\n",
              "30           2             0.06                 mlp  0.006623   9.045027\n",
              "5            3             0.02                 mlp  0.013245   2.780361\n",
              "14           4             0.04                 mlp  0.013245  11.390305\n",
              "23           5             0.06                 mlp  0.013245   5.674131\n",
              "4            6             0.04                 mlp  0.026490   4.386293\n",
              "34           7             0.08                 mlp  0.026490   5.458301\n",
              "27           8             0.02          libsvm_svc  0.026490   2.791512\n",
              "7            9             0.02         extra_trees  0.033113   3.430384\n",
              "22          10             0.06         extra_trees  0.033113   7.583580\n",
              "2           11             0.02       random_forest  0.039735   3.972439\n",
              "13          12             0.02   gradient_boosting  0.039735   3.342422\n",
              "24          13             0.04         extra_trees  0.039735   5.654086\n",
              "35          14             0.04   gradient_boosting  0.046358   2.400476\n",
              "32          15             0.02                 mlp  0.046358   3.480064\n",
              "20          16             0.02   gradient_boosting  0.046358   4.469466\n",
              "19          17             0.02   gradient_boosting  0.046358   2.513022\n",
              "8           18             0.02       random_forest  0.046358   4.794217\n",
              "6           19             0.02       random_forest  0.046358   5.161297\n",
              "16          20             0.02                 mlp  0.052980   5.326532\n",
              "9           21             0.04       random_forest  0.052980   4.794069\n",
              "26          22             0.06       random_forest  0.059603   3.941396\n",
              "39          23             0.02                 mlp  0.059603   6.712926\n",
              "10          24             0.02         extra_trees  0.066225   4.608270\n",
              "38          25             0.02   gradient_boosting  0.066225   2.794456\n",
              "36          26             0.04       decision_tree  0.072848   2.645414\n",
              "41          27             0.02            adaboost  0.092715   1.954370\n",
              "17          28             0.02  passive_aggressive  0.218543   2.024355\n",
              "40          29             0.04                 mlp  0.364238   8.873160"
            ],
            "text/html": [
              "\n",
              "  <div id=\"df-8b7740cf-57ce-4f31-8983-a35fbc885d39\">\n",
              "    <div class=\"colab-df-container\">\n",
              "      <div>\n",
              "<style scoped>\n",
              "    .dataframe tbody tr th:only-of-type {\n",
              "        vertical-align: middle;\n",
              "    }\n",
              "\n",
              "    .dataframe tbody tr th {\n",
              "        vertical-align: top;\n",
              "    }\n",
              "\n",
              "    .dataframe thead th {\n",
              "        text-align: right;\n",
              "    }\n",
              "</style>\n",
              "<table border=\"1\" class=\"dataframe\">\n",
              "  <thead>\n",
              "    <tr style=\"text-align: right;\">\n",
              "      <th></th>\n",
              "      <th>rank</th>\n",
              "      <th>ensemble_weight</th>\n",
              "      <th>type</th>\n",
              "      <th>cost</th>\n",
              "      <th>duration</th>\n",
              "    </tr>\n",
              "    <tr>\n",
              "      <th>model_id</th>\n",
              "      <th></th>\n",
              "      <th></th>\n",
              "      <th></th>\n",
              "      <th></th>\n",
              "      <th></th>\n",
              "    </tr>\n",
              "  </thead>\n",
              "  <tbody>\n",
              "    <tr>\n",
              "      <th>3</th>\n",
              "      <td>1</td>\n",
              "      <td>0.08</td>\n",
              "      <td>mlp</td>\n",
              "      <td>0.006623</td>\n",
              "      <td>2.956501</td>\n",
              "    </tr>\n",
              "    <tr>\n",
              "      <th>30</th>\n",
              "      <td>2</td>\n",
              "      <td>0.06</td>\n",
              "      <td>mlp</td>\n",
              "      <td>0.006623</td>\n",
              "      <td>9.045027</td>\n",
              "    </tr>\n",
              "    <tr>\n",
              "      <th>5</th>\n",
              "      <td>3</td>\n",
              "      <td>0.02</td>\n",
              "      <td>mlp</td>\n",
              "      <td>0.013245</td>\n",
              "      <td>2.780361</td>\n",
              "    </tr>\n",
              "    <tr>\n",
              "      <th>14</th>\n",
              "      <td>4</td>\n",
              "      <td>0.04</td>\n",
              "      <td>mlp</td>\n",
              "      <td>0.013245</td>\n",
              "      <td>11.390305</td>\n",
              "    </tr>\n",
              "    <tr>\n",
              "      <th>23</th>\n",
              "      <td>5</td>\n",
              "      <td>0.06</td>\n",
              "      <td>mlp</td>\n",
              "      <td>0.013245</td>\n",
              "      <td>5.674131</td>\n",
              "    </tr>\n",
              "    <tr>\n",
              "      <th>4</th>\n",
              "      <td>6</td>\n",
              "      <td>0.04</td>\n",
              "      <td>mlp</td>\n",
              "      <td>0.026490</td>\n",
              "      <td>4.386293</td>\n",
              "    </tr>\n",
              "    <tr>\n",
              "      <th>34</th>\n",
              "      <td>7</td>\n",
              "      <td>0.08</td>\n",
              "      <td>mlp</td>\n",
              "      <td>0.026490</td>\n",
              "      <td>5.458301</td>\n",
              "    </tr>\n",
              "    <tr>\n",
              "      <th>27</th>\n",
              "      <td>8</td>\n",
              "      <td>0.02</td>\n",
              "      <td>libsvm_svc</td>\n",
              "      <td>0.026490</td>\n",
              "      <td>2.791512</td>\n",
              "    </tr>\n",
              "    <tr>\n",
              "      <th>7</th>\n",
              "      <td>9</td>\n",
              "      <td>0.02</td>\n",
              "      <td>extra_trees</td>\n",
              "      <td>0.033113</td>\n",
              "      <td>3.430384</td>\n",
              "    </tr>\n",
              "    <tr>\n",
              "      <th>22</th>\n",
              "      <td>10</td>\n",
              "      <td>0.06</td>\n",
              "      <td>extra_trees</td>\n",
              "      <td>0.033113</td>\n",
              "      <td>7.583580</td>\n",
              "    </tr>\n",
              "    <tr>\n",
              "      <th>2</th>\n",
              "      <td>11</td>\n",
              "      <td>0.02</td>\n",
              "      <td>random_forest</td>\n",
              "      <td>0.039735</td>\n",
              "      <td>3.972439</td>\n",
              "    </tr>\n",
              "    <tr>\n",
              "      <th>13</th>\n",
              "      <td>12</td>\n",
              "      <td>0.02</td>\n",
              "      <td>gradient_boosting</td>\n",
              "      <td>0.039735</td>\n",
              "      <td>3.342422</td>\n",
              "    </tr>\n",
              "    <tr>\n",
              "      <th>24</th>\n",
              "      <td>13</td>\n",
              "      <td>0.04</td>\n",
              "      <td>extra_trees</td>\n",
              "      <td>0.039735</td>\n",
              "      <td>5.654086</td>\n",
              "    </tr>\n",
              "    <tr>\n",
              "      <th>35</th>\n",
              "      <td>14</td>\n",
              "      <td>0.04</td>\n",
              "      <td>gradient_boosting</td>\n",
              "      <td>0.046358</td>\n",
              "      <td>2.400476</td>\n",
              "    </tr>\n",
              "    <tr>\n",
              "      <th>32</th>\n",
              "      <td>15</td>\n",
              "      <td>0.02</td>\n",
              "      <td>mlp</td>\n",
              "      <td>0.046358</td>\n",
              "      <td>3.480064</td>\n",
              "    </tr>\n",
              "    <tr>\n",
              "      <th>20</th>\n",
              "      <td>16</td>\n",
              "      <td>0.02</td>\n",
              "      <td>gradient_boosting</td>\n",
              "      <td>0.046358</td>\n",
              "      <td>4.469466</td>\n",
              "    </tr>\n",
              "    <tr>\n",
              "      <th>19</th>\n",
              "      <td>17</td>\n",
              "      <td>0.02</td>\n",
              "      <td>gradient_boosting</td>\n",
              "      <td>0.046358</td>\n",
              "      <td>2.513022</td>\n",
              "    </tr>\n",
              "    <tr>\n",
              "      <th>8</th>\n",
              "      <td>18</td>\n",
              "      <td>0.02</td>\n",
              "      <td>random_forest</td>\n",
              "      <td>0.046358</td>\n",
              "      <td>4.794217</td>\n",
              "    </tr>\n",
              "    <tr>\n",
              "      <th>6</th>\n",
              "      <td>19</td>\n",
              "      <td>0.02</td>\n",
              "      <td>random_forest</td>\n",
              "      <td>0.046358</td>\n",
              "      <td>5.161297</td>\n",
              "    </tr>\n",
              "    <tr>\n",
              "      <th>16</th>\n",
              "      <td>20</td>\n",
              "      <td>0.02</td>\n",
              "      <td>mlp</td>\n",
              "      <td>0.052980</td>\n",
              "      <td>5.326532</td>\n",
              "    </tr>\n",
              "    <tr>\n",
              "      <th>9</th>\n",
              "      <td>21</td>\n",
              "      <td>0.04</td>\n",
              "      <td>random_forest</td>\n",
              "      <td>0.052980</td>\n",
              "      <td>4.794069</td>\n",
              "    </tr>\n",
              "    <tr>\n",
              "      <th>26</th>\n",
              "      <td>22</td>\n",
              "      <td>0.06</td>\n",
              "      <td>random_forest</td>\n",
              "      <td>0.059603</td>\n",
              "      <td>3.941396</td>\n",
              "    </tr>\n",
              "    <tr>\n",
              "      <th>39</th>\n",
              "      <td>23</td>\n",
              "      <td>0.02</td>\n",
              "      <td>mlp</td>\n",
              "      <td>0.059603</td>\n",
              "      <td>6.712926</td>\n",
              "    </tr>\n",
              "    <tr>\n",
              "      <th>10</th>\n",
              "      <td>24</td>\n",
              "      <td>0.02</td>\n",
              "      <td>extra_trees</td>\n",
              "      <td>0.066225</td>\n",
              "      <td>4.608270</td>\n",
              "    </tr>\n",
              "    <tr>\n",
              "      <th>38</th>\n",
              "      <td>25</td>\n",
              "      <td>0.02</td>\n",
              "      <td>gradient_boosting</td>\n",
              "      <td>0.066225</td>\n",
              "      <td>2.794456</td>\n",
              "    </tr>\n",
              "    <tr>\n",
              "      <th>36</th>\n",
              "      <td>26</td>\n",
              "      <td>0.04</td>\n",
              "      <td>decision_tree</td>\n",
              "      <td>0.072848</td>\n",
              "      <td>2.645414</td>\n",
              "    </tr>\n",
              "    <tr>\n",
              "      <th>41</th>\n",
              "      <td>27</td>\n",
              "      <td>0.02</td>\n",
              "      <td>adaboost</td>\n",
              "      <td>0.092715</td>\n",
              "      <td>1.954370</td>\n",
              "    </tr>\n",
              "    <tr>\n",
              "      <th>17</th>\n",
              "      <td>28</td>\n",
              "      <td>0.02</td>\n",
              "      <td>passive_aggressive</td>\n",
              "      <td>0.218543</td>\n",
              "      <td>2.024355</td>\n",
              "    </tr>\n",
              "    <tr>\n",
              "      <th>40</th>\n",
              "      <td>29</td>\n",
              "      <td>0.04</td>\n",
              "      <td>mlp</td>\n",
              "      <td>0.364238</td>\n",
              "      <td>8.873160</td>\n",
              "    </tr>\n",
              "  </tbody>\n",
              "</table>\n",
              "</div>\n",
              "      <button class=\"colab-df-convert\" onclick=\"convertToInteractive('df-8b7740cf-57ce-4f31-8983-a35fbc885d39')\"\n",
              "              title=\"Convert this dataframe to an interactive table.\"\n",
              "              style=\"display:none;\">\n",
              "        \n",
              "  <svg xmlns=\"http://www.w3.org/2000/svg\" height=\"24px\"viewBox=\"0 0 24 24\"\n",
              "       width=\"24px\">\n",
              "    <path d=\"M0 0h24v24H0V0z\" fill=\"none\"/>\n",
              "    <path d=\"M18.56 5.44l.94 2.06.94-2.06 2.06-.94-2.06-.94-.94-2.06-.94 2.06-2.06.94zm-11 1L8.5 8.5l.94-2.06 2.06-.94-2.06-.94L8.5 2.5l-.94 2.06-2.06.94zm10 10l.94 2.06.94-2.06 2.06-.94-2.06-.94-.94-2.06-.94 2.06-2.06.94z\"/><path d=\"M17.41 7.96l-1.37-1.37c-.4-.4-.92-.59-1.43-.59-.52 0-1.04.2-1.43.59L10.3 9.45l-7.72 7.72c-.78.78-.78 2.05 0 2.83L4 21.41c.39.39.9.59 1.41.59.51 0 1.02-.2 1.41-.59l7.78-7.78 2.81-2.81c.8-.78.8-2.07 0-2.86zM5.41 20L4 18.59l7.72-7.72 1.47 1.35L5.41 20z\"/>\n",
              "  </svg>\n",
              "      </button>\n",
              "      \n",
              "  <style>\n",
              "    .colab-df-container {\n",
              "      display:flex;\n",
              "      flex-wrap:wrap;\n",
              "      gap: 12px;\n",
              "    }\n",
              "\n",
              "    .colab-df-convert {\n",
              "      background-color: #E8F0FE;\n",
              "      border: none;\n",
              "      border-radius: 50%;\n",
              "      cursor: pointer;\n",
              "      display: none;\n",
              "      fill: #1967D2;\n",
              "      height: 32px;\n",
              "      padding: 0 0 0 0;\n",
              "      width: 32px;\n",
              "    }\n",
              "\n",
              "    .colab-df-convert:hover {\n",
              "      background-color: #E2EBFA;\n",
              "      box-shadow: 0px 1px 2px rgba(60, 64, 67, 0.3), 0px 1px 3px 1px rgba(60, 64, 67, 0.15);\n",
              "      fill: #174EA6;\n",
              "    }\n",
              "\n",
              "    [theme=dark] .colab-df-convert {\n",
              "      background-color: #3B4455;\n",
              "      fill: #D2E3FC;\n",
              "    }\n",
              "\n",
              "    [theme=dark] .colab-df-convert:hover {\n",
              "      background-color: #434B5C;\n",
              "      box-shadow: 0px 1px 3px 1px rgba(0, 0, 0, 0.15);\n",
              "      filter: drop-shadow(0px 1px 2px rgba(0, 0, 0, 0.3));\n",
              "      fill: #FFFFFF;\n",
              "    }\n",
              "  </style>\n",
              "\n",
              "      <script>\n",
              "        const buttonEl =\n",
              "          document.querySelector('#df-8b7740cf-57ce-4f31-8983-a35fbc885d39 button.colab-df-convert');\n",
              "        buttonEl.style.display =\n",
              "          google.colab.kernel.accessAllowed ? 'block' : 'none';\n",
              "\n",
              "        async function convertToInteractive(key) {\n",
              "          const element = document.querySelector('#df-8b7740cf-57ce-4f31-8983-a35fbc885d39');\n",
              "          const dataTable =\n",
              "            await google.colab.kernel.invokeFunction('convertToInteractive',\n",
              "                                                     [key], {});\n",
              "          if (!dataTable) return;\n",
              "\n",
              "          const docLinkHtml = 'Like what you see? Visit the ' +\n",
              "            '<a target=\"_blank\" href=https://colab.research.google.com/notebooks/data_table.ipynb>data table notebook</a>'\n",
              "            + ' to learn more about interactive tables.';\n",
              "          element.innerHTML = '';\n",
              "          dataTable['output_type'] = 'display_data';\n",
              "          await google.colab.output.renderOutput(dataTable, element);\n",
              "          const docLink = document.createElement('div');\n",
              "          docLink.innerHTML = docLinkHtml;\n",
              "          element.appendChild(docLink);\n",
              "        }\n",
              "      </script>\n",
              "    </div>\n",
              "  </div>\n",
              "  "
            ]
          },
          "metadata": {},
          "execution_count": 11
        }
      ]
    },
    {
      "cell_type": "code",
      "source": [
        "model.score(X_test, y_test)"
      ],
      "metadata": {
        "colab": {
          "base_uri": "https://localhost:8080/"
        },
        "id": "oRESbQ3n9cNs",
        "outputId": "b1e2dc73-4d42-4059-dc93-080074532d89"
      },
      "execution_count": 12,
      "outputs": [
        {
          "output_type": "execute_result",
          "data": {
            "text/plain": [
              "0.956140350877193"
            ]
          },
          "metadata": {},
          "execution_count": 12
        }
      ]
    },
    {
      "cell_type": "code",
      "source": [
        "model.show_models().get(36)"
      ],
      "metadata": {
        "colab": {
          "base_uri": "https://localhost:8080/"
        },
        "id": "CkkDmlGf-DX4",
        "outputId": "0cbda428-38c7-46ef-ad09-909de3fa7c63"
      },
      "execution_count": 15,
      "outputs": [
        {
          "output_type": "execute_result",
          "data": {
            "text/plain": [
              "{'balancing': Balancing(random_state=0),\n",
              " 'classifier': <autosklearn.pipeline.components.classification.ClassifierChoice at 0x7fa2a57f3090>,\n",
              " 'cost': 0.07284768211920534,\n",
              " 'data_preprocessor': <autosklearn.pipeline.components.data_preprocessing.DataPreprocessorChoice at 0x7fa2a5d74210>,\n",
              " 'ensemble_weight': 0.04,\n",
              " 'feature_preprocessor': <autosklearn.pipeline.components.feature_preprocessing.FeaturePreprocessorChoice at 0x7fa2a57eebd0>,\n",
              " 'model_id': 36,\n",
              " 'rank': 26,\n",
              " 'sklearn_classifier': DecisionTreeClassifier(max_depth=30, min_samples_leaf=13, min_samples_split=14,\n",
              "                        random_state=0)}"
            ]
          },
          "metadata": {},
          "execution_count": 15
        }
      ]
    },
    {
      "cell_type": "code",
      "source": [
        "# auto sklearn dla regresji\n",
        "from autosklearn.regression import AutoSklearnRegressor\n",
        "from sklearn.metrics import r2_score\n",
        "from sklearn.datasets import load_boston"
      ],
      "metadata": {
        "id": "DV_f9E6n_CRZ"
      },
      "execution_count": 16,
      "outputs": []
    },
    {
      "cell_type": "code",
      "source": [
        "X, y = load_boston(return_X_y=True)\n",
        "X_train, X_test, y_train, y_test = train_test_split(X, y, test_size=0.2, random_state=0)"
      ],
      "metadata": {
        "id": "Ebf9TK6OAWry"
      },
      "execution_count": 18,
      "outputs": []
    },
    {
      "cell_type": "code",
      "source": [
        "model = AutoSklearnRegressor(time_left_for_this_task=180, per_run_time_limit=30, seed=0)\n",
        "model.fit(X_train, y_train)"
      ],
      "metadata": {
        "colab": {
          "base_uri": "https://localhost:8080/"
        },
        "id": "UkdyTtQJAj70",
        "outputId": "c6e47f1b-3f80-4e35-dc19-4c5eb9d16278"
      },
      "execution_count": 21,
      "outputs": [
        {
          "output_type": "execute_result",
          "data": {
            "text/plain": [
              "AutoSklearnRegressor(per_run_time_limit=30, seed=0, time_left_for_this_task=180)"
            ]
          },
          "metadata": {},
          "execution_count": 21
        }
      ]
    },
    {
      "cell_type": "code",
      "source": [
        "model.leaderboard()"
      ],
      "metadata": {
        "colab": {
          "base_uri": "https://localhost:8080/",
          "height": 206
        },
        "id": "JsnWoe6HAnK5",
        "outputId": "d18b195f-3aad-4d5e-87e3-cee54d00fabb"
      },
      "execution_count": 22,
      "outputs": [
        {
          "output_type": "execute_result",
          "data": {
            "text/plain": [
              "          rank  ensemble_weight               type      cost  duration\n",
              "model_id                                                              \n",
              "7            1             0.60        extra_trees  0.074296  3.998867\n",
              "11           2             0.10  gradient_boosting  0.087394  1.662080\n",
              "12           3             0.26  gradient_boosting  0.088203  1.723385\n",
              "4            4             0.04     ard_regression  0.150436  0.894550"
            ],
            "text/html": [
              "\n",
              "  <div id=\"df-d865cc2c-0fc1-4ea1-bfef-5ff3061b4229\">\n",
              "    <div class=\"colab-df-container\">\n",
              "      <div>\n",
              "<style scoped>\n",
              "    .dataframe tbody tr th:only-of-type {\n",
              "        vertical-align: middle;\n",
              "    }\n",
              "\n",
              "    .dataframe tbody tr th {\n",
              "        vertical-align: top;\n",
              "    }\n",
              "\n",
              "    .dataframe thead th {\n",
              "        text-align: right;\n",
              "    }\n",
              "</style>\n",
              "<table border=\"1\" class=\"dataframe\">\n",
              "  <thead>\n",
              "    <tr style=\"text-align: right;\">\n",
              "      <th></th>\n",
              "      <th>rank</th>\n",
              "      <th>ensemble_weight</th>\n",
              "      <th>type</th>\n",
              "      <th>cost</th>\n",
              "      <th>duration</th>\n",
              "    </tr>\n",
              "    <tr>\n",
              "      <th>model_id</th>\n",
              "      <th></th>\n",
              "      <th></th>\n",
              "      <th></th>\n",
              "      <th></th>\n",
              "      <th></th>\n",
              "    </tr>\n",
              "  </thead>\n",
              "  <tbody>\n",
              "    <tr>\n",
              "      <th>7</th>\n",
              "      <td>1</td>\n",
              "      <td>0.60</td>\n",
              "      <td>extra_trees</td>\n",
              "      <td>0.074296</td>\n",
              "      <td>3.998867</td>\n",
              "    </tr>\n",
              "    <tr>\n",
              "      <th>11</th>\n",
              "      <td>2</td>\n",
              "      <td>0.10</td>\n",
              "      <td>gradient_boosting</td>\n",
              "      <td>0.087394</td>\n",
              "      <td>1.662080</td>\n",
              "    </tr>\n",
              "    <tr>\n",
              "      <th>12</th>\n",
              "      <td>3</td>\n",
              "      <td>0.26</td>\n",
              "      <td>gradient_boosting</td>\n",
              "      <td>0.088203</td>\n",
              "      <td>1.723385</td>\n",
              "    </tr>\n",
              "    <tr>\n",
              "      <th>4</th>\n",
              "      <td>4</td>\n",
              "      <td>0.04</td>\n",
              "      <td>ard_regression</td>\n",
              "      <td>0.150436</td>\n",
              "      <td>0.894550</td>\n",
              "    </tr>\n",
              "  </tbody>\n",
              "</table>\n",
              "</div>\n",
              "      <button class=\"colab-df-convert\" onclick=\"convertToInteractive('df-d865cc2c-0fc1-4ea1-bfef-5ff3061b4229')\"\n",
              "              title=\"Convert this dataframe to an interactive table.\"\n",
              "              style=\"display:none;\">\n",
              "        \n",
              "  <svg xmlns=\"http://www.w3.org/2000/svg\" height=\"24px\"viewBox=\"0 0 24 24\"\n",
              "       width=\"24px\">\n",
              "    <path d=\"M0 0h24v24H0V0z\" fill=\"none\"/>\n",
              "    <path d=\"M18.56 5.44l.94 2.06.94-2.06 2.06-.94-2.06-.94-.94-2.06-.94 2.06-2.06.94zm-11 1L8.5 8.5l.94-2.06 2.06-.94-2.06-.94L8.5 2.5l-.94 2.06-2.06.94zm10 10l.94 2.06.94-2.06 2.06-.94-2.06-.94-.94-2.06-.94 2.06-2.06.94z\"/><path d=\"M17.41 7.96l-1.37-1.37c-.4-.4-.92-.59-1.43-.59-.52 0-1.04.2-1.43.59L10.3 9.45l-7.72 7.72c-.78.78-.78 2.05 0 2.83L4 21.41c.39.39.9.59 1.41.59.51 0 1.02-.2 1.41-.59l7.78-7.78 2.81-2.81c.8-.78.8-2.07 0-2.86zM5.41 20L4 18.59l7.72-7.72 1.47 1.35L5.41 20z\"/>\n",
              "  </svg>\n",
              "      </button>\n",
              "      \n",
              "  <style>\n",
              "    .colab-df-container {\n",
              "      display:flex;\n",
              "      flex-wrap:wrap;\n",
              "      gap: 12px;\n",
              "    }\n",
              "\n",
              "    .colab-df-convert {\n",
              "      background-color: #E8F0FE;\n",
              "      border: none;\n",
              "      border-radius: 50%;\n",
              "      cursor: pointer;\n",
              "      display: none;\n",
              "      fill: #1967D2;\n",
              "      height: 32px;\n",
              "      padding: 0 0 0 0;\n",
              "      width: 32px;\n",
              "    }\n",
              "\n",
              "    .colab-df-convert:hover {\n",
              "      background-color: #E2EBFA;\n",
              "      box-shadow: 0px 1px 2px rgba(60, 64, 67, 0.3), 0px 1px 3px 1px rgba(60, 64, 67, 0.15);\n",
              "      fill: #174EA6;\n",
              "    }\n",
              "\n",
              "    [theme=dark] .colab-df-convert {\n",
              "      background-color: #3B4455;\n",
              "      fill: #D2E3FC;\n",
              "    }\n",
              "\n",
              "    [theme=dark] .colab-df-convert:hover {\n",
              "      background-color: #434B5C;\n",
              "      box-shadow: 0px 1px 3px 1px rgba(0, 0, 0, 0.15);\n",
              "      filter: drop-shadow(0px 1px 2px rgba(0, 0, 0, 0.3));\n",
              "      fill: #FFFFFF;\n",
              "    }\n",
              "  </style>\n",
              "\n",
              "      <script>\n",
              "        const buttonEl =\n",
              "          document.querySelector('#df-d865cc2c-0fc1-4ea1-bfef-5ff3061b4229 button.colab-df-convert');\n",
              "        buttonEl.style.display =\n",
              "          google.colab.kernel.accessAllowed ? 'block' : 'none';\n",
              "\n",
              "        async function convertToInteractive(key) {\n",
              "          const element = document.querySelector('#df-d865cc2c-0fc1-4ea1-bfef-5ff3061b4229');\n",
              "          const dataTable =\n",
              "            await google.colab.kernel.invokeFunction('convertToInteractive',\n",
              "                                                     [key], {});\n",
              "          if (!dataTable) return;\n",
              "\n",
              "          const docLinkHtml = 'Like what you see? Visit the ' +\n",
              "            '<a target=\"_blank\" href=https://colab.research.google.com/notebooks/data_table.ipynb>data table notebook</a>'\n",
              "            + ' to learn more about interactive tables.';\n",
              "          element.innerHTML = '';\n",
              "          dataTable['output_type'] = 'display_data';\n",
              "          await google.colab.output.renderOutput(dataTable, element);\n",
              "          const docLink = document.createElement('div');\n",
              "          docLink.innerHTML = docLinkHtml;\n",
              "          element.appendChild(docLink);\n",
              "        }\n",
              "      </script>\n",
              "    </div>\n",
              "  </div>\n",
              "  "
            ]
          },
          "metadata": {},
          "execution_count": 22
        }
      ]
    },
    {
      "cell_type": "code",
      "source": [
        "r2_score( y_test, model.predict(X_test) )"
      ],
      "metadata": {
        "colab": {
          "base_uri": "https://localhost:8080/"
        },
        "id": "HWQOdxfSCLxD",
        "outputId": "812fcd21-a892-4f34-bcf6-98255aba374a"
      },
      "execution_count": 23,
      "outputs": [
        {
          "output_type": "execute_result",
          "data": {
            "text/plain": [
              "0.6997874979846255"
            ]
          },
          "metadata": {},
          "execution_count": 23
        }
      ]
    },
    {
      "cell_type": "code",
      "source": [
        "model.show_models()"
      ],
      "metadata": {
        "colab": {
          "base_uri": "https://localhost:8080/"
        },
        "id": "bhQJWL2YCXpw",
        "outputId": "e5c0cf60-4222-40ce-9286-17036efa4529"
      },
      "execution_count": 25,
      "outputs": [
        {
          "output_type": "execute_result",
          "data": {
            "text/plain": [
              "{4: {'cost': 0.1504361625311067,\n",
              "  'data_preprocessor': <autosklearn.pipeline.components.data_preprocessing.DataPreprocessorChoice at 0x7fa2ab2053d0>,\n",
              "  'ensemble_weight': 0.04,\n",
              "  'feature_preprocessor': <autosklearn.pipeline.components.feature_preprocessing.FeaturePreprocessorChoice at 0x7fa2a5193dd0>,\n",
              "  'model_id': 4,\n",
              "  'rank': 4,\n",
              "  'regressor': <autosklearn.pipeline.components.regression.RegressorChoice at 0x7fa2a24c9310>,\n",
              "  'sklearn_regressor': ARDRegression(alpha_1=0.0003701926442639788, alpha_2=2.2118001735899097e-07,\n",
              "                copy_X=False, lambda_1=1.2037591637980971e-06,\n",
              "                lambda_2=4.358378124977852e-09,\n",
              "                threshold_lambda=1136.5286041327277, tol=0.021944240404849075)},\n",
              " 7: {'cost': 0.07429624357405651,\n",
              "  'data_preprocessor': <autosklearn.pipeline.components.data_preprocessing.DataPreprocessorChoice at 0x7fa2aa5921d0>,\n",
              "  'ensemble_weight': 0.6,\n",
              "  'feature_preprocessor': <autosklearn.pipeline.components.feature_preprocessing.FeaturePreprocessorChoice at 0x7fa2a57e9710>,\n",
              "  'model_id': 7,\n",
              "  'rank': 1,\n",
              "  'regressor': <autosklearn.pipeline.components.regression.RegressorChoice at 0x7fa2a26e7110>,\n",
              "  'sklearn_regressor': ExtraTreesRegressor(criterion='mae', max_features=0.9029989558220115,\n",
              "                      n_estimators=512, n_jobs=1, random_state=0,\n",
              "                      warm_start=True)},\n",
              " 11: {'cost': 0.08739405427980429,\n",
              "  'data_preprocessor': <autosklearn.pipeline.components.data_preprocessing.DataPreprocessorChoice at 0x7fa2aa592b10>,\n",
              "  'ensemble_weight': 0.1,\n",
              "  'feature_preprocessor': <autosklearn.pipeline.components.feature_preprocessing.FeaturePreprocessorChoice at 0x7fa2a5163550>,\n",
              "  'model_id': 11,\n",
              "  'rank': 2,\n",
              "  'regressor': <autosklearn.pipeline.components.regression.RegressorChoice at 0x7fa2a26e7f50>,\n",
              "  'sklearn_regressor': HistGradientBoostingRegressor(l2_regularization=1.8428972335335263e-10,\n",
              "                                learning_rate=0.012607824914758717, max_iter=512,\n",
              "                                max_leaf_nodes=10, min_samples_leaf=8,\n",
              "                                n_iter_no_change=0, random_state=0,\n",
              "                                validation_fraction=None, warm_start=True)},\n",
              " 12: {'cost': 0.08820333149000859,\n",
              "  'data_preprocessor': <autosklearn.pipeline.components.data_preprocessing.DataPreprocessorChoice at 0x7fa2abd88e90>,\n",
              "  'ensemble_weight': 0.26,\n",
              "  'feature_preprocessor': <autosklearn.pipeline.components.feature_preprocessing.FeaturePreprocessorChoice at 0x7fa2a24aff10>,\n",
              "  'model_id': 12,\n",
              "  'rank': 3,\n",
              "  'regressor': <autosklearn.pipeline.components.regression.RegressorChoice at 0x7fa2a51637d0>,\n",
              "  'sklearn_regressor': HistGradientBoostingRegressor(l2_regularization=0.0018018055158809108,\n",
              "                                learning_rate=0.05048450688348591, max_iter=512,\n",
              "                                max_leaf_nodes=3, min_samples_leaf=1,\n",
              "                                n_iter_no_change=19, random_state=0,\n",
              "                                validation_fraction=0.19819612428903174,\n",
              "                                warm_start=True)}}"
            ]
          },
          "metadata": {},
          "execution_count": 25
        }
      ]
    },
    {
      "cell_type": "code",
      "source": [
        ""
      ],
      "metadata": {
        "id": "-1YJQXc9Cmtp"
      },
      "execution_count": null,
      "outputs": []
    }
  ]
}