{
 "cells": [
  {
   "cell_type": "code",
   "execution_count": 1,
   "id": "3e5ec01f",
   "metadata": {},
   "outputs": [],
   "source": [
    "import numpy as np"
   ]
  },
  {
   "cell_type": "code",
   "execution_count": 2,
   "id": "847edede",
   "metadata": {},
   "outputs": [],
   "source": [
    "# klasycznie filtrowanie\n",
    "numbers_list = [-1, 10, 15, 200, -200, 1000, 667, 997]"
   ]
  },
  {
   "cell_type": "code",
   "execution_count": 4,
   "id": "4529ecee",
   "metadata": {},
   "outputs": [
    {
     "data": {
      "text/plain": [
       "[10, 15, 200, 1000, 667, 997]"
      ]
     },
     "execution_count": 4,
     "metadata": {},
     "output_type": "execute_result"
    }
   ],
   "source": [
    "[x for x in numbers_list if x>0]"
   ]
  },
  {
   "cell_type": "code",
   "execution_count": 7,
   "id": "89e3e2b1",
   "metadata": {},
   "outputs": [
    {
     "data": {
      "text/plain": [
       "[10, 15, 200, 1000, 667, 997]"
      ]
     },
     "execution_count": 7,
     "metadata": {},
     "output_type": "execute_result"
    }
   ],
   "source": [
    "def only_positive(x):\n",
    "    return x>0\n",
    "\n",
    "list( filter( only_positive, numbers_list ) )"
   ]
  },
  {
   "cell_type": "code",
   "execution_count": 8,
   "id": "07f0d03f",
   "metadata": {},
   "outputs": [
    {
     "data": {
      "text/plain": [
       "[10, 15, 200, 1000, 667, 997]"
      ]
     },
     "execution_count": 8,
     "metadata": {},
     "output_type": "execute_result"
    }
   ],
   "source": [
    "list( filter( lambda x: x>0 , numbers_list ) )"
   ]
  },
  {
   "cell_type": "code",
   "execution_count": 10,
   "id": "3c228b4e",
   "metadata": {},
   "outputs": [
    {
     "data": {
      "text/plain": [
       "array([  -1,   10,   15,  200, -200, 1000,  667,  997])"
      ]
     },
     "execution_count": 10,
     "metadata": {},
     "output_type": "execute_result"
    }
   ],
   "source": [
    "arr = np.array(numbers_list)\n",
    "arr"
   ]
  },
  {
   "cell_type": "code",
   "execution_count": 12,
   "id": "fdd328e2",
   "metadata": {},
   "outputs": [
    {
     "data": {
      "text/plain": [
       "array([  10,   15,  200, 1000,  667,  997])"
      ]
     },
     "execution_count": 12,
     "metadata": {},
     "output_type": "execute_result"
    }
   ],
   "source": [
    "arr[ arr>0 ] "
   ]
  },
  {
   "cell_type": "code",
   "execution_count": 14,
   "id": "1841e2d9",
   "metadata": {},
   "outputs": [
    {
     "data": {
      "text/plain": [
       "[10, 15]"
      ]
     },
     "execution_count": 14,
     "metadata": {},
     "output_type": "execute_result"
    }
   ],
   "source": [
    "list( filter( lambda x: x>0 and x<100 , numbers_list ) )"
   ]
  },
  {
   "cell_type": "code",
   "execution_count": 17,
   "id": "7c3ea18c",
   "metadata": {},
   "outputs": [
    {
     "data": {
      "text/plain": [
       "array([10, 15])"
      ]
     },
     "execution_count": 17,
     "metadata": {},
     "output_type": "execute_result"
    }
   ],
   "source": [
    "arr[ (arr>0)&(arr<100) ]"
   ]
  },
  {
   "cell_type": "code",
   "execution_count": 18,
   "id": "49092840",
   "metadata": {},
   "outputs": [
    {
     "data": {
      "text/plain": [
       "[-1, 200, -200, 1000, 667, 997]"
      ]
     },
     "execution_count": 18,
     "metadata": {},
     "output_type": "execute_result"
    }
   ],
   "source": [
    "# < 0 lub > 100\n",
    "list( filter( lambda x: x<0 or x>100 , numbers_list ) )"
   ]
  },
  {
   "cell_type": "code",
   "execution_count": 20,
   "id": "e0e952af",
   "metadata": {},
   "outputs": [
    {
     "data": {
      "text/plain": [
       "array([  -1,  200, -200, 1000,  667,  997])"
      ]
     },
     "execution_count": 20,
     "metadata": {},
     "output_type": "execute_result"
    }
   ],
   "source": [
    "arr[ (arr<0)|(arr>100) ]"
   ]
  },
  {
   "cell_type": "code",
   "execution_count": 22,
   "id": "d190dfec",
   "metadata": {},
   "outputs": [
    {
     "data": {
      "text/plain": [
       "array([-1.,  3.,  4., nan,  5.,  6., nan])"
      ]
     },
     "execution_count": 22,
     "metadata": {},
     "output_type": "execute_result"
    }
   ],
   "source": [
    "arr = np.array([-1, 3, 4, np.NaN, 5, 6, np.NaN])\n",
    "arr"
   ]
  },
  {
   "cell_type": "code",
   "execution_count": 23,
   "id": "a49ed99c",
   "metadata": {},
   "outputs": [
    {
     "data": {
      "text/plain": [
       "nan"
      ]
     },
     "execution_count": 23,
     "metadata": {},
     "output_type": "execute_result"
    }
   ],
   "source": [
    "arr.sum()"
   ]
  },
  {
   "cell_type": "code",
   "execution_count": 27,
   "id": "f5de79c7",
   "metadata": {},
   "outputs": [
    {
     "data": {
      "text/plain": [
       "17.0"
      ]
     },
     "execution_count": 27,
     "metadata": {},
     "output_type": "execute_result"
    }
   ],
   "source": [
    "arr[ ~np.isnan(arr) ].sum()"
   ]
  },
  {
   "cell_type": "code",
   "execution_count": 28,
   "id": "8b08e879",
   "metadata": {},
   "outputs": [
    {
     "data": {
      "text/plain": [
       "17.0"
      ]
     },
     "execution_count": 28,
     "metadata": {},
     "output_type": "execute_result"
    }
   ],
   "source": [
    "np.sum( arr[ ~np.isnan(arr) ] )"
   ]
  },
  {
   "cell_type": "code",
   "execution_count": 30,
   "id": "18406e72",
   "metadata": {},
   "outputs": [
    {
     "data": {
      "text/plain": [
       "2"
      ]
     },
     "execution_count": 30,
     "metadata": {},
     "output_type": "execute_result"
    }
   ],
   "source": [
    "np.isnan(arr).sum()"
   ]
  },
  {
   "cell_type": "code",
   "execution_count": 32,
   "id": "e0b008a9",
   "metadata": {},
   "outputs": [
    {
     "data": {
      "text/plain": [
       "True"
      ]
     },
     "execution_count": 32,
     "metadata": {},
     "output_type": "execute_result"
    }
   ],
   "source": [
    "np.isnan(arr).any()"
   ]
  },
  {
   "cell_type": "code",
   "execution_count": 33,
   "id": "8773407d",
   "metadata": {},
   "outputs": [
    {
     "data": {
      "text/plain": [
       "False"
      ]
     },
     "execution_count": 33,
     "metadata": {},
     "output_type": "execute_result"
    }
   ],
   "source": [
    "np.isnan(arr).all()"
   ]
  },
  {
   "cell_type": "code",
   "execution_count": 34,
   "id": "f0124e03",
   "metadata": {},
   "outputs": [
    {
     "data": {
      "text/plain": [
       "'atok am alA'"
      ]
     },
     "execution_count": 34,
     "metadata": {},
     "output_type": "execute_result"
    }
   ],
   "source": [
    "s = \"Ala ma kota\"\n",
    "s[::-1]"
   ]
  },
  {
   "cell_type": "code",
   "execution_count": null,
   "id": "b2cfa620",
   "metadata": {},
   "outputs": [],
   "source": []
  }
 ],
 "metadata": {
  "kernelspec": {
   "display_name": "Python 3 (ipykernel)",
   "language": "python",
   "name": "python3"
  },
  "language_info": {
   "codemirror_mode": {
    "name": "ipython",
    "version": 3
   },
   "file_extension": ".py",
   "mimetype": "text/x-python",
   "name": "python",
   "nbconvert_exporter": "python",
   "pygments_lexer": "ipython3",
   "version": "3.9.7"
  }
 },
 "nbformat": 4,
 "nbformat_minor": 5
}
